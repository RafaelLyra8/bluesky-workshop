{
 "cells": [
  {
   "cell_type": "markdown",
   "metadata": {
    "slideshow": {
     "slide_type": "slide"
    }
   },
   "source": [
    "### Simulated Detectors\n",
    "\n",
    "\n",
    "| Detector   | Motor                          | Decription      | Center | Max | Sigma | Fly Scan Procedure |\n",
    "| --------   | -----                          | ----------      | ------ | --- | ----- | ------------------ |\n",
    "| noisy_det  | motor                          | Gaussian Signal | 0      | 1   | 1     |                    |\n",
    "| det        | motor                          | Gaussian Signal | 0      | 1   | 1     |                    |\n",
    "| det1       | motor1                         | Gaussian Signal | 0      | 5   | 0.5   |                    |\n",
    "| det2       | motor2                         | Gaussian Signal | 1      | 2   | 2     |                    |\n",
    "| det3       | motor3                         | Gaussian Signal | -1     | 2   | 1     |                    |\n",
    "| det4       | motor1, motor2                 | Gaussian Signal | (0, 0) | 1   |       |                    |\n",
    "| det5       | jittery_motor1, jittery_motor2 | Gaussian Signal | (0, 0) | 1   |       |                    |\n",
    "| flyer1     | motor                          | Fly Scan Signal |        |     |       | 20 acquisitions - motor goes from 1 to 5 |\n",
    "| flyer2     | motor                          | Fly Scan Signal |        |     |       | 10 acquisitions - motor goes from 1 to 5 |\n",
    "| rand       |                                | Random Signal   |        |     |       |                    |\n",
    "| rand2      |                                | Random Signal   |        |     |       |                    |\n",
    "\n"
   ]
  },
  {
   "cell_type": "code",
   "execution_count": 1,
   "metadata": {
    "slideshow": {
     "slide_type": "subslide"
    }
   },
   "outputs": [
    {
     "data": {
      "text/plain": [
       "<contextlib.ExitStack at 0x764857760b50>"
      ]
     },
     "execution_count": 1,
     "metadata": {},
     "output_type": "execute_result"
    }
   ],
   "source": [
    "%matplotlib qt\n",
    "from bluesky import RunEngine\n",
    "from bluesky.plans import count\n",
    "from bluesky.callbacks import LiveTable, LivePlot\n",
    "from ophyd.sim import noisy_det, jittery_motor1\n",
    "from matplotlib.pyplot import ion\n",
    "from bluesky.utils import install_nb_kicker\n",
    "install_nb_kicker()\n",
    "\n",
    "ion()"
   ]
  },
  {
   "cell_type": "markdown",
   "metadata": {
    "slideshow": {
     "slide_type": "slide"
    }
   },
   "source": [
    "## Ophyd details"
   ]
  },
  {
   "cell_type": "code",
   "execution_count": 2,
   "metadata": {
    "slideshow": {
     "slide_type": "fragment"
    }
   },
   "outputs": [
    {
     "data": {
      "text/plain": [
       "OrderedDict([('noisy_det',\n",
       "              {'source': 'SIM:noisy_det',\n",
       "               'dtype': 'number',\n",
       "               'shape': [],\n",
       "               'precision': 3})])"
      ]
     },
     "execution_count": 2,
     "metadata": {},
     "output_type": "execute_result"
    }
   ],
   "source": [
    "noisy_det.describe()"
   ]
  },
  {
   "cell_type": "code",
   "execution_count": 3,
   "metadata": {
    "slideshow": {
     "slide_type": "fragment"
    }
   },
   "outputs": [
    {
     "data": {
      "text/plain": [
       "OrderedDict([('noisy_det',\n",
       "              {'value': 0.9673674661223748, 'timestamp': 1724847909.2590265})])"
      ]
     },
     "execution_count": 3,
     "metadata": {},
     "output_type": "execute_result"
    }
   ],
   "source": [
    "noisy_det.read()"
   ]
  },
  {
   "cell_type": "code",
   "execution_count": 4,
   "metadata": {
    "slideshow": {
     "slide_type": "fragment"
    }
   },
   "outputs": [
    {
     "data": {
      "text/plain": [
       "OrderedDict([('noisy_det_Imax', {'value': 1, 'timestamp': 1724847909.2584765}),\n",
       "             ('noisy_det_center',\n",
       "              {'value': 0, 'timestamp': 1724847909.2584698}),\n",
       "             ('noisy_det_sigma',\n",
       "              {'value': 1, 'timestamp': 1724847909.2584848}),\n",
       "             ('noisy_det_noise',\n",
       "              {'value': 'uniform', 'timestamp': 1724847909.258491}),\n",
       "             ('noisy_det_noise_multiplier',\n",
       "              {'value': 0.1, 'timestamp': 1724847909.2584956})])"
      ]
     },
     "execution_count": 4,
     "metadata": {},
     "output_type": "execute_result"
    }
   ],
   "source": [
    "noisy_det.read_configuration()"
   ]
  },
  {
   "cell_type": "code",
   "execution_count": 5,
   "metadata": {
    "slideshow": {
     "slide_type": "subslide"
    }
   },
   "outputs": [
    {
     "name": "stdout",
     "output_type": "stream",
     "text": [
      "data keys (* hints)\n",
      "-------------------\n",
      "*noisy_det\n",
      "\n",
      "read attrs\n",
      "----------\n",
      "val                  SynSignal           ('noisy_det')\n",
      "\n",
      "config keys\n",
      "-----------\n",
      "noisy_det_Imax\n",
      "noisy_det_center\n",
      "noisy_det_noise\n",
      "noisy_det_noise_multiplier\n",
      "noisy_det_sigma\n",
      "\n",
      "configuration attrs\n",
      "-------------------\n",
      "Imax                 Signal              ('noisy_det_Imax')\n",
      "center               Signal              ('noisy_det_center')\n",
      "sigma                Signal              ('noisy_det_sigma')\n",
      "noise                EnumSignal          ('noisy_det_noise')\n",
      "noise_multiplier     Signal              ('noisy_det_noise_multiplier')\n",
      "\n",
      "unused attrs\n",
      "------------\n",
      "\n"
     ]
    }
   ],
   "source": [
    "noisy_det.summary()"
   ]
  },
  {
   "cell_type": "code",
   "execution_count": 6,
   "metadata": {
    "slideshow": {
     "slide_type": "slide"
    }
   },
   "outputs": [
    {
     "data": {
      "text/plain": [
       "OrderedDict([('jittery_motor1',\n",
       "              {'value': 0.07870848024441335, 'timestamp': 1724847909.2581263}),\n",
       "             ('jittery_motor1_setpoint',\n",
       "              {'value': 0, 'timestamp': 1724847909.2581122})])"
      ]
     },
     "execution_count": 6,
     "metadata": {},
     "output_type": "execute_result"
    }
   ],
   "source": [
    "jittery_motor1.read()"
   ]
  },
  {
   "cell_type": "code",
   "execution_count": 7,
   "metadata": {
    "slideshow": {
     "slide_type": "fragment"
    }
   },
   "outputs": [
    {
     "data": {
      "text/plain": [
       "OrderedDict([('jittery_motor1_velocity',\n",
       "              {'value': 1, 'timestamp': 1724847909.2581785}),\n",
       "             ('jittery_motor1_acceleration',\n",
       "              {'value': 1, 'timestamp': 1724847909.2581918})])"
      ]
     },
     "execution_count": 7,
     "metadata": {},
     "output_type": "execute_result"
    }
   ],
   "source": [
    "jittery_motor1.read_configuration()"
   ]
  },
  {
   "cell_type": "code",
   "execution_count": 8,
   "metadata": {
    "slideshow": {
     "slide_type": "subslide"
    }
   },
   "outputs": [
    {
     "name": "stdout",
     "output_type": "stream",
     "text": [
      "data keys (* hints)\n",
      "-------------------\n",
      "*jittery_motor1\n",
      " jittery_motor1_setpoint\n",
      "\n",
      "read attrs\n",
      "----------\n",
      "readback             _ReadbackSignal     ('jittery_motor1')\n",
      "setpoint             _SetpointSignal     ('jittery_motor1_setpoint')\n",
      "\n",
      "config keys\n",
      "-----------\n",
      "jittery_motor1_acceleration\n",
      "jittery_motor1_velocity\n",
      "\n",
      "configuration attrs\n",
      "-------------------\n",
      "velocity             Signal              ('jittery_motor1_velocity')\n",
      "acceleration         Signal              ('jittery_motor1_acceleration')\n",
      "\n",
      "unused attrs\n",
      "------------\n",
      "unused               Signal              ('jittery_motor1_unused')\n",
      "\n"
     ]
    }
   ],
   "source": [
    "jittery_motor1.summary()"
   ]
  },
  {
   "cell_type": "markdown",
   "metadata": {
    "slideshow": {
     "slide_type": "slide"
    }
   },
   "source": [
    "## Run Engine"
   ]
  },
  {
   "cell_type": "code",
   "execution_count": 9,
   "metadata": {
    "slideshow": {
     "slide_type": "fragment"
    }
   },
   "outputs": [],
   "source": [
    "RE = RunEngine()"
   ]
  },
  {
   "cell_type": "code",
   "execution_count": 10,
   "metadata": {
    "slideshow": {
     "slide_type": "subslide"
    }
   },
   "outputs": [
    {
     "name": "stdout",
     "output_type": "stream",
     "text": [
      "Help on function count in module bluesky.plans:\n",
      "\n",
      "count(detectors, num=1, delay=None, *, per_shot=None, md=None)\n",
      "    Take one or more readings from detectors.\n",
      "    \n",
      "    Parameters\n",
      "    ----------\n",
      "    detectors : list\n",
      "        list of 'readable' objects\n",
      "    num : integer, optional\n",
      "        number of readings to take; default is 1\n",
      "    \n",
      "        If None, capture data until canceled\n",
      "    delay : iterable or scalar, optional\n",
      "        Time delay in seconds between successive readings; default is 0.\n",
      "    per_shot : callable, optional\n",
      "        hook for customizing action of inner loop (messages per step)\n",
      "        Expected signature ::\n",
      "    \n",
      "           def f(detectors: Iterable[OphydObj]) -> Generator[Msg]:\n",
      "               ...\n",
      "    \n",
      "    md : dict, optional\n",
      "        metadata\n",
      "    \n",
      "    Notes\n",
      "    -----\n",
      "    If ``delay`` is an iterable, it must have at least ``num - 1`` entries or\n",
      "    the plan will raise a ``ValueError`` during iteration.\n",
      "\n"
     ]
    }
   ],
   "source": [
    "help(count)"
   ]
  },
  {
   "cell_type": "markdown",
   "metadata": {
    "slideshow": {
     "slide_type": "slide"
    }
   },
   "source": [
    "## Count"
   ]
  },
  {
   "cell_type": "code",
   "execution_count": 11,
   "metadata": {
    "slideshow": {
     "slide_type": "fragment"
    }
   },
   "outputs": [
    {
     "name": "stdout",
     "output_type": "stream",
     "text": [
      "\n",
      "\n",
      "+-----------+------------+------------+\n",
      "|   seq_num |       time |  noisy_det |\n",
      "+-----------+------------+------------+\n",
      "|         1 | 09:25:09.3 |      0.989 |\n",
      "|         2 | 09:25:10.3 |      0.912 |\n",
      "|         3 | 09:25:11.3 |      1.001 |\n",
      "|         4 | 09:25:12.3 |      1.089 |\n",
      "|         5 | 09:25:13.3 |      1.080 |\n",
      "+-----------+------------+------------+\n",
      "generator count ['4f86190f'] (scan num: 1)\n",
      "\n",
      "\n"
     ]
    },
    {
     "data": {
      "text/plain": [
       "('4f86190f-3a51-4022-93c7-fbbfae04d0c6',)"
      ]
     },
     "execution_count": 11,
     "metadata": {},
     "output_type": "execute_result"
    }
   ],
   "source": [
    "RE(\n",
    "    count([noisy_det], num=5, delay=1),\n",
    "    LiveTable([\"noisy_det\"]))"
   ]
  },
  {
   "cell_type": "code",
   "execution_count": 12,
   "metadata": {
    "slideshow": {
     "slide_type": "subslide"
    }
   },
   "outputs": [
    {
     "data": {
      "text/plain": [
       "('d14fc42d-d9c7-4f00-a49a-0f8d10cdcbf9',)"
      ]
     },
     "execution_count": 12,
     "metadata": {},
     "output_type": "execute_result"
    }
   ],
   "source": [
    "RE(\n",
    "    count([noisy_det], num=15, delay=0.1),\n",
    "    LivePlot(y=\"noisy_det\"))"
   ]
  }
 ],
 "metadata": {
  "celltoolbar": "Slideshow",
  "kernelspec": {
   "display_name": "Python 3 (ipykernel)",
   "language": "python",
   "name": "python3"
  },
  "language_info": {
   "codemirror_mode": {
    "name": "ipython",
    "version": 3
   },
   "file_extension": ".py",
   "mimetype": "text/x-python",
   "name": "python",
   "nbconvert_exporter": "python",
   "pygments_lexer": "ipython3",
   "version": "3.9.2"
  }
 },
 "nbformat": 4,
 "nbformat_minor": 2
}
