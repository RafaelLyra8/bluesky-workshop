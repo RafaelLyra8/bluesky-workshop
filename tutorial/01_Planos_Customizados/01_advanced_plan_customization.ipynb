{
 "cells": [
  {
   "cell_type": "code",
   "execution_count": 11,
   "metadata": {
    "slideshow": {
     "slide_type": "slide"
    }
   },
   "outputs": [],
   "source": [
    "%matplotlib qt\n",
    "from bluesky import RunEngine\n",
    "from bluesky.callbacks import LiveGrid\n",
    "from bluesky.plans import grid_scan\n",
    "from bluesky.plan_stubs import kickoff, complete, collect, \\\n",
    "    open_run, close_run, mv, one_nd_step, trigger_and_read, move_per_step\n",
    "from ophyd import Device\n",
    "from ophyd.flyers import FlyerInterface\n",
    "from ophyd.status import SubscriptionStatus\n",
    "from ophyd.sim import motor1, motor2, det4\n",
    "from matplotlib.pyplot import ion\n",
    "from bluesky.utils import install_nb_kicker\n",
    "install_nb_kicker()\n",
    "\n",
    "ion()\n",
    "RE = RunEngine()"
   ]
  },
  {
   "cell_type": "markdown",
   "metadata": {
    "slideshow": {
     "slide_type": "slide"
    }
   },
   "source": [
    "## Fly Scan"
   ]
  },
  {
   "cell_type": "code",
   "execution_count": 2,
   "metadata": {
    "slideshow": {
     "slide_type": "fragment"
    }
   },
   "outputs": [],
   "source": [
    "class FlyerDevice(FlyerInterface, Device):\n",
    "    \n",
    "    def kickoff(self):\n",
    "        print(\"Start asynchronous task\")\n",
    "        return motor1.set(3)\n",
    "\n",
    "    def fly_monitor(self, **kwargs):\n",
    "        position = kwargs[\"obj\"].readback.get()\n",
    "        print(f\"Monitoring: {position}\")\n",
    "        if position == 3:\n",
    "            return True\n",
    "        return False\n",
    "\n",
    "    def complete(self):\n",
    "        return SubscriptionStatus(motor1, callback=self.fly_monitor)\n",
    "    \n",
    "    def describe_collect(self):\n",
    "        return {\"decription\": {}}\n",
    "    \n",
    "    def collect(self):\n",
    "        print(\"Collecting data after scan\")\n",
    "        return [{\"data\": {}, \"timestamps\": {}, \"time\": 0, \"seq_num\": 0}]"
   ]
  },
  {
   "cell_type": "code",
   "execution_count": 3,
   "metadata": {
    "scrolled": true,
    "slideshow": {
     "slide_type": "fragment"
    }
   },
   "outputs": [
    {
     "name": "stdout",
     "output_type": "stream",
     "text": [
      "Start asynchronous task\n",
      "Monitoring: 3.0\n",
      "Collecting data after scan\n"
     ]
    },
    {
     "data": {
      "text/plain": [
       "('bf336d4c-facd-452e-99b4-674a123a8afe',)"
      ]
     },
     "execution_count": 3,
     "metadata": {},
     "output_type": "execute_result"
    }
   ],
   "source": [
    "def flyscan(flyer):\n",
    "    yield from open_run()\n",
    "    yield from kickoff(flyer, wait=True)\n",
    "    yield from complete(flyer, wait=True)\n",
    "    yield from collect(flyer)\n",
    "    yield from close_run()\n",
    "    \n",
    "flyer_device = FlyerDevice(name=\"flyer_device\")\n",
    "RE(mv(motor1, 5))\n",
    "RE(flyscan(flyer_device))"
   ]
  },
  {
   "cell_type": "markdown",
   "metadata": {
    "slideshow": {
     "slide_type": "slide"
    }
   },
   "source": [
    "## per_step"
   ]
  },
  {
   "cell_type": "code",
   "execution_count": 24,
   "metadata": {
    "slideshow": {
     "slide_type": "subslide"
    }
   },
   "outputs": [],
   "source": [
    "def custom_step(detectors, step, pos_cache):\n",
    "    print(\"--------------------------\")\n",
    "    print(f\"Grid step: {step.values()}\")\n",
    "    print(\"Before plan step\")\n",
    "    yield from one_nd_step(detectors, step, pos_cache)\n",
    "    print(\"After plan step\")"
   ]
  },
  {
   "cell_type": "code",
   "execution_count": 25,
   "metadata": {
    "scrolled": true,
    "slideshow": {
     "slide_type": "fragment"
    }
   },
   "outputs": [
    {
     "name": "stdout",
     "output_type": "stream",
     "text": [
      "--------------------------\n",
      "Grid step: dict_values([-1.0, -2.0])\n",
      "Before plan step\n",
      "After plan step\n",
      "--------------------------\n",
      "Grid step: dict_values([-1.0, -1.0])\n",
      "Before plan step\n",
      "After plan step\n",
      "--------------------------\n",
      "Grid step: dict_values([-1.0, 0.0])\n",
      "Before plan step\n",
      "After plan step\n",
      "--------------------------\n",
      "Grid step: dict_values([-1.0, 1.0])\n",
      "Before plan step\n",
      "After plan step\n",
      "--------------------------\n",
      "Grid step: dict_values([-1.0, 2.0])\n",
      "Before plan step\n",
      "After plan step\n",
      "--------------------------\n",
      "Grid step: dict_values([-0.5, -2.0])\n",
      "Before plan step\n",
      "After plan step\n",
      "--------------------------\n",
      "Grid step: dict_values([-0.5, -1.0])\n",
      "Before plan step\n",
      "After plan step\n",
      "--------------------------\n",
      "Grid step: dict_values([-0.5, 0.0])\n",
      "Before plan step\n",
      "After plan step\n",
      "--------------------------\n",
      "Grid step: dict_values([-0.5, 1.0])\n",
      "Before plan step\n",
      "After plan step\n",
      "--------------------------\n",
      "Grid step: dict_values([-0.5, 2.0])\n",
      "Before plan step\n",
      "After plan step\n",
      "--------------------------\n",
      "Grid step: dict_values([0.0, -2.0])\n",
      "Before plan step\n",
      "After plan step\n",
      "--------------------------\n",
      "Grid step: dict_values([0.0, -1.0])\n",
      "Before plan step\n",
      "After plan step\n",
      "--------------------------\n",
      "Grid step: dict_values([0.0, 0.0])\n",
      "Before plan step\n",
      "After plan step\n",
      "--------------------------\n",
      "Grid step: dict_values([0.0, 1.0])\n",
      "Before plan step\n",
      "After plan step\n",
      "--------------------------\n",
      "Grid step: dict_values([0.0, 2.0])\n",
      "Before plan step\n",
      "After plan step\n",
      "--------------------------\n",
      "Grid step: dict_values([0.5, -2.0])\n",
      "Before plan step\n",
      "After plan step\n",
      "--------------------------\n",
      "Grid step: dict_values([0.5, -1.0])\n",
      "Before plan step\n",
      "After plan step\n",
      "--------------------------\n",
      "Grid step: dict_values([0.5, 0.0])\n",
      "Before plan step\n",
      "After plan step\n",
      "--------------------------\n",
      "Grid step: dict_values([0.5, 1.0])\n",
      "Before plan step\n",
      "After plan step\n",
      "--------------------------\n",
      "Grid step: dict_values([0.5, 2.0])\n",
      "Before plan step\n",
      "After plan step\n",
      "--------------------------\n",
      "Grid step: dict_values([1.0, -2.0])\n",
      "Before plan step\n",
      "After plan step\n",
      "--------------------------\n",
      "Grid step: dict_values([1.0, -1.0])\n",
      "Before plan step\n",
      "After plan step\n",
      "--------------------------\n",
      "Grid step: dict_values([1.0, 0.0])\n",
      "Before plan step\n",
      "After plan step\n",
      "--------------------------\n",
      "Grid step: dict_values([1.0, 1.0])\n",
      "Before plan step\n",
      "After plan step\n",
      "--------------------------\n",
      "Grid step: dict_values([1.0, 2.0])\n",
      "Before plan step\n",
      "After plan step\n"
     ]
    },
    {
     "data": {
      "text/plain": [
       "('a05ca109-8352-47a5-8e45-98321ee36054',)"
      ]
     },
     "execution_count": 25,
     "metadata": {},
     "output_type": "execute_result"
    }
   ],
   "source": [
    "RE(\n",
    "    grid_scan([det4], motor1, -1, 1, 5, motor2, -2, 2, 5, per_step=custom_step),\n",
    "    LiveGrid((5, 5), 'det4'))"
   ]
  },
  {
   "cell_type": "markdown",
   "metadata": {
    "slideshow": {
     "slide_type": "subslide"
    }
   },
   "source": [
    "- trigger_and_read: Triggera e lê uma lista de detectores e motores e armazena seus valores.\n",
    "- move_per_step: Envia setpoints para vários dispositivos que permitem ser setados e espera eles chegaram na posição.\n",
    "- one_shot: Step para o plano 'count'\n",
    "- one_1d_step: Step para planos com 1 Dimensão\n",
    "- one_nd_step: Step para planos com N Dimensões"
   ]
  },
  {
   "cell_type": "code",
   "execution_count": null,
   "metadata": {
    "slideshow": {
     "slide_type": "fragment"
    }
   },
   "outputs": [],
   "source": [
    "def one_shot(detectors, motor, step):\n",
    "    yield from trigger_and_read(list(detectors) + [motor])"
   ]
  },
  {
   "cell_type": "code",
   "execution_count": null,
   "metadata": {
    "slideshow": {
     "slide_type": "fragment"
    }
   },
   "outputs": [],
   "source": [
    "def one_1d_step(detectors, motor, step):\n",
    "    yield from move()\n",
    "    yield from trigger_and_read(list(detectors) + [motor])"
   ]
  },
  {
   "cell_type": "code",
   "execution_count": null,
   "metadata": {
    "slideshow": {
     "slide_type": "fragment"
    }
   },
   "outputs": [],
   "source": [
    "def one_nd_step(detectors, step, pos_cache):\n",
    "    yield from move_per_step(step, pos_cache)\n",
    "    yield from trigger_and_read(list(detectors) + list(motors))"
   ]
  }
 ],
 "metadata": {
  "celltoolbar": "Slideshow",
  "kernelspec": {
   "display_name": "Python 3 (ipykernel)",
   "language": "python",
   "name": "python3"
  },
  "language_info": {
   "codemirror_mode": {
    "name": "ipython",
    "version": 3
   },
   "file_extension": ".py",
   "mimetype": "text/x-python",
   "name": "python",
   "nbconvert_exporter": "python",
   "pygments_lexer": "ipython3",
   "version": "3.9.2"
  },
  "rise": {
   "enable_chalkboard": true,
   "start_slideshow_at": "beginning",
   "theme": "sky"
  }
 },
 "nbformat": 4,
 "nbformat_minor": 2
}
