{
 "cells": [
  {
   "cell_type": "code",
   "execution_count": 1,
   "metadata": {
    "slideshow": {
     "slide_type": "slide"
    }
   },
   "outputs": [],
   "source": [
    "%matplotlib qt\n",
    "from bluesky import RunEngine\n",
    "from bluesky.plan_stubs import kickoff, complete, collect, \\\n",
    "    open_run, close_run, mv\n",
    "from ophyd import Device\n",
    "from ophyd.flyers import FlyerInterface\n",
    "from ophyd.status import SubscriptionStatus\n",
    "from ophyd.sim import motor1\n",
    "from matplotlib.pyplot import ion\n",
    "from bluesky.utils import install_nb_kicker\n",
    "install_nb_kicker()\n",
    "\n",
    "ion()\n",
    "RE = RunEngine()"
   ]
  },
  {
   "cell_type": "markdown",
   "metadata": {
    "slideshow": {
     "slide_type": "slide"
    }
   },
   "source": [
    "## Fly Scan"
   ]
  },
  {
   "cell_type": "code",
   "execution_count": 2,
   "metadata": {
    "slideshow": {
     "slide_type": "fragment"
    }
   },
   "outputs": [],
   "source": [
    "class FlyerDevice(FlyerInterface, Device):\n",
    "    \n",
    "    def kickoff(self):\n",
    "        print(\"Start asynchronous task\")\n",
    "        return motor1.set(3)\n",
    "\n",
    "    def fly_monitor(self, **kwargs):\n",
    "        position = kwargs[\"obj\"].readback.get()\n",
    "        print(f\"Monitoring: {position}\")\n",
    "        if position == 3:\n",
    "            return True\n",
    "        return False\n",
    "\n",
    "    def complete(self):\n",
    "        return SubscriptionStatus(motor1, callback=self.fly_monitor)\n",
    "    \n",
    "    def describe_collect(self):\n",
    "        return {\"decription\": {}}\n",
    "    \n",
    "    def collect(self):\n",
    "        print(\"Collecting data after scan\")\n",
    "        return [{\"data\": {}, \"timestamps\": {}, \"time\": 0, \"seq_num\": 0}]"
   ]
  },
  {
   "cell_type": "code",
   "execution_count": 3,
   "metadata": {
    "slideshow": {
     "slide_type": "fragment"
    }
   },
   "outputs": [
    {
     "name": "stdout",
     "output_type": "stream",
     "text": [
      "Start asynchronous task\n",
      "Monitoring: 3.0\n",
      "Collecting data after scan\n"
     ]
    },
    {
     "data": {
      "text/plain": [
       "('bf336d4c-facd-452e-99b4-674a123a8afe',)"
      ]
     },
     "execution_count": 3,
     "metadata": {},
     "output_type": "execute_result"
    }
   ],
   "source": [
    "def flyscan(flyer):\n",
    "    yield from open_run()\n",
    "    yield from kickoff(flyer, wait=True)\n",
    "    yield from complete(flyer, wait=True)\n",
    "    yield from collect(flyer)\n",
    "    yield from close_run()\n",
    "    \n",
    "flyer_device = FlyerDevice(name=\"flyer_device\")\n",
    "RE(mv(motor1, 5))\n",
    "RE(flyscan(flyer_device))"
   ]
  },
  {
   "cell_type": "code",
   "execution_count": 4,
   "metadata": {},
   "outputs": [
    {
     "ename": "SyntaxError",
     "evalue": "invalid syntax (2366441638.py, line 1)",
     "output_type": "error",
     "traceback": [
      "\u001b[0;36m  Cell \u001b[0;32mIn[4], line 1\u001b[0;36m\u001b[0m\n\u001b[0;31m    Standard plans: per_step\u001b[0m\n\u001b[0m             ^\u001b[0m\n\u001b[0;31mSyntaxError\u001b[0m\u001b[0;31m:\u001b[0m invalid syntax\n"
     ]
    }
   ],
   "source": [
    "Standard plans: per_step\n",
    "\n",
    "\n",
    "Combinations of the above that are often convenient:\n",
    "\n",
    "trigger_and_read(devices[, name])\n",
    "\t\n",
    "\n",
    "Trigger and read a list of detectors and bundle readings into one Event.\n",
    "\n",
    "one_1d_step(detectors, motor, step[, ...])\n",
    "\t\n",
    "\n",
    "Inner loop of a 1D step scan\n",
    "\n",
    "one_nd_step(detectors, step, pos_cache[, ...])\n",
    "\t\n",
    "\n",
    "Inner loop of an N-dimensional step scan\n",
    "\n",
    "one_shot(detectors[, take_reading])\n",
    "\t\n",
    "\n",
    "Inner loop of a count.\n",
    "\n",
    "move_per_step(step, pos_cache)\n",
    "\t\n",
    "\n",
    "Inner loop of an N-dimensional step scan without any readings"
   ]
  }
 ],
 "metadata": {
  "celltoolbar": "Slideshow",
  "kernelspec": {
   "display_name": "Python 3 (ipykernel)",
   "language": "python",
   "name": "python3"
  },
  "language_info": {
   "codemirror_mode": {
    "name": "ipython",
    "version": 3
   },
   "file_extension": ".py",
   "mimetype": "text/x-python",
   "name": "python",
   "nbconvert_exporter": "python",
   "pygments_lexer": "ipython3",
   "version": "3.9.2"
  },
  "rise": {
   "enable_chalkboard": true,
   "start_slideshow_at": "beginning",
   "theme": "sky"
  }
 },
 "nbformat": 4,
 "nbformat_minor": 2
}
