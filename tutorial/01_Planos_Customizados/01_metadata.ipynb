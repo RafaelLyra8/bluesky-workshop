{
 "cells": [
  {
   "cell_type": "markdown",
   "id": "a65d6989",
   "metadata": {},
   "source": [
    "metadata on standard plans"
   ]
  },
  {
   "cell_type": "markdown",
   "id": "4ecfe382",
   "metadata": {},
   "source": [
    "Preprocessors -> What is a decorator\n",
    "\n",
    "relative_set_decorator: Interpret 'set' messages on devices as relative to initial position.\n",
    "\n",
    "reset_positions_decorator: Return movable devices to their initial positions at the end.\n",
    "\n",
    "run_decorator: Enclose in 'open_run' and 'close_run' messages.\n",
    "\n",
    "stage_decorator: 'Stage' devices (i.e., prepare them for use, 'arm' them) and then unstage."
   ]
  },
  {
   "cell_type": "markdown",
   "id": "22cc38fd",
   "metadata": {},
   "source": [
    "open_run: Mark the beginning of a new 'run'.\n",
    "\n",
    "close_run: Mark the end of the current 'run'.\n",
    "\n",
    "create: Bundle future readings into a new Event document.\n",
    "\n",
    "save: Close a bundle of readings and emit a completed Event document.\n",
    "\n",
    "drop: Drop a bundle of readings without emitting a completed Event document.\n",
    "\n",
    "subscribe: Subscribe the stream of emitted documents.\n",
    "\n",
    "unsubscribe: Remove a subscription."
   ]
  },
  {
   "cell_type": "markdown",
   "id": "6c157536",
   "metadata": {},
   "source": [
    "Preprocessors -> What is a decorator\n",
    "\n",
    "relative_set_decorator: Interpret 'set' messages on devices as relative to initial position.\n",
    "\n",
    "reset_positions_decorator: Return movable devices to their initial positions at the end.\n",
    "\n",
    "run_decorator: Enclose in 'open_run' and 'close_run' messages.\n",
    "\n",
    "stage_decorator: 'Stage' devices (i.e., prepare them for use, 'arm' them) and then unstage."
   ]
  },
  {
   "cell_type": "markdown",
   "id": "fb339439",
   "metadata": {},
   "source": [
    "Suplemental Data\n",
    "\n",
    "\n",
    "\n",
    "baseline_wrapper()\n",
    "\n",
    "monitor_during_wrapper()\n",
    "\n",
    "fly_during_wrapper()"
   ]
  }
 ],
 "metadata": {
  "kernelspec": {
   "display_name": "Python 3 (ipykernel)",
   "language": "python",
   "name": "python3"
  },
  "language_info": {
   "codemirror_mode": {
    "name": "ipython",
    "version": 3
   },
   "file_extension": ".py",
   "mimetype": "text/x-python",
   "name": "python",
   "nbconvert_exporter": "python",
   "pygments_lexer": "ipython3",
   "version": "3.9.2"
  }
 },
 "nbformat": 4,
 "nbformat_minor": 5
}
