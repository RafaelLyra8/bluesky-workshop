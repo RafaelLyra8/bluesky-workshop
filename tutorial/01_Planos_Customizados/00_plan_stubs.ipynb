{
 "cells": [
  {
   "cell_type": "markdown",
   "metadata": {
    "slideshow": {
     "slide_type": "slide"
    }
   },
   "source": [
    "## Stub Plans "
   ]
  },
  {
   "cell_type": "markdown",
   "metadata": {
    "slideshow": {
     "slide_type": "fragment"
    }
   },
   "source": [
    "### Links Úteis\n",
    "\n",
    "- Documentação dos plan stubs: https://blueskyproject.io/bluesky/main/plans.html#stub-plans\n",
    "\n",
    "- Documentação da customização de planos com per_step: https://blueskyproject.io/bluesky/main/plans.html#customize-step-scans-with-per-step\n",
    "\n",
    "- Documentação da utilização de metadados: https://blueskyproject.io/bluesky/main/metadata.html\n",
    "\n",
    "- Documentação dos preprocessors: https://blueskyproject.io/bluesky/main/plans.html#plan-preprocessors"
   ]
  },
  {
   "cell_type": "code",
   "execution_count": 53,
   "metadata": {
    "slideshow": {
     "slide_type": "subslide"
    }
   },
   "outputs": [],
   "source": [
    "%matplotlib qt\n",
    "from bluesky import RunEngine\n",
    "from bluesky.plan_stubs import abs_set, mv\n",
    "from ophyd.sim import noisy_det, motor1\n",
    "from matplotlib.pyplot import ion\n",
    "from bluesky.utils import install_nb_kicker\n",
    "install_nb_kicker()\n",
    "\n",
    "ion()\n",
    "RE = RunEngine()"
   ]
  },
  {
   "cell_type": "markdown",
   "metadata": {},
   "source": [
    "-- Ophyd Status --\n",
    "\n",
    "abs_set: Set a value.\n",
    "\n",
    "rel_set: Set a value relative to current value.\n",
    "\n",
    "mv: Move one or more devices to a setpoint.\n",
    "\n",
    "mvr: Move one or more devices to a relative setpoint.\n",
    "\n",
    "trigger: Trigger and acquisition.\n",
    "\n",
    "read: Take a reading and add it to the current bundle of readings.\n",
    "\n",
    "rd: Reads a single-value non-triggered object\n",
    "\n",
    "stage: 'Stage' a device (i.e., prepare it for use, 'arm' it).\n",
    "\n",
    "unstage: 'Unstage' a device (i.e., put it in standby, 'disarm' it).\n",
    "\n",
    "stop: Stop a device.\n",
    "\n",
    "pause: Pause and wait for the user to resume.\n",
    "\n",
    "deferred_pause: Pause at the next checkpoint.\n",
    "\n",
    "sleep: Tell the RunEngine to sleep, while asynchronously doing other processing.\n",
    "\n",
    "checkpoint: If interrupted, rewind to this point.\n",
    "\n",
    "clear_checkpoint: Designate that it is not safe to resume.\n",
    "\n",
    "repeat(plan[, num, delay]): Repeat a plan num times with delay and checkpoint between each repeat."
   ]
  },
  {
   "cell_type": "markdown",
   "metadata": {},
   "source": [
    "Standard plans: per_step\n",
    "\n",
    "\n",
    "Combinations of the above that are often convenient:\n",
    "\n",
    "trigger_and_read(devices[, name])\n",
    "\t\n",
    "\n",
    "Trigger and read a list of detectors and bundle readings into one Event.\n",
    "\n",
    "one_1d_step(detectors, motor, step[, ...])\n",
    "\t\n",
    "\n",
    "Inner loop of a 1D step scan\n",
    "\n",
    "one_nd_step(detectors, step, pos_cache[, ...])\n",
    "\t\n",
    "\n",
    "Inner loop of an N-dimensional step scan\n",
    "\n",
    "one_shot(detectors[, take_reading])\n",
    "\t\n",
    "\n",
    "Inner loop of a count.\n",
    "\n",
    "move_per_step(step, pos_cache)\n",
    "\t\n",
    "\n",
    "Inner loop of an N-dimensional step scan without any readings"
   ]
  },
  {
   "cell_type": "markdown",
   "metadata": {},
   "source": [
    "Fly Scan\n",
    "\n",
    "\n",
    "Plans for asynchronous acquisition:\n",
    "\n",
    "monitor: Asynchronously monitor for new values and emit Event documents.\n",
    "\n",
    "unmonitor: Stop monitoring.\n",
    "\n",
    "kickoff: Kickoff one fly-scanning device.\n",
    "\n",
    "complete: Tell a flyable, 'stop collecting, whenever you are ready'.\n",
    "\n",
    "collect: Collect data cached by one or more fly-scanning devices and emit documents.\n"
   ]
  }
 ],
 "metadata": {
  "kernelspec": {
   "display_name": "Python 3 (ipykernel)",
   "language": "python",
   "name": "python3"
  },
  "language_info": {
   "codemirror_mode": {
    "name": "ipython",
    "version": 3
   },
   "file_extension": ".py",
   "mimetype": "text/x-python",
   "name": "python",
   "nbconvert_exporter": "python",
   "pygments_lexer": "ipython3",
   "version": "3.9.2"
  }
 },
 "nbformat": 4,
 "nbformat_minor": 2
}
