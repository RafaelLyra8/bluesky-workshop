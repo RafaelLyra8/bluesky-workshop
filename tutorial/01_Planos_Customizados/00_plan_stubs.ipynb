{
 "cells": [
  {
   "cell_type": "markdown",
   "metadata": {
    "slideshow": {
     "slide_type": "slide"
    }
   },
   "source": [
    "## Stub Plans "
   ]
  },
  {
   "cell_type": "markdown",
   "metadata": {
    "slideshow": {
     "slide_type": "fragment"
    }
   },
   "source": [
    "### Links Úteis\n",
    "\n",
    "- Documentação dos plan stubs: https://blueskyproject.io/bluesky/main/plans.html#stub-plans\n",
    "\n",
    "- Documentação da customização de planos com per_step: https://blueskyproject.io/bluesky/main/plans.html#customize-step-scans-with-per-step\n",
    "\n",
    "- Documentação da utilização de metadados: https://blueskyproject.io/bluesky/main/metadata.html\n",
    "\n",
    "- Documentação dos preprocessors: https://blueskyproject.io/bluesky/main/plans.html#plan-preprocessors"
   ]
  },
  {
   "cell_type": "code",
   "execution_count": 1,
   "metadata": {
    "slideshow": {
     "slide_type": "subslide"
    }
   },
   "outputs": [],
   "source": [
    "%matplotlib qt\n",
    "from time import time\n",
    "from bluesky import RunEngine\n",
    "from bluesky.plans import count\n",
    "from bluesky.callbacks import LiveTable\n",
    "from bluesky.plan_stubs import abs_set, rel_set, mv, mvr, \\\n",
    "    stage, unstage, stop, pause, deferred_pause, sleep, \\\n",
    "    checkpoint, clear_checkpoint, repeat, trigger_and_read, \\\n",
    "    open_run, close_run\n",
    "from ophyd import Device\n",
    "from ophyd.sim import noisy_det, motor1, motor2\n",
    "from matplotlib.pyplot import ion\n",
    "from bluesky.utils import install_nb_kicker\n",
    "install_nb_kicker()\n",
    "\n",
    "ion()\n",
    "RE = RunEngine()"
   ]
  },
  {
   "cell_type": "markdown",
   "metadata": {
    "slideshow": {
     "slide_type": "subslide"
    }
   },
   "source": [
    "#### Getting values from ophyd objects"
   ]
  },
  {
   "cell_type": "code",
   "execution_count": null,
   "metadata": {
    "slideshow": {
     "slide_type": "fragment"
    }
   },
   "outputs": [],
   "source": [
    "print(f\"Read: {motor1.read()}\")\n",
    "print()\n",
    "print(f\"Configuration: {motor1.read_configuration()}\")\n",
    "print()\n",
    "print(f\"Get Device: {motor1.get()}\")\n",
    "print()\n",
    "print(f\"Get Readback: {motor1.readback.get()}\")"
   ]
  },
  {
   "cell_type": "markdown",
   "metadata": {
    "slideshow": {
     "slide_type": "slide"
    }
   },
   "source": [
    "## mv and abs_set"
   ]
  },
  {
   "cell_type": "code",
   "execution_count": null,
   "metadata": {
    "slideshow": {
     "slide_type": "fragment"
    }
   },
   "outputs": [],
   "source": [
    "#help(abs_set)\n",
    "#help(mv)"
   ]
  },
  {
   "cell_type": "code",
   "execution_count": null,
   "metadata": {
    "slideshow": {
     "slide_type": "subslide"
    }
   },
   "outputs": [],
   "source": [
    "RE(mv(motor1, 0))\n",
    "motor1.delay = 2\n",
    "print(f\"Before: {motor1.read()}\")\n",
    "RE(abs_set(motor1, 15))\n",
    "print(f\"After: {motor1.read()}\")\n",
    "motor1.delay = 0"
   ]
  },
  {
   "cell_type": "code",
   "execution_count": null,
   "metadata": {
    "slideshow": {
     "slide_type": "fragment"
    }
   },
   "outputs": [],
   "source": [
    "RE(mv(motor1, 0))\n",
    "motor1.delay = 2\n",
    "print(f\"Before: {motor1.read()}\")\n",
    "RE(abs_set(motor1, 15, wait=True))\n",
    "print(f\"After: {motor1.read()}\")\n",
    "motor1.delay = 0"
   ]
  },
  {
   "cell_type": "code",
   "execution_count": null,
   "metadata": {
    "slideshow": {
     "slide_type": "subslide"
    }
   },
   "outputs": [],
   "source": [
    "RE(mv(motor1, 0, motor2, 0))\n",
    "motor1.delay = 2\n",
    "motor2.delay = 4\n",
    "print(f\"Before : {motor1.readback.get()}\")\n",
    "print(f\"Before motor2: {motor1.readback.get()}\")\n",
    "start = time()\n",
    "RE(mv(motor1, 4, motor2, 15))\n",
    "end = time()\n",
    "print(f\"After motor1: {motor1.readback.get()}\")\n",
    "print(f\"After motor2: {motor2.readback.get()}\")\n",
    "print(f\"Duration: {end - start}\")\n",
    "motor1.delay = 0\n",
    "motor2.delay = 0"
   ]
  },
  {
   "cell_type": "markdown",
   "metadata": {
    "slideshow": {
     "slide_type": "slide"
    }
   },
   "source": [
    "## mvr and rel_set"
   ]
  },
  {
   "cell_type": "code",
   "execution_count": null,
   "metadata": {
    "slideshow": {
     "slide_type": "fragment"
    }
   },
   "outputs": [],
   "source": [
    "#help(mvr)\n",
    "#help(rel_set)"
   ]
  },
  {
   "cell_type": "code",
   "execution_count": null,
   "metadata": {
    "slideshow": {
     "slide_type": "subslide"
    }
   },
   "outputs": [],
   "source": [
    "RE(mv(motor1, 14))\n",
    "motor1.delay = 2\n",
    "print(f\"Before: {motor1.readback.get()}\")\n",
    "RE(rel_set(motor1, 15))\n",
    "print(f\"After: {motor1.readback.get()}\")\n",
    "motor1.delay = 0"
   ]
  },
  {
   "cell_type": "code",
   "execution_count": null,
   "metadata": {
    "slideshow": {
     "slide_type": "fragment"
    }
   },
   "outputs": [],
   "source": [
    "RE(mv(motor1, 14))\n",
    "motor1.delay = 2\n",
    "print(f\"Before: {motor1.readback.get()}\")\n",
    "RE(mvr(motor1, 15))\n",
    "print(f\"After +15: {motor1.readback.get()}\")\n",
    "RE(mvr(motor1, -10))\n",
    "print(f\"After -10: {motor1.readback.get()}\")\n",
    "RE(mvr(motor1, 2.5))\n",
    "print(f\"After +2.5: {motor1.readback.get()}\")\n",
    "motor1.delay = 0"
   ]
  },
  {
   "cell_type": "markdown",
   "metadata": {
    "slideshow": {
     "slide_type": "slide"
    }
   },
   "source": [
    "## sleep and stop"
   ]
  },
  {
   "cell_type": "code",
   "execution_count": null,
   "metadata": {
    "slideshow": {
     "slide_type": "fragment"
    }
   },
   "outputs": [],
   "source": [
    "#help(sleep)\n",
    "#help(stop)"
   ]
  },
  {
   "cell_type": "code",
   "execution_count": null,
   "metadata": {
    "slideshow": {
     "slide_type": "subslide"
    }
   },
   "outputs": [],
   "source": [
    "class StopDevice(Device):\n",
    "\n",
    "    def stop(self):\n",
    "        super().stop()\n",
    "        print(\"This Device has been stopped\")"
   ]
  },
  {
   "cell_type": "code",
   "execution_count": null,
   "metadata": {
    "slideshow": {
     "slide_type": "fragment"
    }
   },
   "outputs": [],
   "source": [
    "stop_device = StopDevice(name=\"stop_device\")\n",
    "RE(stop(stop_device))"
   ]
  },
  {
   "cell_type": "code",
   "execution_count": null,
   "metadata": {
    "slideshow": {
     "slide_type": "fragment"
    }
   },
   "outputs": [],
   "source": [
    "start = time()\n",
    "RE(sleep(1))\n",
    "end = time()\n",
    "print(f\"Duration: {end - start}\")"
   ]
  },
  {
   "cell_type": "markdown",
   "metadata": {
    "slideshow": {
     "slide_type": "slide"
    }
   },
   "source": [
    "## stage and unstage"
   ]
  },
  {
   "cell_type": "code",
   "execution_count": null,
   "metadata": {
    "slideshow": {
     "slide_type": "fragment"
    }
   },
   "outputs": [],
   "source": [
    "#help(stage)\n",
    "#help(unstage)"
   ]
  },
  {
   "cell_type": "code",
   "execution_count": null,
   "metadata": {
    "slideshow": {
     "slide_type": "subslide"
    }
   },
   "outputs": [],
   "source": [
    "class StagedDevice(Device):\n",
    "\n",
    "    def stage(self):\n",
    "        super().stage()\n",
    "        print(\"This Device is being armed\")\n",
    "\n",
    "    def unstage(self):\n",
    "        super().unstage()\n",
    "        print(\"This Device is being restored to a safe idle state\")"
   ]
  },
  {
   "cell_type": "code",
   "execution_count": null,
   "metadata": {
    "scrolled": true,
    "slideshow": {
     "slide_type": "fragment"
    }
   },
   "outputs": [],
   "source": [
    "exampleDevice = StagedDevice(name=\"staged_device\")\n",
    "\n",
    "def stage_unstage_plan():\n",
    "    yield from stage(exampleDevice)\n",
    "    \n",
    "    # Custom plan\n",
    "    print(\"Custom plan\")\n",
    "    \n",
    "    yield from unstage(exampleDevice)\n",
    "\n",
    "RE(stage_unstage_plan())"
   ]
  },
  {
   "cell_type": "markdown",
   "metadata": {
    "slideshow": {
     "slide_type": "slide"
    }
   },
   "source": [
    "## Controlling the Run Engine "
   ]
  },
  {
   "cell_type": "code",
   "execution_count": null,
   "metadata": {
    "slideshow": {
     "slide_type": "subslide"
    }
   },
   "outputs": [],
   "source": [
    "#help(checkpoint)\n",
    "#help(clear_checkpoint)\n",
    "#help(pause)\n",
    "#help(deferred_pause)\n",
    "#help(open_run)\n",
    "#help(close_run)"
   ]
  },
  {
   "cell_type": "markdown",
   "metadata": {
    "slideshow": {
     "slide_type": "subslide"
    }
   },
   "source": [
    "### Pause"
   ]
  },
  {
   "cell_type": "code",
   "execution_count": 2,
   "metadata": {
    "scrolled": true,
    "slideshow": {
     "slide_type": "fragment"
    }
   },
   "outputs": [],
   "source": [
    "def pause_plan():\n",
    "    yield from open_run()\n",
    "    yield from mv(motor1, 5)\n",
    "    yield from trigger_and_read([noisy_det])\n",
    "    yield from checkpoint()\n",
    "    \n",
    "    yield from pause()\n",
    "    \n",
    "    yield from mv(motor1, 4)\n",
    "    yield from trigger_and_read([noisy_det])\n",
    "    yield from checkpoint()\n",
    "    \n",
    "    yield from mv(motor1, 14)\n",
    "    yield from trigger_and_read([noisy_det])\n",
    "    yield from checkpoint()\n",
    "    \n",
    "    yield from close_run()"
   ]
  },
  {
   "cell_type": "code",
   "execution_count": 4,
   "metadata": {
    "scrolled": true,
    "slideshow": {
     "slide_type": "subslide"
    }
   },
   "outputs": [
    {
     "name": "stdout",
     "output_type": "stream",
     "text": [
      "\n",
      "\n",
      "+-----------+------------+------------+\n",
      "|   seq_num |       time |  noisy_det |\n",
      "+-----------+------------+------------+\n",
      "|         1 | 13:11:48.9 |      0.982 |\n",
      "Pausing...\n"
     ]
    },
    {
     "ename": "RunEngineInterrupted",
     "evalue": "\nYour RunEngine is entering a paused state. These are your options for changing\nthe state of the RunEngine:\n\nRE.resume()    Resume the plan.\nRE.abort()     Perform cleanup, then kill plan. Mark exit_stats='aborted'.\nRE.stop()      Perform cleanup, then kill plan. Mark exit_status='success'.\nRE.halt()      Emergency Stop: Do not perform cleanup --- just stop.\n",
     "output_type": "error",
     "traceback": [
      "\u001b[0;31m---------------------------------------------------------------------------\u001b[0m",
      "\u001b[0;31mRunEngineInterrupted\u001b[0m                      Traceback (most recent call last)",
      "Cell \u001b[0;32mIn[4], line 1\u001b[0m\n\u001b[0;32m----> 1\u001b[0m \u001b[43mRE\u001b[49m\u001b[43m(\u001b[49m\u001b[43mpause_plan\u001b[49m\u001b[43m(\u001b[49m\u001b[43m)\u001b[49m\u001b[43m,\u001b[49m\u001b[43m \u001b[49m\u001b[43mLiveTable\u001b[49m\u001b[43m(\u001b[49m\u001b[43m[\u001b[49m\u001b[38;5;124;43m\"\u001b[39;49m\u001b[38;5;124;43mnoisy_det\u001b[39;49m\u001b[38;5;124;43m\"\u001b[39;49m\u001b[43m]\u001b[49m\u001b[43m)\u001b[49m\u001b[43m)\u001b[49m\n",
      "File \u001b[0;32m/opt/mamba_files/mamba/envs/beamline/lib/python3.9/site-packages/bluesky/run_engine.py:967\u001b[0m, in \u001b[0;36mRunEngine.__call__\u001b[0;34m(self, *args, **metadata_kw)\u001b[0m\n\u001b[1;32m    964\u001b[0m plan_return \u001b[38;5;241m=\u001b[39m \u001b[38;5;28mself\u001b[39m\u001b[38;5;241m.\u001b[39m_resume_task(init_func\u001b[38;5;241m=\u001b[39m_build_task)\n\u001b[1;32m    966\u001b[0m \u001b[38;5;28;01mif\u001b[39;00m \u001b[38;5;28mself\u001b[39m\u001b[38;5;241m.\u001b[39m_interrupted:\n\u001b[0;32m--> 967\u001b[0m     \u001b[38;5;28;01mraise\u001b[39;00m RunEngineInterrupted(\u001b[38;5;28mself\u001b[39m\u001b[38;5;241m.\u001b[39mpause_msg) \u001b[38;5;28;01mfrom\u001b[39;00m \u001b[38;5;28;01mNone\u001b[39;00m\n\u001b[1;32m    969\u001b[0m \u001b[38;5;28;01mif\u001b[39;00m \u001b[38;5;28mself\u001b[39m\u001b[38;5;241m.\u001b[39m_call_returns_result:\n\u001b[1;32m    970\u001b[0m     run_engine_result \u001b[38;5;241m=\u001b[39m \u001b[38;5;28mself\u001b[39m\u001b[38;5;241m.\u001b[39m_create_result(plan_return)\n",
      "\u001b[0;31mRunEngineInterrupted\u001b[0m: \nYour RunEngine is entering a paused state. These are your options for changing\nthe state of the RunEngine:\n\nRE.resume()    Resume the plan.\nRE.abort()     Perform cleanup, then kill plan. Mark exit_stats='aborted'.\nRE.stop()      Perform cleanup, then kill plan. Mark exit_status='success'.\nRE.halt()      Emergency Stop: Do not perform cleanup --- just stop.\n"
     ]
    }
   ],
   "source": [
    "RE(pause_plan(), LiveTable([\"noisy_det\"]))"
   ]
  },
  {
   "cell_type": "code",
   "execution_count": 5,
   "metadata": {
    "slideshow": {
     "slide_type": "subslide"
    }
   },
   "outputs": [
    {
     "name": "stdout",
     "output_type": "stream",
     "text": [
      "|         2 | 13:12:00.6 |      1.036 |\n",
      "|         3 | 13:12:00.6 |      0.921 |\n",
      "+-----------+------------+------------+\n",
      "generator pause_plan ['459f4553'] (scan num: 1)\n",
      "\n",
      "\n"
     ]
    },
    {
     "data": {
      "text/plain": [
       "('459f4553-62ce-4fe1-998b-de6d8d93ff32',)"
      ]
     },
     "execution_count": 5,
     "metadata": {},
     "output_type": "execute_result"
    }
   ],
   "source": [
    "print(RE.state)\n",
    "RE.resume()"
   ]
  },
  {
   "cell_type": "markdown",
   "metadata": {
    "slideshow": {
     "slide_type": "subslide"
    }
   },
   "source": [
    "### Deferred Pause"
   ]
  },
  {
   "cell_type": "code",
   "execution_count": 33,
   "metadata": {
    "slideshow": {
     "slide_type": "fragment"
    }
   },
   "outputs": [],
   "source": [
    "def deferred_pause_plan():\n",
    "    yield from open_run()\n",
    "    yield from mv(motor1, 5)\n",
    "    yield from trigger_and_read([noisy_det])\n",
    "    yield from checkpoint()\n",
    "    \n",
    "    yield from deferred_pause()\n",
    "    \n",
    "    yield from mv(motor1, 4)\n",
    "    yield from trigger_and_read([noisy_det])\n",
    "    yield from checkpoint()\n",
    "    \n",
    "    yield from mv(motor1, 14)\n",
    "    yield from trigger_and_read([noisy_det])\n",
    "    yield from checkpoint()\n",
    "    \n",
    "    yield from close_run()"
   ]
  },
  {
   "cell_type": "code",
   "execution_count": 34,
   "metadata": {
    "slideshow": {
     "slide_type": "subslide"
    }
   },
   "outputs": [
    {
     "name": "stdout",
     "output_type": "stream",
     "text": [
      "\n",
      "\n",
      "+-----------+------------+------------+\n",
      "|   seq_num |       time |  noisy_det |\n",
      "+-----------+------------+------------+\n",
      "|         1 | 13:14:56.8 |      1.083 |\n",
      "Deferred pause acknowledged. Continuing to checkpoint.\n",
      "|         2 | 13:14:56.8 |      0.980 |\n",
      "Pausing...\n"
     ]
    },
    {
     "ename": "RunEngineInterrupted",
     "evalue": "\nYour RunEngine is entering a paused state. These are your options for changing\nthe state of the RunEngine:\n\nRE.resume()    Resume the plan.\nRE.abort()     Perform cleanup, then kill plan. Mark exit_stats='aborted'.\nRE.stop()      Perform cleanup, then kill plan. Mark exit_status='success'.\nRE.halt()      Emergency Stop: Do not perform cleanup --- just stop.\n",
     "output_type": "error",
     "traceback": [
      "\u001b[0;31m---------------------------------------------------------------------------\u001b[0m",
      "\u001b[0;31mRunEngineInterrupted\u001b[0m                      Traceback (most recent call last)",
      "Cell \u001b[0;32mIn[34], line 1\u001b[0m\n\u001b[0;32m----> 1\u001b[0m \u001b[43mRE\u001b[49m\u001b[43m(\u001b[49m\u001b[43mdeferred_pause_plan\u001b[49m\u001b[43m(\u001b[49m\u001b[43m)\u001b[49m\u001b[43m,\u001b[49m\u001b[43m \u001b[49m\u001b[43mLiveTable\u001b[49m\u001b[43m(\u001b[49m\u001b[43m[\u001b[49m\u001b[38;5;124;43m\"\u001b[39;49m\u001b[38;5;124;43mnoisy_det\u001b[39;49m\u001b[38;5;124;43m\"\u001b[39;49m\u001b[43m]\u001b[49m\u001b[43m)\u001b[49m\u001b[43m)\u001b[49m\n",
      "File \u001b[0;32m/opt/mamba_files/mamba/envs/beamline/lib/python3.9/site-packages/bluesky/run_engine.py:967\u001b[0m, in \u001b[0;36mRunEngine.__call__\u001b[0;34m(self, *args, **metadata_kw)\u001b[0m\n\u001b[1;32m    964\u001b[0m plan_return \u001b[38;5;241m=\u001b[39m \u001b[38;5;28mself\u001b[39m\u001b[38;5;241m.\u001b[39m_resume_task(init_func\u001b[38;5;241m=\u001b[39m_build_task)\n\u001b[1;32m    966\u001b[0m \u001b[38;5;28;01mif\u001b[39;00m \u001b[38;5;28mself\u001b[39m\u001b[38;5;241m.\u001b[39m_interrupted:\n\u001b[0;32m--> 967\u001b[0m     \u001b[38;5;28;01mraise\u001b[39;00m RunEngineInterrupted(\u001b[38;5;28mself\u001b[39m\u001b[38;5;241m.\u001b[39mpause_msg) \u001b[38;5;28;01mfrom\u001b[39;00m \u001b[38;5;28;01mNone\u001b[39;00m\n\u001b[1;32m    969\u001b[0m \u001b[38;5;28;01mif\u001b[39;00m \u001b[38;5;28mself\u001b[39m\u001b[38;5;241m.\u001b[39m_call_returns_result:\n\u001b[1;32m    970\u001b[0m     run_engine_result \u001b[38;5;241m=\u001b[39m \u001b[38;5;28mself\u001b[39m\u001b[38;5;241m.\u001b[39m_create_result(plan_return)\n",
      "\u001b[0;31mRunEngineInterrupted\u001b[0m: \nYour RunEngine is entering a paused state. These are your options for changing\nthe state of the RunEngine:\n\nRE.resume()    Resume the plan.\nRE.abort()     Perform cleanup, then kill plan. Mark exit_stats='aborted'.\nRE.stop()      Perform cleanup, then kill plan. Mark exit_status='success'.\nRE.halt()      Emergency Stop: Do not perform cleanup --- just stop.\n"
     ]
    }
   ],
   "source": [
    "RE(deferred_pause_plan(), LiveTable([\"noisy_det\"]))"
   ]
  },
  {
   "cell_type": "code",
   "execution_count": 35,
   "metadata": {
    "slideshow": {
     "slide_type": "subslide"
    }
   },
   "outputs": [
    {
     "name": "stdout",
     "output_type": "stream",
     "text": [
      "paused\n",
      "|         3 | 13:14:59.8 |      0.973 |\n",
      "+-----------+------------+------------+\n",
      "generator deferred_pause_plan ['0499b90b'] (scan num: 8)\n",
      "\n",
      "\n"
     ]
    },
    {
     "data": {
      "text/plain": [
       "('0499b90b-e0b1-4134-bafe-91a3cc263ac7',)"
      ]
     },
     "execution_count": 35,
     "metadata": {},
     "output_type": "execute_result"
    }
   ],
   "source": [
    "print(RE.state)\n",
    "RE.resume()"
   ]
  },
  {
   "cell_type": "markdown",
   "metadata": {
    "slideshow": {
     "slide_type": "subslide"
    }
   },
   "source": [
    "### clear_checkpoint"
   ]
  },
  {
   "cell_type": "code",
   "execution_count": 24,
   "metadata": {
    "slideshow": {
     "slide_type": "fragment"
    }
   },
   "outputs": [],
   "source": [
    "def clear_checkpoint_plan():\n",
    "    yield from open_run()\n",
    "    yield from mv(motor1, 5)\n",
    "    yield from trigger_and_read([noisy_det])\n",
    "    yield from clear_checkpoint()\n",
    "    \n",
    "    yield from pause()\n",
    "    \n",
    "    yield from mv(motor1, 4)\n",
    "    yield from trigger_and_read([noisy_det])\n",
    "    yield from checkpoint()\n",
    "    \n",
    "    yield from mv(motor1, 14)\n",
    "    yield from trigger_and_read([noisy_det])\n",
    "    yield from checkpoint()\n",
    "    \n",
    "    yield from close_run()"
   ]
  },
  {
   "cell_type": "code",
   "execution_count": 25,
   "metadata": {
    "scrolled": true,
    "slideshow": {
     "slide_type": "subslide"
    }
   },
   "outputs": [
    {
     "name": "stdout",
     "output_type": "stream",
     "text": [
      "\n",
      "\n",
      "+-----------+------------+------------+\n",
      "|   seq_num |       time |  noisy_det |\n",
      "+-----------+------------+------------+\n",
      "|         1 | 13:14:17.2 |      1.032 |\n",
      "Pausing...\n",
      "+-----------+------------+------------+\n",
      "generator clear_checkpoint_plan ['4586bddf'] (scan num: 6)\n",
      "\n",
      "\n"
     ]
    },
    {
     "ename": "RunEngineInterrupted",
     "evalue": "\nYour RunEngine is entering a paused state. These are your options for changing\nthe state of the RunEngine:\n\nRE.resume()    Resume the plan.\nRE.abort()     Perform cleanup, then kill plan. Mark exit_stats='aborted'.\nRE.stop()      Perform cleanup, then kill plan. Mark exit_status='success'.\nRE.halt()      Emergency Stop: Do not perform cleanup --- just stop.\n",
     "output_type": "error",
     "traceback": [
      "\u001b[0;31m---------------------------------------------------------------------------\u001b[0m",
      "\u001b[0;31mRunEngineInterrupted\u001b[0m                      Traceback (most recent call last)",
      "Cell \u001b[0;32mIn[25], line 1\u001b[0m\n\u001b[0;32m----> 1\u001b[0m \u001b[43mRE\u001b[49m\u001b[43m(\u001b[49m\u001b[43mclear_checkpoint_plan\u001b[49m\u001b[43m(\u001b[49m\u001b[43m)\u001b[49m\u001b[43m,\u001b[49m\u001b[43m \u001b[49m\u001b[43mLiveTable\u001b[49m\u001b[43m(\u001b[49m\u001b[43m[\u001b[49m\u001b[38;5;124;43m\"\u001b[39;49m\u001b[38;5;124;43mnoisy_det\u001b[39;49m\u001b[38;5;124;43m\"\u001b[39;49m\u001b[43m]\u001b[49m\u001b[43m)\u001b[49m\u001b[43m)\u001b[49m\n",
      "File \u001b[0;32m/opt/mamba_files/mamba/envs/beamline/lib/python3.9/site-packages/bluesky/run_engine.py:967\u001b[0m, in \u001b[0;36mRunEngine.__call__\u001b[0;34m(self, *args, **metadata_kw)\u001b[0m\n\u001b[1;32m    964\u001b[0m plan_return \u001b[38;5;241m=\u001b[39m \u001b[38;5;28mself\u001b[39m\u001b[38;5;241m.\u001b[39m_resume_task(init_func\u001b[38;5;241m=\u001b[39m_build_task)\n\u001b[1;32m    966\u001b[0m \u001b[38;5;28;01mif\u001b[39;00m \u001b[38;5;28mself\u001b[39m\u001b[38;5;241m.\u001b[39m_interrupted:\n\u001b[0;32m--> 967\u001b[0m     \u001b[38;5;28;01mraise\u001b[39;00m RunEngineInterrupted(\u001b[38;5;28mself\u001b[39m\u001b[38;5;241m.\u001b[39mpause_msg) \u001b[38;5;28;01mfrom\u001b[39;00m \u001b[38;5;28;01mNone\u001b[39;00m\n\u001b[1;32m    969\u001b[0m \u001b[38;5;28;01mif\u001b[39;00m \u001b[38;5;28mself\u001b[39m\u001b[38;5;241m.\u001b[39m_call_returns_result:\n\u001b[1;32m    970\u001b[0m     run_engine_result \u001b[38;5;241m=\u001b[39m \u001b[38;5;28mself\u001b[39m\u001b[38;5;241m.\u001b[39m_create_result(plan_return)\n",
      "\u001b[0;31mRunEngineInterrupted\u001b[0m: \nYour RunEngine is entering a paused state. These are your options for changing\nthe state of the RunEngine:\n\nRE.resume()    Resume the plan.\nRE.abort()     Perform cleanup, then kill plan. Mark exit_stats='aborted'.\nRE.stop()      Perform cleanup, then kill plan. Mark exit_status='success'.\nRE.halt()      Emergency Stop: Do not perform cleanup --- just stop.\n"
     ]
    }
   ],
   "source": [
    "RE(clear_checkpoint_plan(), LiveTable([\"noisy_det\"]))"
   ]
  },
  {
   "cell_type": "code",
   "execution_count": 26,
   "metadata": {
    "slideshow": {
     "slide_type": "subslide"
    }
   },
   "outputs": [
    {
     "data": {
      "text/plain": [
       "'idle'"
      ]
     },
     "execution_count": 26,
     "metadata": {},
     "output_type": "execute_result"
    }
   ],
   "source": [
    "RE.state"
   ]
  },
  {
   "cell_type": "markdown",
   "metadata": {
    "slideshow": {
     "slide_type": "slide"
    }
   },
   "source": [
    "## repeat"
   ]
  },
  {
   "cell_type": "code",
   "execution_count": null,
   "metadata": {
    "slideshow": {
     "slide_type": "fragment"
    }
   },
   "outputs": [],
   "source": [
    "help(repeat)"
   ]
  },
  {
   "cell_type": "code",
   "execution_count": null,
   "metadata": {
    "scrolled": true,
    "slideshow": {
     "slide_type": "subslide"
    }
   },
   "outputs": [],
   "source": [
    "def repeat_count():\n",
    "    yield from count([noisy_det], num=5, delay=0.25)\n",
    "RE(repeat(repeat_count, num=3, delay=3), LiveTable([\"noisy_det\"]))"
   ]
  },
  {
   "cell_type": "markdown",
   "metadata": {
    "slideshow": {
     "slide_type": "slide"
    }
   },
   "source": [
    "Fly Scan\n",
    "\n",
    "\n",
    "Plans for asynchronous acquisition:\n",
    "\n",
    "monitor: Asynchronously monitor for new values and emit Event documents.\n",
    "\n",
    "unmonitor: Stop monitoring.\n",
    "\n",
    "kickoff: Kickoff one fly-scanning device.\n",
    "\n",
    "complete: Tell a flyable, 'stop collecting, whenever you are ready'.\n",
    "\n",
    "collect: Collect data cached by one or more fly-scanning devices and emit documents.\n"
   ]
  },
  {
   "cell_type": "markdown",
   "metadata": {
    "slideshow": {
     "slide_type": "slide"
    }
   },
   "source": [
    "Standard plans: per_step\n",
    "\n",
    "\n",
    "Combinations of the above that are often convenient:\n",
    "\n",
    "trigger_and_read(devices[, name])\n",
    "\t\n",
    "\n",
    "Trigger and read a list of detectors and bundle readings into one Event.\n",
    "\n",
    "one_1d_step(detectors, motor, step[, ...])\n",
    "\t\n",
    "\n",
    "Inner loop of a 1D step scan\n",
    "\n",
    "one_nd_step(detectors, step, pos_cache[, ...])\n",
    "\t\n",
    "\n",
    "Inner loop of an N-dimensional step scan\n",
    "\n",
    "one_shot(detectors[, take_reading])\n",
    "\t\n",
    "\n",
    "Inner loop of a count.\n",
    "\n",
    "move_per_step(step, pos_cache)\n",
    "\t\n",
    "\n",
    "Inner loop of an N-dimensional step scan without any readings"
   ]
  }
 ],
 "metadata": {
  "celltoolbar": "Slideshow",
  "kernelspec": {
   "display_name": "Python 3 (ipykernel)",
   "language": "python",
   "name": "python3"
  },
  "language_info": {
   "codemirror_mode": {
    "name": "ipython",
    "version": 3
   },
   "file_extension": ".py",
   "mimetype": "text/x-python",
   "name": "python",
   "nbconvert_exporter": "python",
   "pygments_lexer": "ipython3",
   "version": "3.9.2"
  },
  "rise": {
   "enable_chalkboard": true,
   "start_slideshow_at": "beginning",
   "theme": "sky"
  }
 },
 "nbformat": 4,
 "nbformat_minor": 2
}
