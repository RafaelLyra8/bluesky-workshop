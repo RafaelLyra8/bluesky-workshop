{
 "cells": [
  {
   "cell_type": "code",
   "execution_count": 21,
   "metadata": {},
   "outputs": [],
   "source": [
    "from bluesky import RunEngine\n",
    "from bluesky.plans import count\n",
    "from bluesky.callbacks import LiveTable, LivePlot\n",
    "from ophyd.sim import noisy_det"
   ]
  },
  {
   "cell_type": "markdown",
   "metadata": {},
   "source": [
    "## Ophyd details"
   ]
  },
  {
   "cell_type": "code",
   "execution_count": 26,
   "metadata": {},
   "outputs": [
    {
     "data": {
      "text/plain": [
       "OrderedDict([('noisy_det',\n",
       "              {'source': 'SIM:noisy_det',\n",
       "               'dtype': 'number',\n",
       "               'shape': [],\n",
       "               'precision': 3})])"
      ]
     },
     "execution_count": 26,
     "metadata": {},
     "output_type": "execute_result"
    }
   ],
   "source": [
    "noisy_det.describe()"
   ]
  },
  {
   "cell_type": "code",
   "execution_count": 27,
   "metadata": {},
   "outputs": [
    {
     "data": {
      "text/plain": [
       "OrderedDict([('noisy_det',\n",
       "              {'value': 0.11005883131499064, 'timestamp': 1724688782.918191})])"
      ]
     },
     "execution_count": 27,
     "metadata": {},
     "output_type": "execute_result"
    }
   ],
   "source": [
    "noisy_det.read()"
   ]
  },
  {
   "cell_type": "code",
   "execution_count": 23,
   "metadata": {},
   "outputs": [
    {
     "data": {
      "text/plain": [
       "0"
      ]
     },
     "execution_count": 23,
     "metadata": {},
     "output_type": "execute_result"
    }
   ],
   "source": [
    "RE = RunEngine()"
   ]
  },
  {
   "cell_type": "markdown",
   "metadata": {},
   "source": [
    "## Count"
   ]
  },
  {
   "cell_type": "code",
   "execution_count": 24,
   "metadata": {},
   "outputs": [
    {
     "name": "stdout",
     "output_type": "stream",
     "text": [
      "\n",
      "\n",
      "+-----------+------------+------------+\n",
      "|   seq_num |       time |  noisy_det |\n",
      "+-----------+------------+------------+\n",
      "|         1 | 13:12:56.3 |      0.088 |\n"
     ]
    },
    {
     "name": "stdout",
     "output_type": "stream",
     "text": [
      "|         2 | 13:12:57.3 |      0.118 |\n",
      "|         3 | 13:12:58.3 |      0.111 |\n",
      "|         4 | 13:12:59.3 |      0.127 |\n",
      "|         5 | 13:13:00.3 |      0.147 |\n",
      "+-----------+------------+------------+\n",
      "generator count ['a68f5eee'] (scan num: 1)\n",
      "\n",
      "\n"
     ]
    },
    {
     "data": {
      "text/plain": [
       "('a68f5eee-ff93-4c7c-a1b9-ce62ad65f42f',)"
      ]
     },
     "execution_count": 24,
     "metadata": {},
     "output_type": "execute_result"
    }
   ],
   "source": [
    "RE(\n",
    "    count([noisy_det], num=5, delay=1),\n",
    "    LiveTable([\"noisy_det\"]))"
   ]
  },
  {
   "cell_type": "code",
   "execution_count": 25,
   "metadata": {},
   "outputs": [
    {
     "name": "stdout",
     "output_type": "stream",
     "text": [
      "\n",
      "\n",
      "+-----------+------------+------------+\n",
      "|   seq_num |       time |  noisy_det |\n",
      "+-----------+------------+------------+\n",
      "|         1 | 13:13:01.5 |      0.174 |\n"
     ]
    },
    {
     "name": "stdout",
     "output_type": "stream",
     "text": [
      "|         2 | 13:13:01.6 |      0.078 |\n",
      "|         3 | 13:13:01.7 |      0.127 |\n",
      "|         4 | 13:13:01.8 |      0.047 |\n",
      "|         5 | 13:13:01.9 |      0.107 |\n",
      "|         6 | 13:13:02.0 |      0.045 |\n",
      "|         7 | 13:13:02.1 |      0.234 |\n",
      "|         8 | 13:13:02.2 |      0.171 |\n",
      "|         9 | 13:13:02.3 |      0.171 |\n",
      "|        10 | 13:13:02.4 |      0.052 |\n",
      "|        11 | 13:13:02.5 |      0.146 |\n",
      "|        12 | 13:13:02.6 |      0.234 |\n",
      "|        13 | 13:13:02.7 |      0.109 |\n",
      "|        14 | 13:13:02.8 |      0.062 |\n",
      "|        15 | 13:13:02.9 |      0.110 |\n",
      "+-----------+------------+------------+\n",
      "generator count ['1ca54eb0'] (scan num: 2)\n",
      "\n",
      "\n"
     ]
    },
    {
     "data": {
      "text/plain": [
       "('1ca54eb0-e674-4196-b5ba-0f07d835f683',)"
      ]
     },
     "execution_count": 25,
     "metadata": {},
     "output_type": "execute_result"
    }
   ],
   "source": [
    "RE(\n",
    "    count([noisy_det], num=15, delay=0.1),\n",
    "    LivePlot(y=\"noisy_det\"))"
   ]
  }
 ],
 "metadata": {
  "kernelspec": {
   "display_name": "beamline",
   "language": "python",
   "name": "python3"
  },
  "language_info": {
   "codemirror_mode": {
    "name": "ipython",
    "version": 3
   },
   "file_extension": ".py",
   "mimetype": "text/x-python",
   "name": "python",
   "nbconvert_exporter": "python",
   "pygments_lexer": "ipython3",
   "version": "3.9.2"
  }
 },
 "nbformat": 4,
 "nbformat_minor": 2
}
