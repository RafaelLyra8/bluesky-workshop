{
 "cells": [
  {
   "cell_type": "markdown",
   "metadata": {
    "slideshow": {
     "slide_type": "slide"
    }
   },
   "source": [
    "### Simulated Detectors"
   ]
  },
  {
   "cell_type": "markdown",
   "metadata": {
    "slideshow": {
     "slide_type": "subslide"
    }
   },
   "source": [
    "| Detector   | Motor                          | Description      | Center | Max | Sigma | Fly Scan Procedure |\n",
    "| --------   | -----                          | ----------      | ------ | --- | ----- | ------------------ |\n",
    "| noisy_det  | motor                          | Gaussian Signal | 0      | 1   | 1     |                    |\n",
    "| det        | motor                          | Gaussian Signal | 0      | 1   | 1     |                    |\n",
    "| det1       | motor1                         | Gaussian Signal | 0      | 5   | 0.5   |                    |\n",
    "| det2       | motor2                         | Gaussian Signal | 1      | 2   | 2     |                    |\n",
    "| det3       | motor3                         | Gaussian Signal | -1     | 2   | 1     |                    |\n",
    "| det4       | motor1, motor2                 | Gaussian Signal | (0, 0) | 1   |       |                    |\n",
    "| det5       | jittery_motor1, jittery_motor2 | Gaussian Signal | (0, 0) | 1   |       |                    |\n",
    "| flyer1     | motor                          | Fly Scan Signal |        |     |       | 20 acquisitions - motor goes from 1 to 5 |\n",
    "| flyer2     | motor                          | Fly Scan Signal |        |     |       | 10 acquisitions - motor goes from 1 to 5 |\n",
    "| rand       |                                | Random Signal   |        |     |       |                    |\n",
    "| rand2      |                                | Random Signal   |        |     |       |                    |"
   ]
  },
  {
   "cell_type": "code",
   "execution_count": 11,
   "metadata": {
    "slideshow": {
     "slide_type": "subslide"
    }
   },
   "outputs": [
    {
     "data": {
      "text/plain": [
       "<contextlib.ExitStack at 0x743a683d7af0>"
      ]
     },
     "execution_count": 11,
     "metadata": {},
     "output_type": "execute_result"
    }
   ],
   "source": [
    "%matplotlib qt\n",
    "from bluesky import RunEngine\n",
    "from bluesky.plans import count\n",
    "from bluesky.callbacks import LiveTable, LivePlot\n",
    "from ophyd.sim import noisy_det, jittery_motor1\n",
    "from matplotlib.pyplot import ion\n",
    "from bluesky.utils import install_nb_kicker\n",
    "install_nb_kicker()\n",
    "\n",
    "ion()"
   ]
  },
  {
   "cell_type": "markdown",
   "metadata": {
    "slideshow": {
     "slide_type": "slide"
    }
   },
   "source": [
    "## Ophyd details"
   ]
  },
  {
   "cell_type": "code",
   "execution_count": 17,
   "metadata": {
    "slideshow": {
     "slide_type": "fragment"
    }
   },
   "outputs": [
    {
     "data": {
      "text/plain": [
       "OrderedDict([('noisy_det',\n",
       "              {'source': 'SIM:noisy_det',\n",
       "               'dtype': 'number',\n",
       "               'shape': [],\n",
       "               'precision': 3})])"
      ]
     },
     "execution_count": 17,
     "metadata": {},
     "output_type": "execute_result"
    }
   ],
   "source": [
    "noisy_det.describe()"
   ]
  },
  {
   "cell_type": "code",
   "execution_count": 3,
   "metadata": {
    "slideshow": {
     "slide_type": "fragment"
    }
   },
   "outputs": [
    {
     "data": {
      "text/plain": [
       "OrderedDict([('noisy_det',\n",
       "              {'value': 0.9673674661223748, 'timestamp': 1724847909.2590265})])"
      ]
     },
     "execution_count": 3,
     "metadata": {},
     "output_type": "execute_result"
    }
   ],
   "source": [
    "noisy_det.read()"
   ]
  },
  {
   "cell_type": "code",
   "execution_count": 8,
   "metadata": {
    "slideshow": {
     "slide_type": "fragment"
    }
   },
   "outputs": [
    {
     "data": {
      "text/plain": [
       "OrderedDict([('noisy_det_Imax', {'value': 1, 'timestamp': 1724867444.4844732}),\n",
       "             ('noisy_det_center',\n",
       "              {'value': 0, 'timestamp': 1724867444.4844675}),\n",
       "             ('noisy_det_sigma',\n",
       "              {'value': 1, 'timestamp': 1724867444.4844806}),\n",
       "             ('noisy_det_noise',\n",
       "              {'value': 'uniform', 'timestamp': 1724867444.4844856}),\n",
       "             ('noisy_det_noise_multiplier',\n",
       "              {'value': 0.1, 'timestamp': 1724867444.48449})])"
      ]
     },
     "execution_count": 8,
     "metadata": {},
     "output_type": "execute_result"
    }
   ],
   "source": [
    "noisy_det.read_configuration()"
   ]
  },
  {
   "cell_type": "code",
   "execution_count": 5,
   "metadata": {
    "slideshow": {
     "slide_type": "subslide"
    }
   },
   "outputs": [
    {
     "name": "stdout",
     "output_type": "stream",
     "text": [
      "data keys (* hints)\n",
      "-------------------\n",
      "*noisy_det\n",
      "\n",
      "read attrs\n",
      "----------\n",
      "val                  SynSignal           ('noisy_det')\n",
      "\n",
      "config keys\n",
      "-----------\n",
      "noisy_det_Imax\n",
      "noisy_det_center\n",
      "noisy_det_noise\n",
      "noisy_det_noise_multiplier\n",
      "noisy_det_sigma\n",
      "\n",
      "configuration attrs\n",
      "-------------------\n",
      "Imax                 Signal              ('noisy_det_Imax')\n",
      "center               Signal              ('noisy_det_center')\n",
      "sigma                Signal              ('noisy_det_sigma')\n",
      "noise                EnumSignal          ('noisy_det_noise')\n",
      "noise_multiplier     Signal              ('noisy_det_noise_multiplier')\n",
      "\n",
      "unused attrs\n",
      "------------\n",
      "\n"
     ]
    }
   ],
   "source": [
    "noisy_det.summary()"
   ]
  },
  {
   "cell_type": "code",
   "execution_count": 6,
   "metadata": {
    "slideshow": {
     "slide_type": "slide"
    }
   },
   "outputs": [
    {
     "data": {
      "text/plain": [
       "OrderedDict([('jittery_motor1',\n",
       "              {'value': 0.07870848024441335, 'timestamp': 1724847909.2581263}),\n",
       "             ('jittery_motor1_setpoint',\n",
       "              {'value': 0, 'timestamp': 1724847909.2581122})])"
      ]
     },
     "execution_count": 6,
     "metadata": {},
     "output_type": "execute_result"
    }
   ],
   "source": [
    "jittery_motor1.read()"
   ]
  },
  {
   "cell_type": "code",
   "execution_count": 7,
   "metadata": {
    "slideshow": {
     "slide_type": "fragment"
    }
   },
   "outputs": [
    {
     "data": {
      "text/plain": [
       "OrderedDict([('jittery_motor1_velocity',\n",
       "              {'value': 1, 'timestamp': 1724847909.2581785}),\n",
       "             ('jittery_motor1_acceleration',\n",
       "              {'value': 1, 'timestamp': 1724847909.2581918})])"
      ]
     },
     "execution_count": 7,
     "metadata": {},
     "output_type": "execute_result"
    }
   ],
   "source": [
    "jittery_motor1.read_configuration()"
   ]
  },
  {
   "cell_type": "code",
   "execution_count": 8,
   "metadata": {
    "slideshow": {
     "slide_type": "subslide"
    }
   },
   "outputs": [
    {
     "name": "stdout",
     "output_type": "stream",
     "text": [
      "data keys (* hints)\n",
      "-------------------\n",
      "*jittery_motor1\n",
      " jittery_motor1_setpoint\n",
      "\n",
      "read attrs\n",
      "----------\n",
      "readback             _ReadbackSignal     ('jittery_motor1')\n",
      "setpoint             _SetpointSignal     ('jittery_motor1_setpoint')\n",
      "\n",
      "config keys\n",
      "-----------\n",
      "jittery_motor1_acceleration\n",
      "jittery_motor1_velocity\n",
      "\n",
      "configuration attrs\n",
      "-------------------\n",
      "velocity             Signal              ('jittery_motor1_velocity')\n",
      "acceleration         Signal              ('jittery_motor1_acceleration')\n",
      "\n",
      "unused attrs\n",
      "------------\n",
      "unused               Signal              ('jittery_motor1_unused')\n",
      "\n"
     ]
    }
   ],
   "source": [
    "jittery_motor1.summary()"
   ]
  },
  {
   "cell_type": "markdown",
   "metadata": {
    "slideshow": {
     "slide_type": "slide"
    }
   },
   "source": [
    "## Run Engine"
   ]
  },
  {
   "cell_type": "code",
   "execution_count": 2,
   "metadata": {
    "slideshow": {
     "slide_type": "fragment"
    }
   },
   "outputs": [],
   "source": [
    "RE = RunEngine()"
   ]
  },
  {
   "cell_type": "code",
   "execution_count": 5,
   "metadata": {
    "slideshow": {
     "slide_type": "subslide"
    }
   },
   "outputs": [
    {
     "name": "stdout",
     "output_type": "stream",
     "text": [
      "Help on function count in module bluesky.plans:\n",
      "\n",
      "count(detectors, num=1, delay=None, *, per_shot=None, md=None)\n",
      "    Take one or more readings from detectors.\n",
      "    \n",
      "    Parameters\n",
      "    ----------\n",
      "    detectors : list\n",
      "        list of 'readable' objects\n",
      "    num : integer, optional\n",
      "        number of readings to take; default is 1\n",
      "    \n",
      "        If None, capture data until canceled\n",
      "    delay : iterable or scalar, optional\n",
      "        Time delay in seconds between successive readings; default is 0.\n",
      "    per_shot : callable, optional\n",
      "        hook for customizing action of inner loop (messages per step)\n",
      "        Expected signature ::\n",
      "    \n",
      "           def f(detectors: Iterable[OphydObj]) -> Generator[Msg]:\n",
      "               ...\n",
      "    \n",
      "    md : dict, optional\n",
      "        metadata\n",
      "    \n",
      "    Notes\n",
      "    -----\n",
      "    If ``delay`` is an iterable, it must have at least ``num - 1`` entries or\n",
      "    the plan will raise a ``ValueError`` during iteration.\n",
      "\n"
     ]
    }
   ],
   "source": [
    "help(count)"
   ]
  },
  {
   "cell_type": "markdown",
   "metadata": {
    "slideshow": {
     "slide_type": "slide"
    }
   },
   "source": [
    "## Count"
   ]
  },
  {
   "cell_type": "code",
   "execution_count": 6,
   "metadata": {
    "slideshow": {
     "slide_type": "fragment"
    }
   },
   "outputs": [
    {
     "name": "stdout",
     "output_type": "stream",
     "text": [
      "\n",
      "\n",
      "+-----------+------------+------------+\n",
      "|   seq_num |       time |  noisy_det |\n",
      "+-----------+------------+------------+\n",
      "|         1 | 14:51:36.0 |      0.974 |\n",
      "|         2 | 14:51:37.0 |      0.927 |\n",
      "|         3 | 14:51:38.0 |      1.094 |\n",
      "|         4 | 14:51:39.0 |      0.916 |\n",
      "|         5 | 14:51:40.0 |      0.918 |\n",
      "+-----------+------------+------------+\n",
      "generator count ['fde8bb40'] (scan num: 1)\n",
      "\n",
      "\n"
     ]
    },
    {
     "data": {
      "text/plain": [
       "('fde8bb40-f5d9-4d84-81ff-35348bac8325',)"
      ]
     },
     "execution_count": 6,
     "metadata": {},
     "output_type": "execute_result"
    }
   ],
   "source": [
    "RE(\n",
    "    count([noisy_det], num=5, delay=1),\n",
    "    LiveTable([\"noisy_det\"]))"
   ]
  },
  {
   "cell_type": "code",
   "execution_count": 12,
   "metadata": {
    "slideshow": {
     "slide_type": "subslide"
    }
   },
   "outputs": [
    {
     "data": {
      "text/plain": [
       "('d14fc42d-d9c7-4f00-a49a-0f8d10cdcbf9',)"
      ]
     },
     "execution_count": 12,
     "metadata": {},
     "output_type": "execute_result"
    }
   ],
   "source": [
    "RE(\n",
    "    count([noisy_det], num=15, delay=0.1),\n",
    "    LivePlot(y=\"noisy_det\"))"
   ]
  },
  {
   "cell_type": "code",
   "execution_count": 21,
   "metadata": {
    "slideshow": {
     "slide_type": "subslide"
    }
   },
   "outputs": [],
   "source": [
    "RE(\n",
    "    count([noisy_det], num=15, delay=0.1),\n",
    "    LivePlot(y=\"noisy_det\", marker=\"o\", markersize=10, color=\"green\"))"
   ]
  },
  {
   "cell_type": "code",
   "execution_count": 12,
   "metadata": {},
   "outputs": [
    {
     "name": "stdout",
     "output_type": "stream",
     "text": [
      "data keys (* hints)\n",
      "-------------------\n",
      "*motor\n",
      " motor_setpoint\n",
      "\n",
      "read attrs\n",
      "----------\n",
      "readback             _ReadbackSignal     ('motor')\n",
      "setpoint             _SetpointSignal     ('motor_setpoint')\n",
      "\n",
      "config keys\n",
      "-----------\n",
      "motor_acceleration\n",
      "motor_velocity\n",
      "\n",
      "configuration attrs\n",
      "-------------------\n",
      "velocity             Signal              ('motor_velocity')\n",
      "acceleration         Signal              ('motor_acceleration')\n",
      "\n",
      "unused attrs\n",
      "------------\n",
      "unused               Signal              ('motor_unused')\n",
      "\n"
     ]
    }
   ],
   "source": [
    "from ophyd.sim import motor\n",
    "motor.summary()"
   ]
  },
  {
   "cell_type": "markdown",
   "metadata": {
    "slideshow": {
     "slide_type": "slide"
    }
   },
   "source": [
    "### Exercícios"
   ]
  },
  {
   "cell_type": "markdown",
   "metadata": {
    "slideshow": {
     "slide_type": "fragment"
    }
   },
   "source": [
    "1. Quais são as duas informações que sempre estão presentes em todos os atributos leitura e configuração.\n",
    "\n",
    "2. Quais são os atributos de leitura e os de configuração do motor simulado 'motor2'.\n",
    "\n",
    "3. Faça 30 aquisições com o detector simulado 'rand', com 250 milisegundos entre cada aquisição.\n",
    "\n",
    "4. Plote um gráfico durante a aquisição do execício anterior com LivePlot."
   ]
  }
 ],
 "metadata": {
  "celltoolbar": "Slideshow",
  "kernelspec": {
   "display_name": "Python 3 (ipykernel)",
   "language": "python",
   "name": "python3"
  },
  "language_info": {
   "codemirror_mode": {
    "name": "ipython",
    "version": 3
   },
   "file_extension": ".py",
   "mimetype": "text/x-python",
   "name": "python",
   "nbconvert_exporter": "python",
   "pygments_lexer": "ipython3",
   "version": "3.9.2"
  },
  "rise": {
   "enable_chalkboard": true,
   "start_slideshow_at": "beginning",
   "theme": "sky"
  }
 },
 "nbformat": 4,
 "nbformat_minor": 2
}
