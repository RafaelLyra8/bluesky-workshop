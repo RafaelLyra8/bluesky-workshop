{
 "cells": [
  {
   "cell_type": "code",
   "execution_count": 13,
   "metadata": {},
   "outputs": [],
   "source": [
    "from bluesky import RunEngine\n",
    "from bluesky.plans import count\n",
    "from bluesky.callbacks import LiveTable\n",
    "from ophyd.sim import rand\n",
    "\n",
    "rand.start_simulation()"
   ]
  },
  {
   "cell_type": "code",
   "execution_count": 14,
   "metadata": {},
   "outputs": [
    {
     "data": {
      "text/plain": [
       "0"
      ]
     },
     "execution_count": 14,
     "metadata": {},
     "output_type": "execute_result"
    }
   ],
   "source": [
    "RE = RunEngine()\n",
    "\n",
    "live_table = LiveTable([\"rand\"])\n",
    "RE.subscribe(live_table)"
   ]
  },
  {
   "cell_type": "markdown",
   "metadata": {},
   "source": [
    "## Count"
   ]
  },
  {
   "cell_type": "code",
   "execution_count": 16,
   "metadata": {},
   "outputs": [
    {
     "name": "stdout",
     "output_type": "stream",
     "text": [
      "\n",
      "\n",
      "+-----------+------------+------------+------------+\n",
      "|   seq_num |       time |       rand |      motor |\n",
      "+-----------+------------+------------+------------+\n",
      "|         1 | 13:09:17.8 |      0.722 |            |\n",
      "|         2 | 13:09:18.8 |      0.764 |            |\n",
      "|         3 | 13:09:19.8 |      0.551 |            |\n",
      "|         4 | 13:09:20.8 |      0.011 |            |\n",
      "|         5 | 13:09:21.8 |      0.886 |            |\n",
      "+-----------+------------+------------+------------+\n",
      "generator count ['84b05ca4'] (scan num: 2)\n",
      "\n",
      "\n"
     ]
    },
    {
     "data": {
      "text/plain": [
       "('84b05ca4-3892-4f85-b6c8-f8cc4b7e2abb',)"
      ]
     },
     "execution_count": 16,
     "metadata": {},
     "output_type": "execute_result"
    }
   ],
   "source": [
    "RE(count([rand], num=5, delay=1))"
   ]
  },
  {
   "cell_type": "code",
   "execution_count": 6,
   "metadata": {},
   "outputs": [
    {
     "name": "stdout",
     "output_type": "stream",
     "text": [
      "\n",
      "\n",
      "+-----------+------------+------------+------------+\n",
      "|   seq_num |       time |        det |      motor |\n",
      "+-----------+------------+------------+------------+\n",
      "|         1 | 13:06:33.1 |      0.135 |      2.000 |\n"
     ]
    },
    {
     "name": "stdout",
     "output_type": "stream",
     "text": [
      "+-----------+------------+------------+------------+\n",
      "generator count ['b6af3094'] (scan num: 2)\n",
      "\n",
      "\n"
     ]
    },
    {
     "data": {
      "text/plain": [
       "('b6af3094-4cae-49f0-8d3b-c765e2483d6d',)"
      ]
     },
     "execution_count": 6,
     "metadata": {},
     "output_type": "execute_result"
    }
   ],
   "source": []
  },
  {
   "cell_type": "code",
   "execution_count": 12,
   "metadata": {},
   "outputs": [
    {
     "name": "stdout",
     "output_type": "stream",
     "text": [
      "\n",
      "\n",
      "+-----------+------------+------------+------------+\n",
      "|   seq_num |       time |        det |      motor |\n",
      "+-----------+------------+------------+------------+\n",
      "\n",
      "\n",
      "+-----------+------------+------------+\n"
     ]
    },
    {
     "name": "stdout",
     "output_type": "stream",
     "text": [
      "|   seq_num |       time |       rand |\n",
      "+-----------+------------+------------+\n",
      "|         1 | 13:08:02.1 |            |            |\n",
      "|         1 | 13:08:02.1 |      0.935 |\n",
      "|         2 | 13:08:03.1 |            |            |\n",
      "|         2 | 13:08:03.1 |      0.086 |\n",
      "|         3 | 13:08:04.1 |            |            |\n",
      "|         3 | 13:08:04.1 |      0.620 |\n",
      "|         4 | 13:08:05.1 |            |            |\n",
      "|         4 | 13:08:05.1 |      0.490 |\n",
      "|         5 | 13:08:06.1 |            |            |\n",
      "|         5 | 13:08:06.1 |      0.302 |\n",
      "+-----------+------------+------------+------------+\n",
      "generator count ['dad85749'] (scan num: 5)\n",
      "\n",
      "\n",
      "+-----------+------------+------------+\n",
      "generator count ['dad85749'] (scan num: 5)\n",
      "\n",
      "\n"
     ]
    },
    {
     "data": {
      "text/plain": [
       "('dad85749-1d65-4aca-a37f-5ba659f882fa',)"
      ]
     },
     "execution_count": 12,
     "metadata": {},
     "output_type": "execute_result"
    }
   ],
   "source": []
  }
 ],
 "metadata": {
  "kernelspec": {
   "display_name": "beamline",
   "language": "python",
   "name": "python3"
  },
  "language_info": {
   "codemirror_mode": {
    "name": "ipython",
    "version": 3
   },
   "file_extension": ".py",
   "mimetype": "text/x-python",
   "name": "python",
   "nbconvert_exporter": "python",
   "pygments_lexer": "ipython3",
   "version": "3.9.2"
  }
 },
 "nbformat": 4,
 "nbformat_minor": 2
}
