{
 "cells": [
  {
   "cell_type": "code",
   "execution_count": 70,
   "metadata": {},
   "outputs": [],
   "source": [
    "from bluesky import RunEngine\n",
    "from bluesky.plans import count\n",
    "from bluesky.callbacks import LiveTable, LivePlot\n",
    "from ophyd.sim import noisy_det, jittery_motor1"
   ]
  },
  {
   "cell_type": "markdown",
   "metadata": {},
   "source": [
    "### Simulated Detectors\n",
    "\n",
    "| Detector   | Motor                          | Decription      | Center | Max | Sigma | Fly Scan Procedure |\n",
    "| --------   | -----                          | ----------      | ------ | --- | ----- | ------------------ |\n",
    "| noisy_det  | motor                          | Gaussian Signal | 0      | 1   | 1     |                    |\n",
    "| det        | motor                          | Gaussian Signal | 0      | 1   | 1     |                    |\n",
    "| det1       | motor1                         | Gaussian Signal | 0      | 5   | 0.5   |                    |\n",
    "| det2       | motor2                         | Gaussian Signal | 1      | 2   | 2     |                    |\n",
    "| det3       | motor3                         | Gaussian Signal | -1     | 2   | 1     |                    |\n",
    "| det4       | motor1, motor2                 | Gaussian Signal | (0, 0) | 1   |       |                    |\n",
    "| det5       | jittery_motor1, jittery_motor2 | Gaussian Signal | (0, 0) | 1   |       |                    |\n",
    "| flyer1     | motor                          | Fly Scan Signal |        |     |       | 20 acquisitions - motor goes from 1 to 5 |\n",
    "| flyer2     | motor                          | Fly Scan Signal |        |     |       | 10 acquisitions - motor goes from 1 to 5 |\n",
    "| rand       |                                | Random Signal   |        |     |       |                    |\n",
    "| rand2      |                                | Random Signal   |        |     |       |                    |\n",
    "\n"
   ]
  },
  {
   "cell_type": "markdown",
   "metadata": {},
   "source": [
    "## Ophyd details"
   ]
  },
  {
   "cell_type": "code",
   "execution_count": 71,
   "metadata": {},
   "outputs": [
    {
     "data": {
      "text/plain": [
       "OrderedDict([('noisy_det',\n",
       "              {'source': 'SIM:noisy_det',\n",
       "               'dtype': 'number',\n",
       "               'shape': [],\n",
       "               'precision': 3})])"
      ]
     },
     "execution_count": 71,
     "metadata": {},
     "output_type": "execute_result"
    }
   ],
   "source": [
    "noisy_det.describe()"
   ]
  },
  {
   "cell_type": "code",
   "execution_count": 72,
   "metadata": {},
   "outputs": [
    {
     "data": {
      "text/plain": [
       "OrderedDict([('noisy_det',\n",
       "              {'value': 1.035963357586292, 'timestamp': 1724701017.8844204})])"
      ]
     },
     "execution_count": 72,
     "metadata": {},
     "output_type": "execute_result"
    }
   ],
   "source": [
    "noisy_det.read()"
   ]
  },
  {
   "cell_type": "code",
   "execution_count": 73,
   "metadata": {},
   "outputs": [
    {
     "data": {
      "text/plain": [
       "OrderedDict([('noisy_det_Imax', {'value': 1, 'timestamp': 1724700646.7956977}),\n",
       "             ('noisy_det_center',\n",
       "              {'value': 0, 'timestamp': 1724700646.7956898}),\n",
       "             ('noisy_det_sigma',\n",
       "              {'value': 1, 'timestamp': 1724700646.7957087}),\n",
       "             ('noisy_det_noise',\n",
       "              {'value': 'uniform', 'timestamp': 1724700646.7957153}),\n",
       "             ('noisy_det_noise_multiplier',\n",
       "              {'value': 0.1, 'timestamp': 1724700646.795737})])"
      ]
     },
     "execution_count": 73,
     "metadata": {},
     "output_type": "execute_result"
    }
   ],
   "source": [
    "noisy_det.read_configuration()"
   ]
  },
  {
   "cell_type": "code",
   "execution_count": 75,
   "metadata": {},
   "outputs": [
    {
     "name": "stdout",
     "output_type": "stream",
     "text": [
      "data keys (* hints)\n",
      "-------------------\n",
      "*noisy_det\n",
      "\n",
      "read attrs\n",
      "----------\n",
      "val                  SynSignal           ('noisy_det')\n",
      "\n",
      "config keys\n",
      "-----------\n",
      "noisy_det_Imax\n",
      "noisy_det_center\n",
      "noisy_det_noise\n",
      "noisy_det_noise_multiplier\n",
      "noisy_det_sigma\n",
      "\n",
      "configuration attrs\n",
      "-------------------\n",
      "Imax                 Signal              ('noisy_det_Imax')\n",
      "center               Signal              ('noisy_det_center')\n",
      "sigma                Signal              ('noisy_det_sigma')\n",
      "noise                EnumSignal          ('noisy_det_noise')\n",
      "noise_multiplier     Signal              ('noisy_det_noise_multiplier')\n",
      "\n",
      "unused attrs\n",
      "------------\n",
      "\n"
     ]
    }
   ],
   "source": [
    "noisy_det.summary()"
   ]
  },
  {
   "cell_type": "code",
   "execution_count": 76,
   "metadata": {},
   "outputs": [],
   "source": [
    "jittery_motor1."
   ]
  },
  {
   "cell_type": "code",
   "execution_count": 74,
   "metadata": {},
   "outputs": [
    {
     "name": "stdout",
     "output_type": "stream",
     "text": [
      "Help on function count in module bluesky.plans:\n",
      "\n",
      "count(detectors, num=1, delay=None, *, per_shot=None, md=None)\n",
      "    Take one or more readings from detectors.\n",
      "    \n",
      "    Parameters\n",
      "    ----------\n",
      "    detectors : list\n",
      "        list of 'readable' objects\n",
      "    num : integer, optional\n",
      "        number of readings to take; default is 1\n",
      "    \n",
      "        If None, capture data until canceled\n",
      "    delay : iterable or scalar, optional\n",
      "        Time delay in seconds between successive readings; default is 0.\n",
      "    per_shot : callable, optional\n",
      "        hook for customizing action of inner loop (messages per step)\n",
      "        Expected signature ::\n",
      "    \n",
      "           def f(detectors: Iterable[OphydObj]) -> Generator[Msg]:\n",
      "               ...\n",
      "    \n",
      "    md : dict, optional\n",
      "        metadata\n",
      "    \n",
      "    Notes\n",
      "    -----\n",
      "    If ``delay`` is an iterable, it must have at least ``num - 1`` entries or\n",
      "    the plan will raise a ``ValueError`` during iteration.\n",
      "\n"
     ]
    }
   ],
   "source": [
    "help(count)"
   ]
  },
  {
   "cell_type": "code",
   "execution_count": 23,
   "metadata": {},
   "outputs": [],
   "source": [
    "RE = RunEngine()"
   ]
  },
  {
   "cell_type": "markdown",
   "metadata": {},
   "source": [
    "## Count"
   ]
  },
  {
   "cell_type": "code",
   "execution_count": 24,
   "metadata": {},
   "outputs": [
    {
     "name": "stdout",
     "output_type": "stream",
     "text": [
      "\n",
      "\n",
      "+-----------+------------+------------+\n",
      "|   seq_num |       time |  noisy_det |\n",
      "+-----------+------------+------------+\n",
      "|         1 | 16:36:51.2 |      0.982 |\n",
      "|         2 | 16:36:52.2 |      0.930 |\n",
      "|         3 | 16:36:53.2 |      0.923 |\n",
      "|         4 | 16:36:54.2 |      0.922 |\n",
      "|         5 | 16:36:55.2 |      0.980 |\n",
      "+-----------+------------+------------+\n",
      "generator count ['b2bef6e5'] (scan num: 1)\n",
      "\n",
      "\n"
     ]
    },
    {
     "data": {
      "text/plain": [
       "('b2bef6e5-ad88-4d48-b7c4-f191594708bf',)"
      ]
     },
     "execution_count": 24,
     "metadata": {},
     "output_type": "execute_result"
    }
   ],
   "source": [
    "RE(\n",
    "    count([noisy_det], num=5, delay=1),\n",
    "    LiveTable([\"noisy_det\"]))"
   ]
  },
  {
   "cell_type": "code",
   "execution_count": 25,
   "metadata": {},
   "outputs": [
    {
     "data": {
      "text/plain": [
       "('a9c0f35c-a2af-479f-95f6-d737367aa313',)"
      ]
     },
     "execution_count": 25,
     "metadata": {},
     "output_type": "execute_result"
    },
    {
     "data": {
      "image/png": "[encoded data removed]",
      "text/plain": [
       "<Figure size 640x480 with 1 Axes>"
      ]
     },
     "metadata": {},
     "output_type": "display_data"
    }
   ],
   "source": [
    "RE(\n",
    "    count([noisy_det], num=15, delay=0.1),\n",
    "    LivePlot(y=\"noisy_det\"))"
   ]
  }
 ],
 "metadata": {
  "kernelspec": {
   "display_name": "beamline",
   "language": "python",
   "name": "python3"
  },
  "language_info": {
   "codemirror_mode": {
    "name": "ipython",
    "version": 3
   },
   "file_extension": ".py",
   "mimetype": "text/x-python",
   "name": "python",
   "nbconvert_exporter": "python",
   "pygments_lexer": "ipython3",
   "version": "3.9.2"
  }
 },
 "nbformat": 4,
 "nbformat_minor": 2
}
