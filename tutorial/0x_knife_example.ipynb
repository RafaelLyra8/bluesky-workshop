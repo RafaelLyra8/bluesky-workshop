{
 "cells": [
  {
   "cell_type": "code",
   "execution_count": 2,
   "metadata": {},
   "outputs": [],
   "source": [
    "from bluesky import RunEngine\n",
    "from ophyd import Device, Signal\n",
    "from ophyd import Component as Cpt\n",
    "from ophyd.sim import det, motor1, motor2, noisy_det, SynGauss, SynAxis, SynSignal,EnumSignal\n",
    "from bluesky.callbacks.best_effort import BestEffortCallback\n",
    "from bluesky.plans import scan, rel_scan, list_scan, grid_scan\n",
    "from bluesky.plan_stubs import mv\n",
    "from databroker import Broker"
   ]
  },
  {
   "cell_type": "markdown",
   "metadata": {},
   "source": [
    "## RunEngine"
   ]
  },
  {
   "cell_type": "code",
   "execution_count": 3,
   "metadata": {},
   "outputs": [
    {
     "data": {
      "text/plain": [
       "1"
      ]
     },
     "execution_count": 3,
     "metadata": {},
     "output_type": "execute_result"
    }
   ],
   "source": [
    "RE = RunEngine({})\n",
    "bec = BestEffortCallback()\n",
    "RE.subscribe(bec)\n",
    "db = Broker.named('temp')\n",
    "RE.subscribe(db.v1.insert)"
   ]
  },
  {
   "cell_type": "markdown",
   "metadata": {},
   "source": [
    "## Simulated Device"
   ]
  },
  {
   "cell_type": "markdown",
   "metadata": {},
   "source": [
    "### For now, just ignore the implementation of this SynDevice.\n",
    "#### But it just implements a \"Gaussian Integrator\" for simulating a Knife Edge scan"
   ]
  },
  {
   "cell_type": "code",
   "execution_count": 7,
   "metadata": {},
   "outputs": [],
   "source": [
    "import numpy as np #Hide this import here just for now\n",
    "class SynKnifeDetector(Device):\n",
    "\n",
    "    def _compute(self):\n",
    "        m = self._motor.read()[self._motor_field][\"value\"]\n",
    "        \n",
    "        # we need to do this one at a time because\n",
    "        #   - self.read() may be screwed with by the user\n",
    "        #   - self.get() would cause infinite recursion\n",
    "        Imax = self.Imax.get()\n",
    "        center = self.center.get()\n",
    "        sigma = self.sigma.get()\n",
    "        noise = self.noise.get()\n",
    "        noise_multiplier = self.noise_multiplier.get()\n",
    "        \n",
    "        x = np.arange(-20, 20, 0.1)\n",
    "        gauss = [-Imax * np.exp(-((x_val - center) ** 2) / (2 * sigma**2)) for x_val in x]\n",
    "        trapz = [np.trapezoid(gauss[:-i]) for i in range(x.shape[0])][::-1]\n",
    "        \n",
    "        agr_for_calculation = np.argmin(np.abs(x - m))\n",
    "        v = trapz[agr_for_calculation]\n",
    "        \n",
    "        return v\n",
    "\n",
    "    val = Cpt(SynSignal, kind=\"hinted\")\n",
    "    Imax = Cpt(Signal, value=10, kind=\"config\")\n",
    "    center = Cpt(Signal, value=0, kind=\"config\")\n",
    "    sigma = Cpt(Signal, value=1, kind=\"config\")\n",
    "    noise = Cpt(\n",
    "        EnumSignal,\n",
    "        value=\"none\",\n",
    "        kind=\"config\",\n",
    "        enum_strings=(\"none\", \"poisson\", \"uniform\"),\n",
    "    )\n",
    "    noise_multiplier = Cpt(Signal, value=1, kind=\"config\")\n",
    "\n",
    "    def __init__(\n",
    "        self, name, motor, motor_field, center, Imax, *, random_state=None, **kwargs\n",
    "    ):\n",
    "        set_later = {}\n",
    "        for k in (\"sigma\", \"noise\", \"noise_multiplier\"):\n",
    "            v = kwargs.pop(k, None)\n",
    "            if v is not None:\n",
    "                set_later[k] = v\n",
    "        super().__init__(name=name, **kwargs)\n",
    "        self._motor = motor\n",
    "        self._motor_field = motor_field\n",
    "        self.center.put(center)\n",
    "        self.Imax.put(Imax)\n",
    "\n",
    "        self.random_state = random_state or np.random\n",
    "        self.val.name = self.name\n",
    "        self.val.sim_set_func(self._compute)\n",
    "        for k, v in set_later.items():\n",
    "            getattr(self, k).put(v)\n",
    "\n",
    "        self.trigger()\n",
    "\n",
    "    def subscribe(self, *args, **kwargs):\n",
    "        return self.val.subscribe(*args, **kwargs)\n",
    "\n",
    "    def clear_sub(self, cb, event_type=None):\n",
    "        return self.val.clear_sub(cb, event_type=event_type)\n",
    "\n",
    "    def unsubscribe(self, cid):\n",
    "        return self.val.unsubscribe(cid)\n",
    "\n",
    "    def unsubscribe_all(self):\n",
    "        return self.val.unsubscribe_all()\n",
    "\n",
    "    def trigger(self, *args, **kwargs):\n",
    "        return self.val.trigger(*args, **kwargs)\n",
    "\n",
    "    @property\n",
    "    def precision(self):\n",
    "        return self.val.precision\n",
    "\n",
    "    @precision.setter\n",
    "    def precision(self, v):\n",
    "        self.val.precision = v\n",
    "\n",
    "    @property\n",
    "    def exposure_time(self):\n",
    "        return self.val.exposure_time\n",
    "\n",
    "    @exposure_time.setter\n",
    "    def exposure_time(self, v):\n",
    "        self.val.exposure_time = v\n"
   ]
  },
  {
   "cell_type": "code",
   "execution_count": 8,
   "metadata": {},
   "outputs": [],
   "source": [
    "motor = SynAxis(name='motor1')\n",
    "detector = SynKnifeDetector('Knife', motor, 'motor1', center=2, Imax=9, sigma=1)"
   ]
  },
  {
   "cell_type": "code",
   "execution_count": 9,
   "metadata": {},
   "outputs": [
    {
     "name": "stdout",
     "output_type": "stream",
     "text": [
      "\n",
      "\n",
      "Transient Scan ID: 1     Time: 2024-08-26 17:10:47\n",
      "Persistent Unique Scan ID: '28237c8d-7ded-4612-8b81-faad5a9ab950'\n",
      "New stream: 'primary'\n",
      "+-----------+------------+------------+------------+\n",
      "|   seq_num |       time |     motor1 |      Knife |\n",
      "+-----------+------------+------------+------------+\n",
      "|         1 | 17:10:47.3 |    -10.000 |     -0.000 |\n",
      "|         2 | 17:10:47.3 |     -9.800 |     -0.000 |\n",
      "|         3 | 17:10:47.4 |     -9.600 |     -0.000 |\n",
      "|         4 | 17:10:47.4 |     -9.400 |     -0.000 |\n",
      "|         5 | 17:10:47.4 |     -9.200 |     -0.000 |\n",
      "|         6 | 17:10:47.5 |     -9.000 |     -0.000 |\n",
      "|         7 | 17:10:47.5 |     -8.800 |     -0.000 |\n",
      "|         8 | 17:10:47.5 |     -8.600 |     -0.000 |\n",
      "|         9 | 17:10:47.6 |     -8.400 |     -0.000 |\n",
      "|        10 | 17:10:47.6 |     -8.200 |     -0.000 |\n",
      "|        11 | 17:10:47.6 |     -8.000 |     -0.000 |\n",
      "|        12 | 17:10:47.7 |     -7.800 |     -0.000 |\n",
      "|        13 | 17:10:47.7 |     -7.600 |     -0.000 |\n",
      "|        14 | 17:10:47.7 |     -7.400 |     -0.000 |\n",
      "|        15 | 17:10:47.8 |     -7.200 |     -0.000 |\n",
      "|        16 | 17:10:47.8 |     -7.000 |     -0.000 |\n",
      "|        17 | 17:10:47.8 |     -6.800 |     -0.000 |\n",
      "|        18 | 17:10:47.9 |     -6.600 |     -0.000 |\n",
      "|        19 | 17:10:47.9 |     -6.400 |     -0.000 |\n",
      "|        20 | 17:10:48.0 |     -6.200 |     -0.000 |\n",
      "|        21 | 17:10:48.0 |     -6.000 |     -0.000 |\n",
      "|        22 | 17:10:48.0 |     -5.800 |     -0.000 |\n",
      "|        23 | 17:10:48.1 |     -5.600 |     -0.000 |\n",
      "|        24 | 17:10:48.1 |     -5.400 |     -0.000 |\n",
      "|        25 | 17:10:48.1 |     -5.200 |     -0.000 |\n",
      "|        26 | 17:10:48.2 |     -5.000 |     -0.000 |\n",
      "|        27 | 17:10:48.2 |     -4.800 |     -0.000 |\n",
      "|        28 | 17:10:48.2 |     -4.600 |     -0.000 |\n",
      "|        29 | 17:10:48.3 |     -4.400 |     -0.000 |\n",
      "|        30 | 17:10:48.3 |     -4.200 |     -0.000 |\n",
      "|        31 | 17:10:48.3 |     -4.000 |     -0.000 |\n",
      "|        32 | 17:10:48.4 |     -3.800 |     -0.000 |\n",
      "|        33 | 17:10:48.4 |     -3.600 |     -0.000 |\n",
      "|        34 | 17:10:48.4 |     -3.400 |     -0.000 |\n",
      "|        35 | 17:10:48.5 |     -3.200 |     -0.000 |\n",
      "|        36 | 17:10:48.5 |     -3.000 |     -0.000 |\n",
      "|        37 | 17:10:48.6 |     -2.800 |     -0.000 |\n",
      "|        38 | 17:10:48.6 |     -2.600 |     -0.000 |\n",
      "|        39 | 17:10:48.6 |     -2.400 |     -0.001 |\n",
      "|        40 | 17:10:48.7 |     -2.200 |     -0.003 |\n",
      "|        41 | 17:10:48.7 |     -2.000 |     -0.007 |\n",
      "|        42 | 17:10:48.7 |     -1.800 |     -0.017 |\n",
      "|        43 | 17:10:48.8 |     -1.600 |     -0.036 |\n",
      "|        44 | 17:10:48.8 |     -1.400 |     -0.077 |\n",
      "|        45 | 17:10:48.8 |     -1.200 |     -0.156 |\n",
      "|        46 | 17:10:48.9 |     -1.000 |     -0.307 |\n",
      "|        47 | 17:10:48.9 |     -0.800 |     -0.581 |\n",
      "|        48 | 17:10:48.9 |     -0.600 |     -1.058 |\n",
      "|        49 | 17:10:49.0 |     -0.400 |     -1.859 |\n",
      "+-----------+------------+------------+------------+\n",
      "|   seq_num |       time |     motor1 |      Knife |\n",
      "+-----------+------------+------------+------------+\n",
      "|        50 | 17:10:49.0 |     -0.200 |     -3.151 |\n",
      "|        51 | 17:10:49.0 |      0.000 |     -5.153 |\n",
      "|        52 | 17:10:49.1 |      0.200 |     -8.132 |\n",
      "|        53 | 17:10:49.1 |      0.400 |    -12.396 |\n",
      "|        54 | 17:10:49.1 |      0.600 |    -18.258 |\n",
      "|        55 | 17:10:49.2 |      0.800 |    -26.003 |\n",
      "|        56 | 17:10:49.2 |      1.000 |    -35.838 |\n",
      "|        57 | 17:10:49.2 |      1.200 |    -47.837 |\n",
      "|        58 | 17:10:49.3 |      1.400 |    -61.908 |\n",
      "|        59 | 17:10:49.3 |      1.600 |    -77.763 |\n",
      "|        60 | 17:10:49.3 |      1.800 |    -94.932 |\n",
      "|        61 | 17:10:49.4 |      2.000 |   -112.798 |\n",
      "|        62 | 17:10:49.4 |      2.200 |   -130.664 |\n",
      "|        63 | 17:10:49.4 |      2.400 |   -147.833 |\n",
      "|        64 | 17:10:49.5 |      2.600 |   -163.688 |\n",
      "|        65 | 17:10:49.5 |      2.800 |   -177.759 |\n",
      "|        66 | 17:10:49.5 |      3.000 |   -189.759 |\n",
      "|        67 | 17:10:49.6 |      3.200 |   -199.593 |\n",
      "|        68 | 17:10:49.6 |      3.400 |   -207.339 |\n",
      "|        69 | 17:10:49.6 |      3.600 |   -213.201 |\n",
      "|        70 | 17:10:49.7 |      3.800 |   -217.464 |\n",
      "|        71 | 17:10:49.7 |      4.000 |   -220.444 |\n",
      "|        72 | 17:10:49.7 |      4.200 |   -222.445 |\n",
      "|        73 | 17:10:49.8 |      4.400 |   -223.737 |\n",
      "|        74 | 17:10:49.8 |      4.600 |   -224.538 |\n",
      "|        75 | 17:10:49.8 |      4.800 |   -225.016 |\n",
      "|        76 | 17:10:49.9 |      5.000 |   -225.290 |\n",
      "|        77 | 17:10:49.9 |      5.200 |   -225.440 |\n",
      "|        78 | 17:10:49.9 |      5.400 |   -225.520 |\n",
      "|        79 | 17:10:50.0 |      5.600 |   -225.560 |\n",
      "|        80 | 17:10:50.0 |      5.800 |   -225.580 |\n",
      "|        81 | 17:10:50.0 |      6.000 |   -225.589 |\n",
      "|        82 | 17:10:50.1 |      6.200 |   -225.593 |\n",
      "|        83 | 17:10:50.1 |      6.400 |   -225.595 |\n",
      "|        84 | 17:10:50.1 |      6.600 |   -225.596 |\n",
      "|        85 | 17:10:50.2 |      6.800 |   -225.596 |\n",
      "|        86 | 17:10:50.2 |      7.000 |   -225.596 |\n",
      "|        87 | 17:10:50.2 |      7.200 |   -225.597 |\n",
      "|        88 | 17:10:50.3 |      7.400 |   -225.597 |\n",
      "|        89 | 17:10:50.3 |      7.600 |   -225.597 |\n",
      "|        90 | 17:10:50.3 |      7.800 |   -225.597 |\n",
      "|        91 | 17:10:50.3 |      8.000 |   -225.597 |\n",
      "|        92 | 17:10:50.4 |      8.200 |   -225.597 |\n",
      "|        93 | 17:10:50.4 |      8.400 |   -225.597 |\n",
      "|        94 | 17:10:50.5 |      8.600 |   -225.597 |\n",
      "|        95 | 17:10:50.5 |      8.800 |   -225.597 |\n",
      "|        96 | 17:10:50.5 |      9.000 |   -225.597 |\n",
      "|        97 | 17:10:50.5 |      9.200 |   -225.597 |\n",
      "|        98 | 17:10:50.6 |      9.400 |   -225.597 |\n",
      "|        99 | 17:10:50.6 |      9.600 |   -225.597 |\n",
      "+-----------+------------+------------+------------+\n",
      "|   seq_num |       time |     motor1 |      Knife |\n",
      "+-----------+------------+------------+------------+\n",
      "|       100 | 17:10:50.6 |      9.800 |   -225.597 |\n",
      "|       101 | 17:10:50.7 |     10.000 |   -225.597 |\n",
      "+-----------+------------+------------+------------+\n",
      "generator scan ['28237c8d'] (scan num: 1)\n",
      "\n",
      "\n",
      "\n"
     ]
    },
    {
     "data": {
      "text/plain": [
       "('28237c8d-7ded-4612-8b81-faad5a9ab950',)"
      ]
     },
     "execution_count": 9,
     "metadata": {},
     "output_type": "execute_result"
    },
    {
     "data": {
      "image/png": "[encoded data removed]",
      "text/plain": [
       "<Figure size 500x500 with 1 Axes>"
      ]
     },
     "metadata": {},
     "output_type": "display_data"
    }
   ],
   "source": [
    "RE(scan([detector], motor, -10, 10, 101))"
   ]
  },
  {
   "cell_type": "code",
   "execution_count": null,
   "metadata": {},
   "outputs": [],
   "source": [
    "data = db[-1].table() #Should we use databroker now?"
   ]
  }
 ],
 "metadata": {
  "kernelspec": {
   "display_name": "Python 3",
   "language": "python",
   "name": "python3"
  },
  "language_info": {
   "codemirror_mode": {
    "name": "ipython",
    "version": 3
   },
   "file_extension": ".py",
   "mimetype": "text/x-python",
   "name": "python",
   "nbconvert_exporter": "python",
   "pygments_lexer": "ipython3",
   "version": "3.12.5"
  }
 },
 "nbformat": 4,
 "nbformat_minor": 2
}
