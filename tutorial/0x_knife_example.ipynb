{
 "cells": [
  {
   "cell_type": "code",
   "execution_count": 1,
   "metadata": {},
   "outputs": [
    {
     "name": "stderr",
     "output_type": "stream",
     "text": [
      "qt.qpa.plugin: Could not find the Qt platform plugin \"wayland\" in \"\"\n",
      "/opt/micromamba/envs/bluesky-workshop/lib/python3.12/site-packages/dask/dataframe/__init__.py:42: FutureWarning: \n",
      "Dask dataframe query planning is disabled because dask-expr is not installed.\n",
      "\n",
      "You can install it with `pip install dask[dataframe]` or `conda install dask`.\n",
      "This will raise in a future version.\n",
      "\n",
      "  warnings.warn(msg, FutureWarning)\n"
     ]
    },
    {
     "data": {
      "text/plain": [
       "<contextlib.ExitStack at 0x7f6673afa6c0>"
      ]
     },
     "execution_count": 1,
     "metadata": {},
     "output_type": "execute_result"
    }
   ],
   "source": [
    "%matplotlib qt\n",
    "import numpy as np\n",
    "import lmfit\n",
    "from bluesky import RunEngine\n",
    "from ophyd import Device, Signal\n",
    "from ophyd import Component as Cpt\n",
    "from ophyd.sim import det, motor1, motor2, noisy_det, SynGauss, SynAxis, SynSignal,EnumSignal\n",
    "from bluesky.callbacks.best_effort import BestEffortCallback\n",
    "from bluesky.callbacks import LiveFitPlot, LiveFit, LivePlot\n",
    "from bluesky.callbacks.fitting import PeakStats\n",
    "from bluesky.callbacks.mpl_plotting import plot_peak_stats\n",
    "from bluesky.plans import scan, rel_scan, list_scan, grid_scan\n",
    "from bluesky.plan_stubs import mv\n",
    "from databroker import Broker\n",
    "from matplotlib.pyplot import ion, subplots\n",
    "from bluesky.utils import install_nb_kicker\n",
    "from scipy.special import erf\n",
    "install_nb_kicker()\n",
    "ion()"
   ]
  },
  {
   "cell_type": "markdown",
   "metadata": {},
   "source": [
    "## RunEngine"
   ]
  },
  {
   "cell_type": "code",
   "execution_count": 2,
   "metadata": {},
   "outputs": [
    {
     "data": {
      "text/plain": [
       "0"
      ]
     },
     "execution_count": 2,
     "metadata": {},
     "output_type": "execute_result"
    }
   ],
   "source": [
    "RE = RunEngine({})\n",
    "bec = BestEffortCallback()\n",
    "RE.subscribe(bec)"
   ]
  },
  {
   "cell_type": "markdown",
   "metadata": {},
   "source": [
    "## Device simulado"
   ]
  },
  {
   "cell_type": "markdown",
   "metadata": {},
   "source": [
    "##### É possível criar devices que simulam o comportamento de algum detector ou fenômeno específico, nesse caso há um modelo de um detector que realiza a integral de um sinal com perfil gaussiano. Na prática, qualquer tipo de device pode ser implementado para simular experimentos ou scans na linha de luz."
   ]
  },
  {
   "cell_type": "code",
   "execution_count": 3,
   "metadata": {},
   "outputs": [],
   "source": [
    "import numpy as np #Hide this import here just for now\n",
    "\n",
    "def gaussian_integral(x, peak, sigma, center):\n",
    "    return peak * sigma * np.sqrt(np.pi / 2) * (erf((x - center) / (np.sqrt(2) * sigma)) - erf((-5 - center) / (np.sqrt(2) * sigma)))\n",
    "\n",
    "class SynKnifeDetector(SynGauss):\n",
    "    \n",
    "    def __init__(self, name, motor, motor_field, center, Imax, *, random_state=None, **kwargs):\n",
    "        super().__init__(name, motor, motor_field, center, Imax, **kwargs)\n",
    "\n",
    "    def _compute(self):\n",
    "        m = self._motor.read()[self._motor_field][\"value\"]\n",
    "        Imax = self.Imax.get()\n",
    "        center = self.center.get()\n",
    "        sigma = self.sigma.get()\n",
    "        noise = self.noise.get()\n",
    "        noise_multiplier = self.noise_multiplier.get()\n",
    "        \n",
    "        return gaussian_integral(m, Imax, sigma, center)\n",
    "        \n"
   ]
  },
  {
   "cell_type": "markdown",
   "metadata": {},
   "source": [
    "## Instância dos devices simulados\n",
    "\n",
    "#### É possível definir os parâmetros na inicialização do device **detector**"
   ]
  },
  {
   "cell_type": "code",
   "execution_count": 4,
   "metadata": {},
   "outputs": [],
   "source": [
    "motor = SynAxis(name='motor')\n",
    "motor.delay = 0.15\n",
    "detector = SynKnifeDetector('detector', motor, 'motor', center=2, Imax=9, sigma=1)"
   ]
  },
  {
   "cell_type": "markdown",
   "metadata": {},
   "source": [
    "### Plot fitting\n",
    "\n",
    "\n",
    "#### Nesse caso, podemos testar funções como o LiveFitPlot e obter o resultado do fit ao final da run"
   ]
  },
  {
   "cell_type": "code",
   "execution_count": 5,
   "metadata": {
    "scrolled": true
   },
   "outputs": [
    {
     "name": "stdout",
     "output_type": "stream",
     "text": [
      "\n",
      "\n",
      "Transient Scan ID: 1     Time: 2024-09-03 10:13:41\n",
      "Persistent Unique Scan ID: '269116f2-2465-452d-9283-4c96c571851f'\n",
      "New stream: 'primary'\n",
      "+-----------+------------+------------+------------+\n",
      "|   seq_num |       time |      motor |   detector |\n",
      "+-----------+------------+------------+------------+\n",
      "|         1 | 10:13:42.1 |    -10.000 |     -0.000 |\n",
      "|         2 | 10:13:42.3 |     -9.487 |     -0.000 |\n",
      "|         3 | 10:13:42.4 |     -8.974 |     -0.000 |\n",
      "|         4 | 10:13:42.6 |     -8.462 |     -0.000 |\n",
      "|         5 | 10:13:42.8 |     -7.949 |     -0.000 |\n",
      "|         6 | 10:13:42.9 |     -7.436 |     -0.000 |\n",
      "|         7 | 10:13:43.1 |     -6.923 |     -0.000 |\n",
      "|         8 | 10:13:43.3 |     -6.410 |     -0.000 |\n",
      "|         9 | 10:13:43.5 |     -5.897 |     -0.000 |\n",
      "|        10 | 10:13:43.6 |     -5.385 |     -0.000 |\n",
      "|        11 | 10:13:43.8 |     -4.872 |      0.000 |\n",
      "|        12 | 10:13:44.0 |     -4.359 |      0.000 |\n",
      "|        13 | 10:13:44.1 |     -3.846 |      0.000 |\n",
      "|        14 | 10:13:44.3 |     -3.333 |      0.000 |\n",
      "|        15 | 10:13:44.5 |     -2.821 |      0.000 |\n",
      "|        16 | 10:13:44.7 |     -2.308 |      0.000 |\n",
      "|        17 | 10:13:44.9 |     -1.795 |      0.002 |\n",
      "|        18 | 10:13:45.1 |     -1.282 |      0.012 |\n",
      "|        19 | 10:13:45.3 |     -0.769 |      0.063 |\n",
      "|        20 | 10:13:45.4 |     -0.256 |      0.271 |\n",
      "|        21 | 10:13:45.6 |      0.256 |      0.916 |\n",
      "|        22 | 10:13:45.8 |      0.769 |      2.464 |\n",
      "|        23 | 10:13:45.9 |      1.282 |      5.333 |\n",
      "|        24 | 10:13:46.1 |      1.795 |      9.447 |\n",
      "|        25 | 10:13:46.3 |      2.308 |     14.006 |\n",
      "|        26 | 10:13:46.4 |      2.821 |     17.913 |\n",
      "|        27 | 10:13:46.6 |      3.333 |     20.502 |\n",
      "|        28 | 10:13:46.7 |      3.846 |     21.828 |\n",
      "|        29 | 10:13:46.9 |      4.359 |     22.353 |\n",
      "|        30 | 10:13:47.1 |      4.872 |     22.514 |\n",
      "|        31 | 10:13:47.2 |      5.385 |     22.552 |\n",
      "|        32 | 10:13:47.4 |      5.897 |     22.559 |\n",
      "|        33 | 10:13:47.6 |      6.410 |     22.560 |\n",
      "|        34 | 10:13:47.7 |      6.923 |     22.560 |\n",
      "|        35 | 10:13:47.9 |      7.436 |     22.560 |\n",
      "|        36 | 10:13:48.1 |      7.949 |     22.560 |\n",
      "|        37 | 10:13:48.2 |      8.462 |     22.560 |\n",
      "|        38 | 10:13:48.4 |      8.974 |     22.560 |\n",
      "|        39 | 10:13:48.6 |      9.487 |     22.560 |\n",
      "|        40 | 10:13:48.8 |     10.000 |     22.560 |\n",
      "+-----------+------------+------------+------------+\n",
      "generator scan ['269116f2'] (scan num: 1)\n",
      "\n",
      "\n",
      "\n"
     ]
    },
    {
     "data": {
      "text/plain": [
       "('269116f2-2465-452d-9283-4c96c571851f',)"
      ]
     },
     "execution_count": 5,
     "metadata": {},
     "output_type": "execute_result"
    }
   ],
   "source": [
    "fig, ax = subplots()\n",
    "bec.disable_plots()\n",
    "\n",
    "    \n",
    "model = lmfit.Model(gaussian_integral)\n",
    "\n",
    "init_guess = {'peak': 5, 'sigma': 1.5, 'center': 3}\n",
    "\n",
    "\n",
    "live_fit = LiveFit(model, 'detector', {'x': 'motor'}, init_guess)\n",
    "live_fit_plot = LiveFitPlot(live_fit, color='r', ax=ax, label='Fit')\n",
    "live_plot = LivePlot('detector', 'motor', marker='x', linestyle='none', ax=ax, label='Scan')\n",
    "\n",
    "RE(\n",
    "    scan([detector], motor, -10, 10, num=40),\n",
    "    [live_fit_plot, live_plot]\n",
    ")"
   ]
  },
  {
   "cell_type": "code",
   "execution_count": 6,
   "metadata": {},
   "outputs": [
    {
     "data": {
      "text/html": [
       "<h2>Fit Result</h2> <p>Model: Model(gaussian_integral)</p> <table class=\"jp-toc-ignore\"><caption class=\"jp-toc-ignore\">Fit Statistics</caption><tr><td style='text-align:left'>fitting method</td><td style='text-align:right'>leastsq</td></tr><tr><td style='text-align:left'># function evals</td><td style='text-align:right'>25</td></tr><tr><td style='text-align:left'># data points</td><td style='text-align:right'>40</td></tr><tr><td style='text-align:left'># variables</td><td style='text-align:right'>3</td></tr><tr><td style='text-align:left'>chi-square</td><td style='text-align:right'> 4.2422e-28</td></tr><tr><td style='text-align:left'>reduced chi-square</td><td style='text-align:right'> 1.1465e-29</td></tr><tr><td style='text-align:left'>Akaike info crit.</td><td style='text-align:right'>-2662.64690</td></tr><tr><td style='text-align:left'>Bayesian info crit.</td><td style='text-align:right'>-2657.58026</td></tr><tr><td style='text-align:left'>R-squared</td><td style='text-align:right'> 1.00000000</td></tr></table><table class=\"jp-toc-ignore\"><caption>Parameters</caption><tr><th style='text-align:left'>name</th><th style='text-align:left'>value</th><th style='text-align:left'>standard error</th><th style='text-align:left'>relative error</th><th style='text-align:left'>initial value</th><th style='text-align:left'>min</th><th style='text-align:left'>max</th><th style='text-align:right'>vary</th></tr><tr><td style='text-align:left'>peak</td><td style='text-align:left'> 9.00000000</td><td style='text-align:left'> 2.6047e-15</td><td style='text-align:left'>(0.00%)</td><td style='text-align:left'>5</td><td style='text-align:left'>       -inf</td><td style='text-align:left'>        inf</td><td style='text-align:right'>True</td></tr><tr><td style='text-align:left'>sigma</td><td style='text-align:left'> 1.00000000</td><td style='text-align:left'> 2.9885e-16</td><td style='text-align:left'>(0.00%)</td><td style='text-align:left'>1.5</td><td style='text-align:left'>       -inf</td><td style='text-align:left'>        inf</td><td style='text-align:right'>True</td></tr><tr><td style='text-align:left'>center</td><td style='text-align:left'> 2.00000000</td><td style='text-align:left'> 2.1626e-16</td><td style='text-align:left'>(0.00%)</td><td style='text-align:left'>3</td><td style='text-align:left'>       -inf</td><td style='text-align:left'>        inf</td><td style='text-align:right'>True</td></tr></table><table class=\"jp-toc-ignore\"><caption>Correlations (unreported values are < 0.100)</caption><tr><th style='text-align:left'>Parameter1</th><th style='text-align:left'>Parameter 2</th><th style='text-align:right'>Correlation</th></tr><tr><td style='text-align:left'>peak</td><td style='text-align:left'>sigma</td><td style='text-align:right'>-0.9898</td></tr><tr><td style='text-align:left'>sigma</td><td style='text-align:left'>center</td><td style='text-align:right'>+0.1015</td></tr></table>"
      ],
      "text/plain": [
       "<lmfit.model.ModelResult at 0x7f667055b740>"
      ]
     },
     "execution_count": 6,
     "metadata": {},
     "output_type": "execute_result"
    }
   ],
   "source": [
    "live_fit.result."
   ]
  },
  {
   "cell_type": "code",
   "execution_count": 7,
   "metadata": {},
   "outputs": [
    {
     "ename": "NameError",
     "evalue": "name 'db' is not defined",
     "output_type": "error",
     "traceback": [
      "\u001b[0;31m---------------------------------------------------------------------------\u001b[0m",
      "\u001b[0;31mNameError\u001b[0m                                 Traceback (most recent call last)",
      "Cell \u001b[0;32mIn[7], line 1\u001b[0m\n\u001b[0;32m----> 1\u001b[0m data \u001b[38;5;241m=\u001b[39m \u001b[43mdb\u001b[49m[\u001b[38;5;241m-\u001b[39m\u001b[38;5;241m1\u001b[39m]\u001b[38;5;241m.\u001b[39mtable() \u001b[38;5;66;03m#Should we use databroker now?\u001b[39;00m\n",
      "\u001b[0;31mNameError\u001b[0m: name 'db' is not defined"
     ]
    }
   ],
   "source": [
    "data = db[-1].table() #Should we use databroker now?"
   ]
  },
  {
   "cell_type": "code",
   "execution_count": null,
   "metadata": {},
   "outputs": [],
   "source": []
  }
 ],
 "metadata": {
  "kernelspec": {
   "display_name": "Python 3 (ipykernel)",
   "language": "python",
   "name": "python3"
  },
  "language_info": {
   "codemirror_mode": {
    "name": "ipython",
    "version": 3
   },
   "file_extension": ".py",
   "mimetype": "text/x-python",
   "name": "python",
   "nbconvert_exporter": "python",
   "pygments_lexer": "ipython3",
   "version": "3.12.5"
  }
 },
 "nbformat": 4,
 "nbformat_minor": 4
}
