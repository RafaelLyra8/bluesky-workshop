{
 "cells": [
  {
   "cell_type": "markdown",
   "id": "eab63918-c88e-470f-9152-e7ca62eadf3c",
   "metadata": {
    "slideshow": {
     "slide_type": "slide"
    }
   },
   "source": [
    "## Ophyd\n",
    "\n",
    "#### Da documentação oficial:\n",
    "Ophyd cria representações de hardware em Python como objetos hierárquicos que agrupam valores relacionados do sistema de controle. Essa estrutura permite o Ophyd disponibilizar:\n",
    "\n",
    "- Uma interface de alto nível consistente para uma ampla gama de dispositivos (usada pelo bluesky).\n",
    "- Acesso direto de baixo nível ao sistema de controle para debug e desenvolvimento.\n",
    "\n",
    "Ao apresentar uma interface uniforme, os planos experimentais podem ser independentes dos detalhes do hardware, simplificando a criação desses planos.\n",
    "\n",
    "#### Como usar?"
   ]
  },
  {
   "cell_type": "markdown",
   "id": "3b498b19-c9db-4760-a209-1a9d0a86b1a6",
   "metadata": {
    "slideshow": {
     "slide_type": "slide"
    }
   },
   "source": [
    "### Leitura de sinais Read-Only"
   ]
  },
  {
   "cell_type": "code",
   "execution_count": 10,
   "id": "ba4aebdd-c4ac-47a9-9b9c-9fe13d0ce2f1",
   "metadata": {
    "slideshow": {
     "slide_type": "fragment"
    }
   },
   "outputs": [],
   "source": [
    "from ophyd.signal import EpicsSignalRO"
   ]
  },
  {
   "cell_type": "code",
   "execution_count": 11,
   "id": "03e4e1d7-c966-4891-9a7e-96004fec6e9c",
   "metadata": {
    "slideshow": {
     "slide_type": "fragment"
    }
   },
   "outputs": [],
   "source": [
    "i0 = EpicsSignalRO('TEST:DETECTOR:Data_RBV')"
   ]
  },
  {
   "cell_type": "markdown",
   "id": "bc7ac328-ec37-40cb-a5f0-077e424085b4",
   "metadata": {
    "slideshow": {
     "slide_type": "fragment"
    }
   },
   "source": [
    "#### Aguardar para até realizar a conexão, é possível definir um timeout"
   ]
  },
  {
   "cell_type": "code",
   "execution_count": 12,
   "id": "32647e9d-4cc1-4ab8-9610-378feb1ddd5b",
   "metadata": {
    "slideshow": {
     "slide_type": "fragment"
    }
   },
   "outputs": [],
   "source": [
    "i0.wait_for_connection(timeout=1) #Aguarda para conexão com timout definido"
   ]
  },
  {
   "cell_type": "markdown",
   "id": "9517a3c2-1511-4726-b627-e82790bd89f6",
   "metadata": {
    "slideshow": {
     "slide_type": "slide"
    }
   },
   "source": [
    "#### Ler o sinal com um simples dicionário, retorna o valor e um timestamp"
   ]
  },
  {
   "cell_type": "code",
   "execution_count": 13,
   "id": "c7b9c7ef-54cf-4396-84b0-27ef05d95e5e",
   "metadata": {
    "slideshow": {
     "slide_type": "fragment"
    }
   },
   "outputs": [
    {
     "data": {
      "text/plain": [
       "{'TEST:DETECTOR:Data_RBV': {'value': 19.079225223915394,\n",
       "  'timestamp': 1725460646.720853}}"
      ]
     },
     "execution_count": 13,
     "metadata": {},
     "output_type": "execute_result"
    }
   ],
   "source": [
    "i0.read()"
   ]
  },
  {
   "cell_type": "markdown",
   "id": "04a17562-82ff-4106-ba83-375eca769a53",
   "metadata": {
    "slideshow": {
     "slide_type": "fragment"
    }
   },
   "source": [
    "#### Descrever com mais metadados, como unidade (EGU) e limites"
   ]
  },
  {
   "cell_type": "code",
   "execution_count": 14,
   "id": "06635a73-41f0-4c89-bff9-d955a5f87c24",
   "metadata": {
    "slideshow": {
     "slide_type": "fragment"
    }
   },
   "outputs": [
    {
     "data": {
      "text/plain": [
       "{'TEST:DETECTOR:Data_RBV': {'source': 'PV:TEST:DETECTOR:Data_RBV',\n",
       "  'dtype': 'number',\n",
       "  'shape': [],\n",
       "  'units': '',\n",
       "  'lower_ctrl_limit': 0.0,\n",
       "  'upper_ctrl_limit': 0.0,\n",
       "  'precision': 0}}"
      ]
     },
     "execution_count": 14,
     "metadata": {},
     "output_type": "execute_result"
    }
   ],
   "source": [
    "i0.describe()"
   ]
  },
  {
   "cell_type": "markdown",
   "id": "829b148b-be6b-4589-9178-2ce872eff30d",
   "metadata": {
    "slideshow": {
     "slide_type": "slide"
    }
   },
   "source": [
    "### Dispositivos com permissão de escrita"
   ]
  },
  {
   "cell_type": "code",
   "execution_count": 15,
   "id": "c94e3c2c-deb0-427b-9dcf-162496bc88e9",
   "metadata": {
    "slideshow": {
     "slide_type": "-"
    }
   },
   "outputs": [],
   "source": [
    "from ophyd import EpicsSignal"
   ]
  },
  {
   "cell_type": "code",
   "execution_count": 16,
   "id": "8d197540-8cd7-4ba3-8a35-9f267577a257",
   "metadata": {
    "slideshow": {
     "slide_type": "-"
    }
   },
   "outputs": [],
   "source": [
    "data = EpicsSignal('TEST:MOTORS:m1', name='data')"
   ]
  },
  {
   "cell_type": "code",
   "execution_count": 17,
   "id": "898d849c-3451-420e-825f-2b2e5c541c3b",
   "metadata": {
    "slideshow": {
     "slide_type": "-"
    }
   },
   "outputs": [],
   "source": [
    "data.wait_for_connection()"
   ]
  },
  {
   "cell_type": "markdown",
   "id": "67ba2d6d-b5c4-4cc6-ba9d-db37d7fe2c5d",
   "metadata": {
    "slideshow": {
     "slide_type": "slide"
    }
   },
   "source": [
    "#### Set\n",
    "É possível utilizar set para realizar ações _sem bloqueio_, isto é, ao realizar data.set(10), o set iniciará o movimento, porém não irá esperar até completar"
   ]
  },
  {
   "cell_type": "code",
   "execution_count": 18,
   "id": "216c316c-7a1d-4ce3-a97f-92e3e090c6ab",
   "metadata": {},
   "outputs": [
    {
     "data": {
      "text/plain": [
       "Status(obj=EpicsSignal(read_pv='TEST:MOTORS:m1', name='data', timestamp=1725471656.608858, tolerance=1e-05, auto_monitor=False, string=False, write_pv='TEST:MOTORS:m1', limits=False, put_complete=False), done=False, success=False)"
      ]
     },
     "execution_count": 18,
     "metadata": {},
     "output_type": "execute_result"
    }
   ],
   "source": [
    "data.set(0)"
   ]
  },
  {
   "cell_type": "markdown",
   "id": "72524474-040f-4000-8e3c-367ada3a5b9e",
   "metadata": {
    "slideshow": {
     "slide_type": "slide"
    }
   },
   "source": [
    "#### Set retorna um Status Object\n",
    "Esses objetos são reponsáveis por notificar quando uma ação \"lenta\" foi completada. Essa ação pode ser: mover um motor, triggar um detector, aguardar uma temperatura específica. Casa Status possui um timeout associado que pode ser configurado."
   ]
  },
  {
   "cell_type": "code",
   "execution_count": 26,
   "id": "2811f0d6-d81f-43bb-bf45-78e762445910",
   "metadata": {
    "slideshow": {
     "slide_type": "fragment"
    }
   },
   "outputs": [
    {
     "name": "stdout",
     "output_type": "stream",
     "text": [
      "Mudei data para 10 e não esperei\n"
     ]
    }
   ],
   "source": [
    "status = data.set(10)\n",
    "print('Mudei data para 10 e não esperei')"
   ]
  },
  {
   "cell_type": "code",
   "execution_count": 27,
   "id": "f4191d97",
   "metadata": {},
   "outputs": [
    {
     "data": {
      "text/plain": [
       "Status(obj=EpicsSignal(read_pv='TEST:MOTORS:m1', name='data', value=10.0, timestamp=1725471804.372479, tolerance=1e-05, auto_monitor=False, string=False, write_pv='TEST:MOTORS:m1', limits=False, put_complete=False), done=True, success=True)"
      ]
     },
     "execution_count": 27,
     "metadata": {},
     "output_type": "execute_result"
    }
   ],
   "source": [
    "status"
   ]
  },
  {
   "cell_type": "code",
   "execution_count": 28,
   "id": "040330de-e2de-48b7-a6a6-506171de3258",
   "metadata": {
    "slideshow": {
     "slide_type": "fragment"
    }
   },
   "outputs": [
    {
     "name": "stdout",
     "output_type": "stream",
     "text": [
      "Mudando para outro valor\n",
      "Movimento finalizado\n"
     ]
    },
    {
     "name": "stderr",
     "output_type": "stream",
     "text": [
      "CA.Client.Exception...............................................\n",
      "    Warning: \"Virtual circuit unresponsive\"\n",
      "    Context: \"10.15.5.147:5064\"\n",
      "    Source File: ../tcpiiu.cpp line 925\n",
      "    Current Time: Wed Sep 04 2024 14:56:31.049582266\n",
      "..................................................................\n",
      "CA.Client.Exception...............................................\n",
      "    Warning: \"Virtual circuit unresponsive\"\n",
      "    Context: \"10.15.5.147:38979\"\n",
      "    Source File: ../tcpiiu.cpp line 925\n",
      "    Current Time: Wed Sep 04 2024 14:56:31.051841225\n",
      "..................................................................\n"
     ]
    }
   ],
   "source": [
    "print('Mudando para outro valor')\n",
    "status = data.set(-90).wait(timeout=10) #aguarda finalizar, mas tem um timeout de 10s\n",
    "print('Movimento finalizado')"
   ]
  },
  {
   "cell_type": "markdown",
   "id": "63e7b49e-e260-4db8-a80a-ed988099b346",
   "metadata": {
    "slideshow": {
     "slide_type": "slide"
    }
   },
   "source": [
    "#### Subscribe\n",
    "É uma maneira de monitorar nosso sinal quando ele mudar"
   ]
  },
  {
   "cell_type": "code",
   "execution_count": 10,
   "id": "201c3080-f349-4582-879c-6042949f593f",
   "metadata": {
    "slideshow": {
     "slide_type": "fragment"
    }
   },
   "outputs": [],
   "source": [
    "values = []\n",
    "def monitorador(value, old_value, timestamp, **kwargs):\n",
    "    values.append({'value': value, 'timestamp': timestamp})\n"
   ]
  },
  {
   "cell_type": "code",
   "execution_count": 11,
   "id": "c3b3502a-4bfc-4548-80f9-abca5f2e5c72",
   "metadata": {
    "slideshow": {
     "slide_type": "fragment"
    }
   },
   "outputs": [
    {
     "data": {
      "text/plain": [
       "0"
      ]
     },
     "execution_count": 11,
     "metadata": {},
     "output_type": "execute_result"
    }
   ],
   "source": [
    "data.subscribe(monitorador)"
   ]
  },
  {
   "cell_type": "code",
   "execution_count": 15,
   "id": "b0b71680-af6f-419f-a07d-bdc8f917aeab",
   "metadata": {
    "slideshow": {
     "slide_type": "slide"
    }
   },
   "outputs": [
    {
     "ename": "RuntimeError",
     "evalue": "Another set() call is still in progress for data",
     "output_type": "error",
     "traceback": [
      "\u001b[0;31m---------------------------------------------------------------------------\u001b[0m",
      "\u001b[0;31mRuntimeError\u001b[0m                              Traceback (most recent call last)",
      "Cell \u001b[0;32mIn[15], line 1\u001b[0m\n\u001b[0;32m----> 1\u001b[0m \u001b[43mdata\u001b[49m\u001b[38;5;241;43m.\u001b[39;49m\u001b[43mset\u001b[49m\u001b[43m(\u001b[49m\u001b[38;5;241;43m-\u001b[39;49m\u001b[38;5;241;43m100\u001b[39;49m\u001b[43m)\u001b[49m\u001b[38;5;241m.\u001b[39mwait()\n\u001b[1;32m      2\u001b[0m data\u001b[38;5;241m.\u001b[39mset(\u001b[38;5;241m7\u001b[39m)\u001b[38;5;241m.\u001b[39mwait()\n\u001b[1;32m      3\u001b[0m data\u001b[38;5;241m.\u001b[39mset(\u001b[38;5;241m10\u001b[39m)\u001b[38;5;241m.\u001b[39mwait()\n",
      "File \u001b[0;32m/opt/micromamba/envs/bluesky-workshop/lib/python3.12/site-packages/ophyd/signal.py:2121\u001b[0m, in \u001b[0;36mEpicsSignal.set\u001b[0;34m(self, value, timeout, settle_time)\u001b[0m\n\u001b[1;32m   2118\u001b[0m     timeout \u001b[38;5;241m=\u001b[39m \u001b[38;5;28mself\u001b[39m\u001b[38;5;241m.\u001b[39mwrite_timeout\n\u001b[1;32m   2120\u001b[0m \u001b[38;5;28;01mif\u001b[39;00m \u001b[38;5;129;01mnot\u001b[39;00m \u001b[38;5;28mself\u001b[39m\u001b[38;5;241m.\u001b[39m_put_complete:\n\u001b[0;32m-> 2121\u001b[0m     \u001b[38;5;28;01mreturn\u001b[39;00m \u001b[38;5;28;43msuper\u001b[39;49m\u001b[43m(\u001b[49m\u001b[43m)\u001b[49m\u001b[38;5;241;43m.\u001b[39;49m\u001b[43mset\u001b[49m\u001b[43m(\u001b[49m\u001b[43mvalue\u001b[49m\u001b[43m,\u001b[49m\u001b[43m \u001b[49m\u001b[43mtimeout\u001b[49m\u001b[38;5;241;43m=\u001b[39;49m\u001b[43mtimeout\u001b[49m\u001b[43m,\u001b[49m\u001b[43m \u001b[49m\u001b[43msettle_time\u001b[49m\u001b[38;5;241;43m=\u001b[39;49m\u001b[43msettle_time\u001b[49m\u001b[43m)\u001b[49m\n\u001b[1;32m   2123\u001b[0m \u001b[38;5;66;03m# using put completion:\u001b[39;00m\n\u001b[1;32m   2124\u001b[0m \u001b[38;5;66;03m# timeout and settle time is handled by the status object.\u001b[39;00m\n\u001b[1;32m   2125\u001b[0m st \u001b[38;5;241m=\u001b[39m Status(\u001b[38;5;28mself\u001b[39m, timeout\u001b[38;5;241m=\u001b[39mtimeout, settle_time\u001b[38;5;241m=\u001b[39msettle_time)\n",
      "File \u001b[0;32m/opt/micromamba/envs/bluesky-workshop/lib/python3.12/site-packages/ophyd/signal.py:379\u001b[0m, in \u001b[0;36mSignal.set\u001b[0;34m(self, value, timeout, settle_time, **kwargs)\u001b[0m\n\u001b[1;32m    376\u001b[0m         \u001b[38;5;28;01mdel\u001b[39;00m th\n\u001b[1;32m    378\u001b[0m \u001b[38;5;28;01mif\u001b[39;00m \u001b[38;5;28mself\u001b[39m\u001b[38;5;241m.\u001b[39m_set_thread \u001b[38;5;129;01mis\u001b[39;00m \u001b[38;5;129;01mnot\u001b[39;00m \u001b[38;5;28;01mNone\u001b[39;00m:\n\u001b[0;32m--> 379\u001b[0m     \u001b[38;5;28;01mraise\u001b[39;00m \u001b[38;5;167;01mRuntimeError\u001b[39;00m(\n\u001b[1;32m    380\u001b[0m         \u001b[38;5;124m\"\u001b[39m\u001b[38;5;124mAnother set() call is still in progress \u001b[39m\u001b[38;5;124m\"\u001b[39m \u001b[38;5;124mf\u001b[39m\u001b[38;5;124m\"\u001b[39m\u001b[38;5;124mfor \u001b[39m\u001b[38;5;132;01m{\u001b[39;00m\u001b[38;5;28mself\u001b[39m\u001b[38;5;241m.\u001b[39mname\u001b[38;5;132;01m}\u001b[39;00m\u001b[38;5;124m\"\u001b[39m\n\u001b[1;32m    381\u001b[0m     )\n\u001b[1;32m    383\u001b[0m st \u001b[38;5;241m=\u001b[39m Status(\u001b[38;5;28mself\u001b[39m)\n\u001b[1;32m    384\u001b[0m \u001b[38;5;28mself\u001b[39m\u001b[38;5;241m.\u001b[39m_status \u001b[38;5;241m=\u001b[39m st\n",
      "\u001b[0;31mRuntimeError\u001b[0m: Another set() call is still in progress for data"
     ]
    }
   ],
   "source": [
    "data.set(-100).wait(timeout=10)\n",
    "data.set(7).wait(timeout=10)\n",
    "data.set(10).wait(timeout=10)"
   ]
  },
  {
   "cell_type": "code",
   "execution_count": 13,
   "id": "051f016e-32b9-41fc-b6f5-5c68ae9ef7ea",
   "metadata": {
    "slideshow": {
     "slide_type": "fragment"
    }
   },
   "outputs": [
    {
     "data": {
      "text/plain": [
       "[{'value': 10, 'timestamp': 1725471240.422506},\n",
       " {'value': 10.0, 'timestamp': 1725471240.557348},\n",
       " {'value': 10.0, 'timestamp': 1725471243.327857},\n",
       " {'value': 3, 'timestamp': 1725471249.3984149},\n",
       " {'value': 3.0, 'timestamp': 1725471249.46474},\n",
       " {'value': 7, 'timestamp': 1725471249.4397273},\n",
       " {'value': 9, 'timestamp': 1725471249.4456837},\n",
       " {'value': 7.0, 'timestamp': 1725471249.473145},\n",
       " {'value': 9.0, 'timestamp': 1725471249.47874},\n",
       " {'value': 9.0, 'timestamp': 1725471250.050536}]"
      ]
     },
     "execution_count": 13,
     "metadata": {},
     "output_type": "execute_result"
    }
   ],
   "source": [
    "values"
   ]
  },
  {
   "cell_type": "markdown",
   "id": "6a003679-faa1-41c1-a8ad-174ff4585946",
   "metadata": {
    "slideshow": {
     "slide_type": "slide"
    }
   },
   "source": [
    "## Dispositivos mais complexos\n",
    "É possível unir diversos sinais e dispisitivos em um Device."
   ]
  },
  {
   "cell_type": "code",
   "execution_count": 21,
   "id": "40c1a2f3-f8bf-4017-af55-3cc9d9d3e66c",
   "metadata": {
    "slideshow": {
     "slide_type": "-"
    }
   },
   "outputs": [],
   "source": [
    "from ophyd import Component as Cpt\n",
    "from ophyd import Device, EpicsSignal, EpicsSignalRO, EpicsMotor, EpicsSignalWithRBV, EpicsMotor, Kind"
   ]
  },
  {
   "cell_type": "markdown",
   "id": "292ea847-4ad3-40c9-84c8-bddf81aaa436",
   "metadata": {
    "slideshow": {
     "slide_type": "slide"
    }
   },
   "source": [
    "Considere os seguintes conjuntos de PVs:\n",
    "\n",
    "Estágios de amostra\n",
    "\n",
    "|Prefixo|Tipo|Descrição|\n",
    "|-------|----|---------|\n",
    "|TEST:MOTORS:m1|Motor|Eixo X do estágio da amostra|\n",
    "|TEST:MOTORS:m2|Motor|Eixo Y do estágio da amostra|\n",
    "|TEST:MOTORS:m3|Motor|Eixo Z do estágio da amostra|\n",
    "|TEST:MOTORS:m4|Motor|Eixo de rotação em X do estágio da amostra|\n",
    "|TEST:MOTORS:m5|Motor|Eixo de rotação em Y do estágio da amostra|\n",
    "|TEST:MOTORS:m6|Motor|Eixo de rotação em Z do estágio da amostra|\n",
    "|TEST:MOTORS:m7|Motor|Eixo de translação auxiliar|\n",
    "|TEST:MOTORS:m8|Motor|Eixo de translação auxiliar|\n",
    "\n",
    "Detector pontual\n",
    "\n",
    "|Prefixo|Tipo|Descrição|\n",
    "|-------|----|---------|\n",
    "|TEST:DETECTOR:AcquisitionNumber|Setpoint|Sobrescreve o número de aquisições feitas até o momento.|\n",
    "|TEST:DETECTOR:AcquisitionNumber_RBV|Readback|Indica o número de aquisições realizadas até o momento.|\n",
    "|TEST:DETECTOR:Trigger|Setpoint|Adquire a leitura atual do detector e salva os dados internamente|\n",
    "|TEST:DETECTOR:Trigger_RBV|Readback|Indica se uma nova leitura está sendo adquirida (1) ou se já foi adquirida (0).|\n",
    "|TEST:DETECTOR:Data|Setpoint|Sobrescreve a leitura mais recente com inputs manuais.|\n",
    "|TEST:DETECTOR:Data_RBV|Readback|Mostra a valor da última leitura do detector.|"
   ]
  },
  {
   "cell_type": "code",
   "execution_count": 22,
   "id": "c1cb0c01-9a67-4727-bb58-80a93b88d2fa",
   "metadata": {
    "slideshow": {
     "slide_type": "slide"
    }
   },
   "outputs": [],
   "source": [
    "class SampleMotor(Device):\n",
    "    x = Cpt(EpicsMotor, \"m1\", kind=Kind.hinted)\n",
    "    \"\"\"Eixo X do estágio da amostra.\"\"\"\n",
    "    y = Cpt(EpicsMotor, \"m2\", kind=Kind.hinted)\n",
    "    \"\"\"Eixo Y do estágio da amostra.\"\"\"\n",
    "    z = Cpt(EpicsMotor, \"m3\", kind=Kind.hinted)\n",
    "    \"\"\"Eixo Z do estágio da amostra.\"\"\"\n",
    " \n",
    "    rx = Cpt(EpicsMotor, \"m4\")\n",
    "    \"\"\"Eixo de rotação em X do estágio da amostra.\"\"\"\n",
    "    ry = Cpt(EpicsMotor, \"m5\")\n",
    "    \"\"\"Eixo de rotação em Y do estágio da amostra.\"\"\"\n",
    "    rz = Cpt(EpicsMotor, \"m6\")\n",
    "    \"\"\"Eixo de rotação em Z do estágio da amostra.\"\"\"\n",
    " \n",
    "    utg = Cpt(EpicsMotor, \"m7\")\n",
    "    \"\"\"Eixo de translação auxiliar.\"\"\"\n",
    "    uth = Cpt(EpicsMotor, \"m8\")\n",
    "    \"\"\"Eixo de translação auxiliar.\"\"\""
   ]
  },
  {
   "cell_type": "code",
   "execution_count": 23,
   "id": "1f0ac529-e50c-4692-ba56-792a9287ff5b",
   "metadata": {
    "slideshow": {
     "slide_type": "fragment"
    }
   },
   "outputs": [
    {
     "name": "stderr",
     "output_type": "stream",
     "text": [
      "CA.Client.Exception...............................................\n",
      "    Warning: \"Identical process variable names on multiple servers\"\n",
      "    Context: \"Channel: \"TEST:MOTORS:m1.HOMF\", Connecting to: DESKTOP-EM9GKQH.abtlus.org.br:5064, Ignored: 10.15.5.147:38979\"\n",
      "    Source File: ../cac.cpp line 1320\n",
      "    Current Time: Wed Sep 04 2024 14:23:05.663324012\n",
      "..................................................................\n",
      "CA.Client.Exception...............................................\n",
      "    Warning: \"Identical process variable names on multiple servers\"\n",
      "    Context: \"Channel: \"TEST:MOTORS:m1.HOMR\", Connecting to: DESKTOP-EM9GKQH.abtlus.org.br:5064, Ignored: 10.15.5.147:38979\"\n",
      "    Source File: ../cac.cpp line 1320\n",
      "    Current Time: Wed Sep 04 2024 14:23:05.663340925\n",
      "..................................................................\n",
      "CA.Client.Exception...............................................\n",
      "    Warning: \"Identical process variable names on multiple servers\"\n",
      "    Context: \"Channel: \"TEST:MOTORS:m2.RBV\", Connecting to: DESKTOP-EM9GKQH.abtlus.org.br:5064, Ignored: 10.15.5.147:38979\"\n",
      "    Source File: ../cac.cpp line 1320\n",
      "    Current Time: Wed Sep 04 2024 14:23:05.663347492\n",
      "..................................................................\n",
      "CA.Client.Exception...............................................\n",
      "    Warning: \"Identical process variable names on multiple servers\"\n",
      "    Context: \"Channel: \"TEST:MOTORS:m2.VAL\", Connecting to: DESKTOP-EM9GKQH.abtlus.org.br:5064, Ignored: 10.15.5.147:38979\"\n",
      "    Source File: ../cac.cpp line 1320\n",
      "    Current Time: Wed Sep 04 2024 14:23:05.663354378\n",
      "..................................................................\n",
      "CA.Client.Exception...............................................\n",
      "    Warning: \"Identical process variable names on multiple servers\"\n",
      "    Context: \"Channel: \"TEST:MOTORS:m2.OFF\", Connecting to: DESKTOP-EM9GKQH.abtlus.org.br:5064, Ignored: 10.15.5.147:38979\"\n",
      "    Source File: ../cac.cpp line 1320\n",
      "    Current Time: Wed Sep 04 2024 14:23:05.663360380\n",
      "..................................................................\n",
      "CA.Client.Exception...............................................\n",
      "    Warning: \"Identical process variable names on multiple servers\"\n",
      "    Context: \"Channel: \"TEST:MOTORS:m2.DIR\", Connecting to: DESKTOP-EM9GKQH.abtlus.org.br:5064, Ignored: 10.15.5.147:38979\"\n",
      "    Source File: ../cac.cpp line 1320\n",
      "    Current Time: Wed Sep 04 2024 14:23:05.663366728\n",
      "..................................................................\n",
      "CA.Client.Exception...............................................\n",
      "    Warning: \"Identical process variable names on multiple servers\"\n",
      "    Context: \"Channel: \"TEST:MOTORS:m2.FOFF\", Connecting to: DESKTOP-EM9GKQH.abtlus.org.br:5064, Ignored: 10.15.5.147:38979\"\n",
      "    Source File: ../cac.cpp line 1320\n",
      "    Current Time: Wed Sep 04 2024 14:23:05.663373241\n",
      "..................................................................\n",
      "CA.Client.Exception...............................................\n",
      "    Warning: \"Identical process variable names on multiple servers\"\n",
      "    Context: \"Channel: \"TEST:MOTORS:m2.SET\", Connecting to: DESKTOP-EM9GKQH.abtlus.org.br:5064, Ignored: 10.15.5.147:38979\"\n",
      "    Source File: ../cac.cpp line 1320\n",
      "    Current Time: Wed Sep 04 2024 14:23:05.663380860\n",
      "..................................................................\n",
      "CA.Client.Exception...............................................\n",
      "    Warning: \"Identical process variable names on multiple servers\"\n",
      "    Context: \"Channel: \"TEST:MOTORS:m3.LLS\", Connecting to: DESKTOP-EM9GKQH.abtlus.org.br:5064, Ignored: 10.15.5.147:38979\"\n",
      "    Source File: ../cac.cpp line 1320\n",
      "    Current Time: Wed Sep 04 2024 14:23:05.663391254\n",
      "..................................................................\n",
      "CA.Client.Exception...............................................\n",
      "    Warning: \"Identical process variable names on multiple servers\"\n",
      "    Context: \"Channel: \"TEST:MOTORS:m3.HLM\", Connecting to: DESKTOP-EM9GKQH.abtlus.org.br:5064, Ignored: 10.15.5.147:38979\"\n",
      "    Source File: ../cac.cpp line 1320\n",
      "    Current Time: Wed Sep 04 2024 14:23:05.663397216\n",
      "..................................................................\n",
      "CA.Client.Exception...............................................\n",
      "    Warning: \"Identical process variable names on multiple servers\"\n",
      "    Context: \"Channel: \"TEST:MOTORS:m3.LLM\", Connecting to: DESKTOP-EM9GKQH.abtlus.org.br:5064, Ignored: 10.15.5.147:38979\"\n",
      "    Source File: ../cac.cpp line 1320\n",
      "    Current Time: Wed Sep 04 2024 14:23:05.663402946\n",
      "..................................................................\n",
      "CA.Client.Exception...............................................\n",
      "    Warning: \"Identical process variable names on multiple servers\"\n",
      "    Context: \"Channel: \"TEST:MOTORS:m3.TDIR\", Connecting to: DESKTOP-EM9GKQH.abtlus.org.br:5064, Ignored: 10.15.5.147:38979\"\n",
      "    Source File: ../cac.cpp line 1320\n",
      "    Current Time: Wed Sep 04 2024 14:23:05.663408701\n",
      "..................................................................\n",
      "CA.Client.Exception...............................................\n",
      "    Warning: \"Identical process variable names on multiple servers\"\n",
      "    Context: \"Channel: \"TEST:MOTORS:m3.STOP\", Connecting to: DESKTOP-EM9GKQH.abtlus.org.br:5064, Ignored: 10.15.5.147:38979\"\n",
      "    Source File: ../cac.cpp line 1320\n",
      "    Current Time: Wed Sep 04 2024 14:23:05.663414963\n",
      "..................................................................\n",
      "CA.Client.Exception...............................................\n",
      "    Warning: \"Identical process variable names on multiple servers\"\n",
      "    Context: \"Channel: \"TEST:MOTORS:m3.HOMF\", Connecting to: DESKTOP-EM9GKQH.abtlus.org.br:5064, Ignored: 10.15.5.147:38979\"\n",
      "    Source File: ../cac.cpp line 1320\n",
      "    Current Time: Wed Sep 04 2024 14:23:05.663421080\n",
      "..................................................................\n",
      "CA.Client.Exception...............................................\n",
      "    Warning: \"Identical process variable names on multiple servers\"\n",
      "    Context: \"Channel: \"TEST:MOTORS:m3.HOMR\", Connecting to: DESKTOP-EM9GKQH.abtlus.org.br:5064, Ignored: 10.15.5.147:38979\"\n",
      "    Source File: ../cac.cpp line 1320\n",
      "    Current Time: Wed Sep 04 2024 14:23:05.663426792\n",
      "..................................................................\n",
      "CA.Client.Exception...............................................\n",
      "    Warning: \"Identical process variable names on multiple servers\"\n",
      "    Context: \"Channel: \"TEST:MOTORS:m4.RBV\", Connecting to: DESKTOP-EM9GKQH.abtlus.org.br:5064, Ignored: 10.15.5.147:38979\"\n",
      "    Source File: ../cac.cpp line 1320\n",
      "    Current Time: Wed Sep 04 2024 14:23:05.663434221\n",
      "..................................................................\n",
      "CA.Client.Exception...............................................\n",
      "    Warning: \"Identical process variable names on multiple servers\"\n",
      "    Context: \"Channel: \"TEST:MOTORS:m4.VAL\", Connecting to: DESKTOP-EM9GKQH.abtlus.org.br:5064, Ignored: 10.15.5.147:38979\"\n",
      "    Source File: ../cac.cpp line 1320\n",
      "    Current Time: Wed Sep 04 2024 14:23:05.663440396\n",
      "..................................................................\n",
      "CA.Client.Exception...............................................\n",
      "    Warning: \"Identical process variable names on multiple servers\"\n",
      "    Context: \"Channel: \"TEST:MOTORS:m4.OFF\", Connecting to: DESKTOP-EM9GKQH.abtlus.org.br:5064, Ignored: 10.15.5.147:38979\"\n",
      "    Source File: ../cac.cpp line 1320\n",
      "    Current Time: Wed Sep 04 2024 14:23:05.663453608\n",
      "..................................................................\n",
      "CA.Client.Exception...............................................\n",
      "    Warning: \"Identical process variable names on multiple servers\"\n",
      "    Context: \"Channel: \"TEST:MOTORS:m4.DIR\", Connecting to: DESKTOP-EM9GKQH.abtlus.org.br:5064, Ignored: 10.15.5.147:38979\"\n",
      "    Source File: ../cac.cpp line 1320\n",
      "    Current Time: Wed Sep 04 2024 14:23:05.663459256\n",
      "..................................................................\n",
      "CA.Client.Exception...............................................\n",
      "    Warning: \"Identical process variable names on multiple servers\"\n",
      "    Context: \"Channel: \"TEST:MOTORS:m4.FOFF\", Connecting to: DESKTOP-EM9GKQH.abtlus.org.br:5064, Ignored: 10.15.5.147:38979\"\n",
      "    Source File: ../cac.cpp line 1320\n",
      "    Current Time: Wed Sep 04 2024 14:23:05.663466079\n",
      "..................................................................\n",
      "CA.Client.Exception...............................................\n",
      "    Warning: \"Identical process variable names on multiple servers\"\n",
      "    Context: \"Channel: \"TEST:MOTORS:m4.SET\", Connecting to: DESKTOP-EM9GKQH.abtlus.org.br:5064, Ignored: 10.15.5.147:38979\"\n",
      "    Source File: ../cac.cpp line 1320\n",
      "    Current Time: Wed Sep 04 2024 14:23:05.663479476\n",
      "..................................................................\n",
      "CA.Client.Exception...............................................\n",
      "    Warning: \"Identical process variable names on multiple servers\"\n",
      "    Context: \"Channel: \"TEST:MOTORS:m4.VELO\", Connecting to: DESKTOP-EM9GKQH.abtlus.org.br:5064, Ignored: 10.15.5.147:38979\"\n",
      "    Source File: ../cac.cpp line 1320\n",
      "    Current Time: Wed Sep 04 2024 14:23:05.663486153\n",
      "..................................................................\n",
      "CA.Client.Exception...............................................\n",
      "    Warning: \"Identical process variable names on multiple servers\"\n",
      "    Context: \"Channel: \"TEST:MOTORS:m4.ACCL\", Connecting to: DESKTOP-EM9GKQH.abtlus.org.br:5064, Ignored: 10.15.5.147:38979\"\n",
      "    Source File: ../cac.cpp line 1320\n",
      "    Current Time: Wed Sep 04 2024 14:23:05.663495022\n",
      "..................................................................\n",
      "CA.Client.Exception...............................................\n",
      "    Warning: \"Identical process variable names on multiple servers\"\n",
      "    Context: \"Channel: \"TEST:MOTORS:m4.EGU\", Connecting to: DESKTOP-EM9GKQH.abtlus.org.br:5064, Ignored: 10.15.5.147:38979\"\n",
      "    Source File: ../cac.cpp line 1320\n",
      "    Current Time: Wed Sep 04 2024 14:23:05.663501654\n",
      "..................................................................\n",
      "CA.Client.Exception...............................................\n",
      "    Warning: \"Identical process variable names on multiple servers\"\n",
      "    Context: \"Channel: \"TEST:MOTORS:m4.MOVN\", Connecting to: DESKTOP-EM9GKQH.abtlus.org.br:5064, Ignored: 10.15.5.147:38979\"\n",
      "    Source File: ../cac.cpp line 1320\n",
      "    Current Time: Wed Sep 04 2024 14:23:05.663513669\n",
      "..................................................................\n",
      "CA.Client.Exception...............................................\n",
      "    Warning: \"Identical process variable names on multiple servers\"\n",
      "    Context: \"Channel: \"TEST:MOTORS:m4.DMOV\", Connecting to: DESKTOP-EM9GKQH.abtlus.org.br:5064, Ignored: 10.15.5.147:38979\"\n",
      "    Source File: ../cac.cpp line 1320\n",
      "    Current Time: Wed Sep 04 2024 14:23:05.663519387\n",
      "..................................................................\n",
      "CA.Client.Exception...............................................\n",
      "    Warning: \"Identical process variable names on multiple servers\"\n",
      "    Context: \"Channel: \"TEST:MOTORS:m4.HLS\", Connecting to: DESKTOP-EM9GKQH.abtlus.org.br:5064, Ignored: 10.15.5.147:38979\"\n",
      "    Source File: ../cac.cpp line 1320\n",
      "    Current Time: Wed Sep 04 2024 14:23:05.663530593\n",
      "..................................................................\n",
      "CA.Client.Exception...............................................\n",
      "    Warning: \"Identical process variable names on multiple servers\"\n",
      "    Context: \"Channel: \"TEST:MOTORS:m4.LLS\", Connecting to: DESKTOP-EM9GKQH.abtlus.org.br:5064, Ignored: 10.15.5.147:38979\"\n",
      "    Source File: ../cac.cpp line 1320\n",
      "    Current Time: Wed Sep 04 2024 14:23:05.663536460\n",
      "..................................................................\n",
      "CA.Client.Exception...............................................\n",
      "    Warning: \"Identical process variable names on multiple servers\"\n",
      "    Context: \"Channel: \"TEST:MOTORS:m4.HLM\", Connecting to: DESKTOP-EM9GKQH.abtlus.org.br:5064, Ignored: 10.15.5.147:38979\"\n",
      "    Source File: ../cac.cpp line 1320\n",
      "    Current Time: Wed Sep 04 2024 14:23:05.663543106\n",
      "..................................................................\n",
      "CA.Client.Exception...............................................\n",
      "    Warning: \"Identical process variable names on multiple servers\"\n",
      "    Context: \"Channel: \"TEST:MOTORS:m4.LLM\", Connecting to: DESKTOP-EM9GKQH.abtlus.org.br:5064, Ignored: 10.15.5.147:38979\"\n",
      "    Source File: ../cac.cpp line 1320\n",
      "    Current Time: Wed Sep 04 2024 14:23:05.663549989\n",
      "..................................................................\n",
      "CA.Client.Exception...............................................\n",
      "    Warning: \"Identical process variable names on multiple servers\"\n",
      "    Context: \"Channel: \"TEST:MOTORS:m4.TDIR\", Connecting to: DESKTOP-EM9GKQH.abtlus.org.br:5064, Ignored: 10.15.5.147:38979\"\n",
      "    Source File: ../cac.cpp line 1320\n",
      "    Current Time: Wed Sep 04 2024 14:23:05.663555706\n",
      "..................................................................\n",
      "CA.Client.Exception...............................................\n",
      "    Warning: \"Identical process variable names on multiple servers\"\n",
      "    Context: \"Channel: \"TEST:MOTORS:m4.STOP\", Connecting to: DESKTOP-EM9GKQH.abtlus.org.br:5064, Ignored: 10.15.5.147:38979\"\n",
      "    Source File: ../cac.cpp line 1320\n",
      "    Current Time: Wed Sep 04 2024 14:23:05.663563095\n",
      "..................................................................\n",
      "CA.Client.Exception...............................................\n",
      "    Warning: \"Identical process variable names on multiple servers\"\n",
      "    Context: \"Channel: \"TEST:MOTORS:m4.HOMF\", Connecting to: DESKTOP-EM9GKQH.abtlus.org.br:5064, Ignored: 10.15.5.147:38979\"\n",
      "    Source File: ../cac.cpp line 1320\n",
      "    Current Time: Wed Sep 04 2024 14:23:05.663578123\n",
      "..................................................................\n",
      "CA.Client.Exception...............................................\n",
      "    Warning: \"Identical process variable names on multiple servers\"\n",
      "    Context: \"Channel: \"TEST:MOTORS:m4.HOMR\", Connecting to: DESKTOP-EM9GKQH.abtlus.org.br:5064, Ignored: 10.15.5.147:38979\"\n",
      "    Source File: ../cac.cpp line 1320\n",
      "    Current Time: Wed Sep 04 2024 14:23:05.663591874\n",
      "..................................................................\n",
      "CA.Client.Exception...............................................\n",
      "    Warning: \"Identical process variable names on multiple servers\"\n",
      "    Context: \"Channel: \"TEST:MOTORS:m5.RBV\", Connecting to: DESKTOP-EM9GKQH.abtlus.org.br:5064, Ignored: 10.15.5.147:38979\"\n",
      "    Source File: ../cac.cpp line 1320\n",
      "    Current Time: Wed Sep 04 2024 14:23:05.663604107\n",
      "..................................................................\n",
      "CA.Client.Exception...............................................\n",
      "    Warning: \"Identical process variable names on multiple servers\"\n",
      "    Context: \"Channel: \"TEST:MOTORS:m5.VAL\", Connecting to: DESKTOP-EM9GKQH.abtlus.org.br:5064, Ignored: 10.15.5.147:38979\"\n",
      "    Source File: ../cac.cpp line 1320\n",
      "    Current Time: Wed Sep 04 2024 14:23:05.663614093\n",
      "..................................................................\n",
      "CA.Client.Exception...............................................\n",
      "    Warning: \"Identical process variable names on multiple servers\"\n",
      "    Context: \"Channel: \"TEST:MOTORS:m5.OFF\", Connecting to: DESKTOP-EM9GKQH.abtlus.org.br:5064, Ignored: 10.15.5.147:38979\"\n",
      "    Source File: ../cac.cpp line 1320\n",
      "    Current Time: Wed Sep 04 2024 14:23:05.663623881\n",
      "..................................................................\n",
      "CA.Client.Exception...............................................\n",
      "    Warning: \"Identical process variable names on multiple servers\"\n",
      "    Context: \"Channel: \"TEST:MOTORS:m5.DIR\", Connecting to: DESKTOP-EM9GKQH.abtlus.org.br:5064, Ignored: 10.15.5.147:38979\"\n",
      "    Source File: ../cac.cpp line 1320\n",
      "    Current Time: Wed Sep 04 2024 14:23:05.663631847\n",
      "..................................................................\n",
      "CA.Client.Exception...............................................\n",
      "    Warning: \"Identical process variable names on multiple servers\"\n",
      "    Context: \"Channel: \"TEST:MOTORS:m5.FOFF\", Connecting to: DESKTOP-EM9GKQH.abtlus.org.br:5064, Ignored: 10.15.5.147:38979\"\n",
      "    Source File: ../cac.cpp line 1320\n",
      "    Current Time: Wed Sep 04 2024 14:23:05.663637715\n",
      "..................................................................\n",
      "CA.Client.Exception...............................................\n",
      "    Warning: \"Identical process variable names on multiple servers\"\n",
      "    Context: \"Channel: \"TEST:MOTORS:m5.SET\", Connecting to: DESKTOP-EM9GKQH.abtlus.org.br:5064, Ignored: 10.15.5.147:38979\"\n",
      "    Source File: ../cac.cpp line 1320\n",
      "    Current Time: Wed Sep 04 2024 14:23:05.663643129\n",
      "..................................................................\n",
      "CA.Client.Exception...............................................\n",
      "    Warning: \"Identical process variable names on multiple servers\"\n",
      "    Context: \"Channel: \"TEST:MOTORS:m5.VELO\", Connecting to: DESKTOP-EM9GKQH.abtlus.org.br:5064, Ignored: 10.15.5.147:38979\"\n",
      "    Source File: ../cac.cpp line 1320\n",
      "    Current Time: Wed Sep 04 2024 14:23:05.663649084\n",
      "..................................................................\n",
      "CA.Client.Exception...............................................\n",
      "    Warning: \"Identical process variable names on multiple servers\"\n",
      "    Context: \"Channel: \"TEST:MOTORS:m5.ACCL\", Connecting to: DESKTOP-EM9GKQH.abtlus.org.br:5064, Ignored: 10.15.5.147:38979\"\n",
      "    Source File: ../cac.cpp line 1320\n",
      "    Current Time: Wed Sep 04 2024 14:23:05.663662210\n",
      "..................................................................\n",
      "CA.Client.Exception...............................................\n",
      "    Warning: \"Identical process variable names on multiple servers\"\n",
      "    Context: \"Channel: \"TEST:MOTORS:m5.EGU\", Connecting to: DESKTOP-EM9GKQH.abtlus.org.br:5064, Ignored: 10.15.5.147:38979\"\n",
      "    Source File: ../cac.cpp line 1320\n",
      "    Current Time: Wed Sep 04 2024 14:23:05.663669759\n",
      "..................................................................\n",
      "CA.Client.Exception...............................................\n",
      "    Warning: \"Identical process variable names on multiple servers\"\n",
      "    Context: \"Channel: \"TEST:MOTORS:m5.MOVN\", Connecting to: DESKTOP-EM9GKQH.abtlus.org.br:5064, Ignored: 10.15.5.147:38979\"\n",
      "    Source File: ../cac.cpp line 1320\n",
      "    Current Time: Wed Sep 04 2024 14:23:05.663678469\n",
      "..................................................................\n",
      "CA.Client.Exception...............................................\n",
      "    Warning: \"Identical process variable names on multiple servers\"\n",
      "    Context: \"Channel: \"TEST:MOTORS:m5.DMOV\", Connecting to: DESKTOP-EM9GKQH.abtlus.org.br:5064, Ignored: 10.15.5.147:38979\"\n",
      "    Source File: ../cac.cpp line 1320\n",
      "    Current Time: Wed Sep 04 2024 14:23:05.663690929\n",
      "..................................................................\n",
      "CA.Client.Exception...............................................\n",
      "    Warning: \"Identical process variable names on multiple servers\"\n",
      "    Context: \"Channel: \"TEST:MOTORS:m5.HLS\", Connecting to: DESKTOP-EM9GKQH.abtlus.org.br:5064, Ignored: 10.15.5.147:38979\"\n",
      "    Source File: ../cac.cpp line 1320\n",
      "    Current Time: Wed Sep 04 2024 14:23:05.663703626\n",
      "..................................................................\n",
      "CA.Client.Exception...............................................\n",
      "    Warning: \"Identical process variable names on multiple servers\"\n",
      "    Context: \"Channel: \"TEST:MOTORS:m5.LLS\", Connecting to: DESKTOP-EM9GKQH.abtlus.org.br:5064, Ignored: 10.15.5.147:38979\"\n",
      "    Source File: ../cac.cpp line 1320\n",
      "    Current Time: Wed Sep 04 2024 14:23:05.663714898\n",
      "..................................................................\n",
      "CA.Client.Exception...............................................\n",
      "    Warning: \"Identical process variable names on multiple servers\"\n",
      "    Context: \"Channel: \"TEST:MOTORS:m5.HLM\", Connecting to: DESKTOP-EM9GKQH.abtlus.org.br:5064, Ignored: 10.15.5.147:38979\"\n",
      "    Source File: ../cac.cpp line 1320\n",
      "    Current Time: Wed Sep 04 2024 14:23:05.663725997\n",
      "..................................................................\n",
      "CA.Client.Exception...............................................\n",
      "    Warning: \"Identical process variable names on multiple servers\"\n",
      "    Context: \"Channel: \"TEST:MOTORS:m5.LLM\", Connecting to: DESKTOP-EM9GKQH.abtlus.org.br:5064, Ignored: 10.15.5.147:38979\"\n",
      "    Source File: ../cac.cpp line 1320\n",
      "    Current Time: Wed Sep 04 2024 14:23:05.663733302\n",
      "..................................................................\n",
      "CA.Client.Exception...............................................\n",
      "    Warning: \"Identical process variable names on multiple servers\"\n",
      "    Context: \"Channel: \"TEST:MOTORS:m5.TDIR\", Connecting to: DESKTOP-EM9GKQH.abtlus.org.br:5064, Ignored: 10.15.5.147:38979\"\n",
      "    Source File: ../cac.cpp line 1320\n",
      "    Current Time: Wed Sep 04 2024 14:23:05.663740639\n",
      "..................................................................\n",
      "CA.Client.Exception...............................................\n",
      "    Warning: \"Identical process variable names on multiple servers\"\n",
      "    Context: \"Channel: \"TEST:MOTORS:m5.STOP\", Connecting to: DESKTOP-EM9GKQH.abtlus.org.br:5064, Ignored: 10.15.5.147:38979\"\n",
      "    Source File: ../cac.cpp line 1320\n",
      "    Current Time: Wed Sep 04 2024 14:23:05.663751100\n",
      "..................................................................\n",
      "CA.Client.Exception...............................................\n",
      "    Warning: \"Identical process variable names on multiple servers\"\n",
      "    Context: \"Channel: \"TEST:MOTORS:m5.HOMF\", Connecting to: DESKTOP-EM9GKQH.abtlus.org.br:5064, Ignored: 10.15.5.147:38979\"\n",
      "    Source File: ../cac.cpp line 1320\n",
      "    Current Time: Wed Sep 04 2024 14:23:05.663765434\n",
      "..................................................................\n",
      "CA.Client.Exception...............................................\n",
      "    Warning: \"Identical process variable names on multiple servers\"\n",
      "    Context: \"Channel: \"TEST:MOTORS:m5.HOMR\", Connecting to: DESKTOP-EM9GKQH.abtlus.org.br:5064, Ignored: 10.15.5.147:38979\"\n",
      "    Source File: ../cac.cpp line 1320\n",
      "    Current Time: Wed Sep 04 2024 14:23:05.663773759\n",
      "..................................................................\n",
      "CA.Client.Exception...............................................\n",
      "    Warning: \"Identical process variable names on multiple servers\"\n",
      "    Context: \"Channel: \"TEST:MOTORS:m6.RBV\", Connecting to: DESKTOP-EM9GKQH.abtlus.org.br:5064, Ignored: 10.15.5.147:38979\"\n",
      "    Source File: ../cac.cpp line 1320\n",
      "    Current Time: Wed Sep 04 2024 14:23:05.663786133\n",
      "..................................................................\n",
      "CA.Client.Exception...............................................\n",
      "    Warning: \"Identical process variable names on multiple servers\"\n",
      "    Context: \"Channel: \"TEST:MOTORS:m6.VAL\", Connecting to: DESKTOP-EM9GKQH.abtlus.org.br:5064, Ignored: 10.15.5.147:38979\"\n",
      "    Source File: ../cac.cpp line 1320\n",
      "    Current Time: Wed Sep 04 2024 14:23:05.664220390\n",
      "..................................................................\n",
      "CA.Client.Exception...............................................\n",
      "    Warning: \"Identical process variable names on multiple servers\"\n",
      "    Context: \"Channel: \"TEST:MOTORS:m6.OFF\", Connecting to: DESKTOP-EM9GKQH.abtlus.org.br:5064, Ignored: 10.15.5.147:38979\"\n",
      "    Source File: ../cac.cpp line 1320\n",
      "    Current Time: Wed Sep 04 2024 14:23:05.664232286\n",
      "..................................................................\n",
      "CA.Client.Exception...............................................\n",
      "    Warning: \"Identical process variable names on multiple servers\"\n",
      "    Context: \"Channel: \"TEST:MOTORS:m6.DIR\", Connecting to: DESKTOP-EM9GKQH.abtlus.org.br:5064, Ignored: 10.15.5.147:38979\"\n",
      "    Source File: ../cac.cpp line 1320\n",
      "    Current Time: Wed Sep 04 2024 14:23:05.664237196\n",
      "..................................................................\n",
      "CA.Client.Exception...............................................\n",
      "    Warning: \"Identical process variable names on multiple servers\"\n",
      "errlog: lost 14 messages\n",
      "CA.Client.Exception...............................................\n",
      "    Warning: \"Identical process variable names on multiple servers\"\n",
      "    Context: \"Channel: \"TEST:MOTORS:m6.VELO\", Connecting to: DESKTOP-EM9GKQH.abtlus.org.br:5064, Ignored: 10.15.5.147:38979\"\n",
      "    Source File: ../cac.cpp line 1320\n",
      "    Current Time: Wed Sep 04 2024 14:23:05.664252835\n",
      "..................................................................\n",
      "CA.Client.Exception...............................................\n",
      "    Warning: \"Identical process variable names on multiple servers\"\n",
      "    Context: \"Channel: \"TEST:MOTORS:m6.ACCL\", Connecting to: DESKTOP-EM9GKQH.abtlus.org.br:5064, Ignored: 10.15.5.147:38979\"\n",
      "    Source File: ../cac.cpp line 1320\n",
      "    Current Time: Wed Sep 04 2024 14:23:05.664258598\n",
      "..................................................................\n",
      "CA.Client.Exception...............................................\n",
      "    Warning: \"Identical process variable names on multiple servers\"\n",
      "    Context: \"Channel: \"TEST:MOTORS:m6.EGU\", Connecting to: DESKTOP-EM9GKQH.abtlus.org.br:5064, Ignored: 10.15.5.147:38979errlog: lost 20 messages\n",
      "CA.Client.Exception...............................................\n",
      "    Warning: \"Identical process variable names on multiple servers\"\n",
      "    Context: \"Channel: \"TEST:MOTORS:m6.HLS\", Connecting to: DESKTOP-EM9GKQH.abtlus.org.br:5064, Ignored: 10.15.5.147:38979\"\n",
      "    Source File: ../cac.cpp line 1320\n",
      "    Current Time: Wed Sep 04 2024 14:23:05.664275896\n",
      "..................................................................\n",
      "CA.Client.Exception...............................................\n",
      "    Warning: \"Identical process variable names on multiple servers\"\n",
      "    Context: \"Channel: \"TEST:MOTORS:m6.LLS\", Connecting to: DESKTOP-EM9GKQH.abtlus.org.br:5064, Ignored: 10.15.5.147:38979\"\n",
      "    Source File: ../cac.cpp line 1320\n",
      "    Current Time: Wed Sep 04 2024 14:23:05.664281365\n",
      "..................................................................\n",
      "CA.Client.Exception...............................................\n",
      "    Warning: \"Identical process variable names on multiple servers\"\n",
      "    Context: \"Channel: \"TEST:MOTORS:m6.HLM\", Connecting to: DESKTOP-EM9GKQH.abtlus.org.br:5064, Ignored: 10.15.5.147:38979errlog: lost 4 messages\n",
      "CA.Client.Exception...............................................\n",
      "    Warning: \"Identical process variable names on multiple servers\"\n",
      "    Context: \"Channel: \"TEST:MOTORS:m6.LLM\", Connecting to: DESKTOP-EM9GKQH.abtlus.org.br:5064, Ignored: 10.15.5.147:38979\"\n",
      "    Source File: ../cac.cpp line 1320\n",
      "    Current Time: Wed Sep 04 2024 14:23:05.664291595\n",
      "..................................................................\n",
      "CA.Client.Exception...............................................\n",
      "    Warning: \"Identical process variable names on multiple servers\"\n",
      "    Context: \"Channel: \"TEST:MOTORS:m6.TDIR\", Connecting to: DESKTOP-EM9GKQH.abtlus.org.br:5064, Ignored: 10.15.5.147:38979\"\n",
      "    Source File: ../cac.cpp line 1320\n",
      "    Current Time: Wed Sep 04 2024 14:23:05.664297209\n",
      "..................................................................\n",
      "CA.Client.Exception...............................................\n",
      "    Warning: \"Identical process variable names on multiple servers\"\n",
      "    Context: \"Channel: \"TEST:MOTORS:m6.STOP\", Connecting to: DESKTOP-EM9GKQH.abtlus.org.br:5064, Ignored: 10.15.5.147:38979errlog: lost 2 messages\n",
      "    Current Time: Wed Sep 04 2024 14:23:05.664302540\n",
      "..................................................................\n",
      "CA.Client.Exception...............................................\n",
      "    Warning: \"Identical process variable names on multiple servers\"\n",
      "    Context: \"Channel: \"TEST:MOTORS:m6.HOMF\", Connecting to: DESKTOP-EM9GKQH.abtlus.org.br:5064, Ignored: 10.15.5.147:38979\"\n",
      "    Source File: ../cac.cpp line 1320\n",
      "    Current Time: Wed Sep 04 2024 14:23:05.664308625\n",
      "..................................................................\n",
      "CA.Client.Exception...............................................\n",
      "    Warning: \"Identical process variable names on multiple servers\"\n",
      "    Context: \"Channel: \"TEST:MOTORS:m6.HOMR\", Connecting to: DESKTOP-EM9GKQH.abtlus.org.br:5064, Ignored: 10.15.5.147:38979\"\n",
      "    Source File: ../cac.cpp line 1320\n",
      "    Current Time: Wed Sep 04 2024 14:23:05.664314058\n",
      "..................................................................\n",
      "CA.Client.Exception...............................................\n",
      "    Warning: \"Identical process variable names on multiple servers\"\n",
      "    Context: \"Channel: \"TEST:MOTORS:m7.RBV\", Connecting to: DESKTOP-EM9GKQH.abtlus.org.br:5064, Ignored: 10.15.5.147:38979\"\n",
      "    Source File: ../cac.cpp line 1320\n",
      "    Current Time: Wed Sep 04 2024 14:23:05.664319705\n",
      "..................................................................\n",
      "CA.Client.Exception...............................................\n",
      "    Warning: \"Identical process variable names on multiple servers\"\n",
      "    Context: \"Channel: \"TEST:MOTORS:m7.VAL\", Connecting to: DESKTOP-EM9GKQH.abtlus.org.br:5064, Ignored: 10.15.5.147:38979\"\n",
      "    Source File: ../cac.cpp line 1320\n",
      "    Current Time: Wed Sep 04 2024 14:23:05.664325350\n",
      "..................................................................\n",
      "CA.Client.Exception...............................................\n",
      "    Warning: \"Identical process variable names on multiple servers\"\n",
      "    Context: \"Channel: \"TEST:MOTORS:m7.OFF\", Connecting to: DESKTOP-EM9GKQH.abtlus.org.br:5064, Ignored: 10.15.5.147:38979\"\n",
      "    Source File: ../cac.cpp line 1320\n",
      "    Current Time: Wed Sep 04 2024 14:23:05.664331068\n",
      "..................................................................\n",
      "CA.Client.Exception...............................................\n",
      "    Warning: \"Identical process variable names on multiple servers\"\n",
      "    Context: \"Channel: \"TEST:MOTORS:m7.DIR\", Connecting to: DESKTOP-EM9GKQH.abtlus.org.br:5064, Ignored: 10.15.5.147:38979\"\n",
      "    Source File: ../cac.cpp line 1320\n",
      "    Current Time: Wed Sep 04 2024 14:23:05.664336573\n",
      "..................................................................\n",
      "CA.Client.Exception...............................................\n",
      "    Warning: \"Identical process variable names on multiple servers\"\n",
      "    Context: \"Channel: \"TEST:MOTORS:m7.FOFF\", Connecting to: DESKTOP-EM9GKQH.abtlus.org.br:5064, Ignored: 10.15.5.147:38979\"\n",
      "    Source File: ../cac.cpp line 1320\n",
      "    Current Time: Wed Sep 04 2024 14:23:05.664342055\n",
      "..................................................................\n",
      "CA.Client.Exception...............................................\n",
      "    Warning: \"Identical process variable names on multiple servers\"\n",
      "    Context: \"Channel: \"TEST:MOTORS:m7.SET\", Connecting to: DESKTOP-EM9GKQH.abtlus.org.br:5064, Ignored: 10.15.5.147:38979\"\n",
      "    Source File: ../cac.cpp line 1320\n",
      "    Current Time: Wed Sep 04 2024 14:23:05.664347780\n",
      "..................................................................\n",
      "CA.Client.Exception...............................................\n",
      "    Warning: \"Identical process variable names on multiple servers\"\n",
      "    Context: \"Channel: \"TEST:MOTORS:m7.VELO\", Connecting to: DESKTOP-EM9GKQH.abtlus.org.br:5064, Ignored: 10.15.5.147:38979\"\n",
      "    Source File: ../cac.cpp line 1320\n",
      "    Current Time: Wed Sep 04 2024 14:23:05.664353512\n",
      "..................................................................\n",
      "CA.Client.Exception...............................................\n",
      "    Warning: \"Identical process variable names on multiple servers\"\n",
      "    Context: \"Channel: \"TEST:MOTORS:m7.ACCL\", Connecting to: DESKTOP-EM9GKQH.abtlus.org.br:5064, Ignored: 10.15.5.147:38979\"\n",
      "    Source File: ../cac.cpp line 1320\n",
      "    Current Time: Wed Sep 04 2024 14:23:05.664359166\n",
      "..................................................................\n",
      "CA.Client.Exception...............................................\n",
      "    Warning: \"Identical process variable names on multiple servers\"\n",
      "    Context: \"Channel: \"TEST:MOTORS:m7.EGU\", Connecting to: DESKTOP-EM9GKQH.abtlus.org.br:5064, Ignored: 10.15.5.147:38979\"\n",
      "    Source File: ../cac.cpp line 1320\n",
      "    Current Time: Wed Sep 04 2024 14:23:05.664365814\n",
      "..................................................................\n",
      "CA.Client.Exception...............................................\n",
      "    Warning: \"Identical process variable names on multiple servers\"\n",
      "    Context: \"Channel: \"TEST:MOTORS:m7.MOVN\", Connecting to: DESKTOP-EM9GKQH.abtlus.org.br:5064, Ignored: 10.15.5.147:38979\"\n",
      "    Source File: ../cac.cpp line 1320\n",
      "    Current Time: Wed Sep 04 2024 14:23:05.664371911\n",
      "..................................................................\n",
      "CA.Client.Exception...............................................\n",
      "    Warning: \"Identical process variable names on multiple servers\"\n",
      "    Context: \"Channel: \"TEST:MOTORS:m7.DMOV\", Connecting to: DESKTOP-EM9GKQH.abtlus.org.br:5064, Ignored: 10.15.5.147:38979\"\n",
      "    Source File: ../cac.cpp line 1320\n",
      "    Current Time: Wed Sep 04 2024 14:23:05.664384814\n",
      "..................................................................\n",
      "CA.Client.Exception...............................................\n",
      "    Warning: \"Identical process variable names on multiple servers\"\n",
      "    Context: \"Channel: \"TEST:MOTORS:m7.HLS\", Connecting to: DESKTOP-EM9GKQH.abtlus.org.br:5064, Ignored: 10.15.5.147:38979\"\n",
      "    Source File: ../cac.cpp line 1320\n",
      "    Current Time: Wed Sep 04 2024 14:23:05.664391914\n",
      "..................................................................\n",
      "CA.Client.Exception...............................................\n",
      "    Warning: \"Identical process variable names on multiple servers\"\n",
      "    Context: \"Channel: \"TEST:MOTORS:m7.LLS\", Connecting to: DESKTOP-EM9GKQH.abtlus.org.br:5064, Ignored: 10.15.5.147:38979\"\n",
      "    Source File: ../cac.cpp line 1320\n",
      "    Current Time: Wed Sep 04 2024 14:23:05.664397871\n",
      "..................................................................\n",
      "CA.Client.Exception...............................................\n",
      "    Warning: \"Identical process variable names on multiple servers\"\n",
      "    Context: \"Channel: \"TEST:MOTORS:m7.HLM\", Connecting to: DESKTOP-EM9GKQH.abtlus.org.br:5064, Ignored: 10.15.5.147:38979\"\n",
      "    Source File: ../cac.cpp line 1320\n",
      "    Current Time: Wed Sep 04 2024 14:23:05.664403711\n",
      "..................................................................\n",
      "CA.Client.Exception...............................................\n",
      "    Warning: \"Identical process variable names on multiple servers\"\n",
      "    Context: \"Channel: \"TEST:MOTORS:m7.LLM\", Connecting to: DESKTOP-EM9GKQH.abtlus.org.br:5064, Ignored: 10.15.5.147:38979\"\n",
      "    Source File: ../cac.cpp line 1320\n",
      "    Current Time: Wed Sep 04 2024 14:23:05.664410049\n",
      "..................................................................\n",
      "CA.Client.Exception...............................................\n",
      "    Warning: \"Identical process variable names on multiple servers\"\n",
      "    Context: \"Channel: \"TEST:MOTORS:m7.TDIR\", Connecting to: DESKTOP-EM9GKQH.abtlus.org.br:5064, Ignored: 10.15.5.147:38979\"\n",
      "    Source File: ../cac.cpp line 1320\n",
      "    Current Time: Wed Sep 04 2024 14:23:05.664422059\n",
      "..................................................................\n",
      "CA.Client.Exception...............................................\n",
      "    Warning: \"Identical process variable names on multiple servers\"\n",
      "    Context: \"Channel: \"TEST:MOTORS:m7.STOP\", Connecting to: DESKTOP-EM9GKQH.abtlus.org.br:5064, Ignored: 10.15.5.147:38979\"\n",
      "    Source File: ../cac.cpp line 1320\n",
      "    Current Time: Wed Sep 04 2024 14:23:05.664430413\n",
      "..................................................................\n",
      "CA.Client.Exception...............................................\n",
      "    Warning: \"Identical process variable names on multiple servers\"\n",
      "    Context: \"Channel: \"TEST:MOTORS:m7.HOMF\", Connecting to: DESKTOP-EM9GKQH.abtlus.org.br:5064, Ignored: 10.15.5.147:38979\"\n",
      "    Source File: ../cac.cpp line 1320\n",
      "    Current Time: Wed Sep 04 2024 14:23:05.664442276\n",
      "..................................................................\n",
      "CA.Client.Exception...............................................\n",
      "    Warning: \"Identical process variable names on multiple servers\"\n",
      "    Context: \"Channel: \"TEST:MOTORS:m7.HOMR\", Connecting to: DESKTOP-EM9GKQH.abtlus.org.br:5064, Ignored: 10.15.5.147:38979\"\n",
      "    Source File: ../cac.cpp line 1320\n",
      "    Current Time: Wed Sep 04 2024 14:23:05.664449158\n",
      "..................................................................\n",
      "CA.Client.Exception...............................................\n",
      "    Warning: \"Identical process variable names on multiple servers\"\n",
      "    Context: \"Channel: \"TEST:MOTORS:m8.RBV\", Connecting to: DESKTOP-EM9GKQH.abtlus.org.br:5064, Ignored: 10.15.5.147:38979\"\n",
      "    Source File: ../cac.cpp line 1320\n",
      "    Current Time: Wed Sep 04 2024 14:23:05.664455901\n",
      "..................................................................\n",
      "CA.Client.Exception...............................................\n",
      "    Warning: \"Identical process variable names on multiple servers\"\n",
      "    Context: \"Channel: \"TEST:MOTORS:m8.VAL\", Connecting to: DESKTOP-EM9GKQH.abtlus.org.br:5064, Ignored: 10.15.5.147:38979\"\n",
      "    Source File: ../cac.cpp line 1320\n",
      "    Current Time: Wed Sep 04 2024 14:23:05.664464856\n",
      "..................................................................\n",
      "CA.Client.Exception...............................................\n",
      "    Warning: \"Identical process variable names on multiple servers\"\n",
      "    Context: \"Channel: \"TEST:MOTORS:m8.OFF\", Connecting to: DESKTOP-EM9GKQH.abtlus.org.br:5064, Ignored: 10.15.5.147:38979\"\n",
      "    Source File: ../cac.cpp line 1320\n",
      "    Current Time: Wed Sep 04 2024 14:23:05.664471477\n",
      "..................................................................\n",
      "CA.Client.Exception...............................................\n",
      "    Warning: \"Identical process variable names on multiple servers\"\n",
      "    Context: \"Channel: \"TEST:MOTORS:m8.DIR\", Connecting to: DESKTOP-EM9GKQH.abtlus.org.br:5064, Ignored: 10.15.5.147:38979\"\n",
      "    Source File: ../cac.cpp line 1320\n",
      "    Current Time: Wed Sep 04 2024 14:23:05.664477564\n",
      "..................................................................\n",
      "CA.Client.Exception...............................................\n",
      "    Warning: \"Identical process variable names on multiple servers\"\n",
      "    Context: \"Channel: \"TEST:MOTORS:m8.FOFF\", Connecting to: DESKTOP-EM9GKQH.abtlus.org.br:5064, Ignored: 10.15.5.147:38979\"\n",
      "    Source File: ../cac.cpp line 1320\n",
      "    Current Time: Wed Sep 04 2024 14:23:05.664484425\n",
      "..................................................................\n",
      "CA.Client.Exception...............................................\n",
      "    Warning: \"Identical process variable names on multiple servers\"\n",
      "    Context: \"Channel: \"TEST:MOTORS:m8.SET\", Connecting to: DESKTOP-EM9GKQH.abtlus.org.br:5064, Ignored: 10.15.5.147:38979\"\n",
      "    Source File: ../cac.cpp line 1320\n",
      "    Current Time: Wed Sep 04 2024 14:23:05.664496609\n",
      "..................................................................\n",
      "CA.Client.Exception...............................................\n",
      "    Warning: \"Identical process variable names on multiple servers\"\n",
      "    Context: \"Channel: \"TEST:MOTORS:m8.VELO\", Connecting to: DESKTOP-EM9GKQH.abtlus.org.br:5064, Ignored: 10.15.5.147:38979\"\n",
      "    Source File: ../cac.cpp line 1320\n",
      "    Current Time: Wed Sep 04 2024 14:23:05.664506839\n",
      "..................................................................\n",
      "CA.Client.Exception...............................................\n",
      "    Warning: \"Identical process variable names on multiple servers\"\n",
      "    Context: \"Channel: \"TEST:MOTORS:m8.ACCL\", Connecting to: DESKTOP-EM9GKQH.abtlus.org.br:5064, Ignored: 10.15.5.147:38979\"\n",
      "    Source File: ../cac.cpp line 1320\n",
      "    Current Time: Wed Sep 04 2024 14:23:05.664513601\n",
      "..................................................................\n",
      "CA.Client.Exception...............................................\n",
      "    Warning: \"Identical process variable names on multiple servers\"\n",
      "    Context: \"Channel: \"TEST:MOTORS:m8.EGU\", Connecting to: DESKTOP-EM9GKQH.abtlus.org.br:5064, Ignored: 10.15.5.147:38979\"\n",
      "    Source File: ../cac.cpp line 1320\n",
      "    Current Time: Wed Sep 04 2024 14:23:05.664519388\n",
      "..................................................................\n",
      "CA.Client.Exception...............................................\n",
      "    Warning: \"Identical process variable names on multiple servers\"\n",
      "    Context: \"Channel: \"TEST:MOTORS:m8.MOVN\", Connecting to: DESKTOP-EM9GKQH.abtlus.org.br:5064, Ignored: 10.15.5.147:38979\"\n",
      "    Source File: ../cac.cpp line 1320\n",
      "    Current Time: Wed Sep 04 2024 14:23:05.664532309\n",
      "..................................................................\n",
      "CA.Client.Exception...............................................\n",
      "    Warning: \"Identical process variable names on multiple servers\"\n",
      "    Context: \"Channel: \"TEST:MOTORS:m8.DMOV\", Connecting to: DESKTOP-EM9GKQH.abtlus.org.br:5064, Ignored: 10.15.5.147:38979\"\n",
      "    Source File: ../cac.cpp line 1320\n",
      "    Current Time: Wed Sep 04 2024 14:23:05.664539515\n",
      "..................................................................\n",
      "CA.Client.Exception...............................................\n",
      "    Warning: \"Identical process variable names on multiple servers\"\n",
      "    Context: \"Channel: \"TEST:MOTORS:m8.HLS\", Connecting to: DESKTOP-EM9GKQH.abtlus.org.br:5064, Ignored: 10.15.5.147:38979\"\n",
      "    Source File: ../cac.cpp line 1320\n",
      "    Current Time: Wed Sep 04 2024 14:23:05.664546412\n",
      "..................................................................\n",
      "CA.Client.Exception...............................................\n",
      "    Warning: \"Identical process variable names on multiple servers\"\n",
      "    Context: \"Channel: \"TEST:MOTORS:m8.LLS\", Connecting to: DESKTOP-EM9GKQH.abtlus.org.br:5064, Ignored: 10.15.5.147:38979\"\n",
      "    Source File: ../cac.cpp line 1320\n",
      "    Current Time: Wed Sep 04 2024 14:23:05.664557933\n",
      "..................................................................\n",
      "CA.Client.Exception...............................................\n",
      "    Warning: \"Identical process variable names on multiple servers\"\n",
      "    Context: \"Channel: \"TEST:MOTORS:m8.HLM\", Connecting to: DESKTOP-EM9GKQH.abtlus.org.br:5064, Ignored: 10.15.5.147:38979\"\n",
      "    Source File: ../cac.cpp line 1320\n",
      "    Current Time: Wed Sep 04 2024 14:23:05.664566284\n",
      "..................................................................\n",
      "CA.Client.Exception...............................................\n",
      "    Warning: \"Identical process variable names on multiple servers\"\n",
      "    Context: \"Channel: \"TEST:MOTORS:m8.LLM\", Connecting to: DESKTOP-EM9GKQH.abtlus.org.br:5064, Ignored: 10.15.5.147:38979\"\n",
      "    Source File: ../cac.cpp line 1320\n",
      "    Current Time: Wed Sep 04 2024 14:23:05.664572777\n",
      "..................................................................\n",
      "CA.Client.Exception...............................................\n",
      "    Warning: \"Identical process variable names on multiple servers\"\n",
      "    Context: \"Channel: \"TEST:MOTORS:m8.TDIR\", Connecting to: DESKTOP-EM9GKQH.abtlus.org.br:5064, Ignored: 10.15.5.147:38979\"\n",
      "    Source File: ../cac.cpp line 1320\n",
      "    Current Time: Wed Sep 04 2024 14:23:05.664585454\n",
      "..................................................................\n",
      "CA.Client.Exception...............................................\n",
      "    Warning: \"Identical process variable names on multiple servers\"\n",
      "    Context: \"Channel: \"TEST:MOTORS:m8.STOP\", Connecting to: DESKTOP-EM9GKQH.abtlus.org.br:5064, Ignored: 10.15.5.147:38979\"\n",
      "    Source File: ../cac.cpp line 1320\n",
      "    Current Time: Wed Sep 04 2024 14:23:05.664592909\n",
      "..................................................................\n",
      "CA.Client.Exception...............................................\n",
      "    Warning: \"Identical process variable names on multiple servers\"\n",
      "    Context: \"Channel: \"TEST:MOTORS:m8.HOMF\", Connecting to: DESKTOP-EM9GKQH.abtlus.org.br:5064, Ignored: 10.15.5.147:38979\"\n",
      "    Source File: ../cac.cpp line 1320\n",
      "    Current Time: Wed Sep 04 2024 14:23:05.664608802\n",
      "..................................................................\n",
      "CA.Client.Exception...............................................\n",
      "    Warning: \"Identical process variable names on multiple servers\"\n",
      "    Context: \"Channel: \"TEST:MOTORS:m8.HOMR\", Connecting to: DESKTOP-EM9GKQH.abtlus.org.br:5064, Ignored: 10.15.5.147:38979\"\n",
      "    Source File: ../cac.cpp line 1320\n",
      "    Current Time: Wed Sep 04 2024 14:23:05.665340909\n",
      "..................................................................\n",
      "CA.Client.Exception...............................................\n",
      "    Warning: \"Identical process variable names on multiple servers\"\n",
      "    Context: \"Channel: \"TEST:MOTORS:m1.RBV\", Connecting to: DESKTOP-EM9GKQH.abtlus.org.br:5064, Ignored: 10.15.5.147:38979\"\n",
      "    Source File: ../cac.cpp line 1320\n",
      "    Current Time: Wed Sep 04 2024 14:23:05.667445167\n",
      "..................................................................\n",
      "CA.Client.Exception...............................................\n",
      "    Warning: \"Identical process variable names on multiple servers\"\n",
      "    Context: \"Channel: \"TEST:MOTORS:m1.VAL\", Connecting to: DESKTOP-EM9GKQH.abtlus.org.br:5064, Ignored: 10.15.5.147:38979\"\n",
      "    Source File: ../cac.cpp line 1320\n",
      "    Current Time: Wed Sep 04 2024 14:23:05.670893979\n",
      "..................................................................\n",
      "CA.Client.Exception...............................................\n",
      "    Warning: \"Identical process variable names on multiple servers\"\n",
      "    Context: \"Channel: \"TEST:MOTORS:m1.OFF\", Connecting to: DESKTOP-EM9GKQH.abtlus.org.br:5064, Ignored: 10.15.5.147:38979\"\n",
      "    Source File: ../cac.cpp line 1320\n",
      "    Current Time: Wed Sep 04 2024 14:23:05.674305670\n",
      "..................................................................\n",
      "CA.Client.Exception...............................................\n",
      "    Warning: \"Identical process variable names on multiple servers\"\n",
      "    Context: \"Channel: \"TEST:MOTORS:m1.DIR\", Connecting to: DESKTOP-EM9GKQH.abtlus.org.br:5064, Ignored: 10.15.5.147:38979\"\n",
      "    Source File: ../cac.cpp line 1320\n",
      "    Current Time: Wed Sep 04 2024 14:23:05.677679657\n",
      "..................................................................\n",
      "CA.Client.Exception...............................................\n",
      "    Warning: \"Identical process variable names on multiple servers\"\n",
      "    Context: \"Channel: \"TEST:MOTORS:m1.FOFF\", Connecting to: DESKTOP-EM9GKQH.abtlus.org.br:5064, Ignored: 10.15.5.147:38979\"\n",
      "    Source File: ../cac.cpp line 1320\n",
      "    Current Time: Wed Sep 04 2024 14:23:05.680412605\n",
      "..................................................................\n",
      "CA.Client.Exception...............................................\n",
      "    Warning: \"Identical process variable names on multiple servers\"\n",
      "    Context: \"Channel: \"TEST:MOTORS:m1.SET\", Connecting to: DESKTOP-EM9GKQH.abtlus.org.br:5064, Ignored: 10.15.5.147:38979\"\n",
      "    Source File: ../cac.cpp line 1320\n",
      "    Current Time: Wed Sep 04 2024 14:23:05.683659456\n",
      "..................................................................\n",
      "CA.Client.Exception...............................................\n",
      "    Warning: \"Identical process variable names on multiple servers\"\n",
      "    Context: \"Channel: \"TEST:MOTORS:m1.VELO\", Connecting to: DESKTOP-EM9GKQH.abtlus.org.br:5064, Ignored: 10.15.5.147:38979\"\n",
      "    Source File: ../cac.cpp line 1320\n",
      "    Current Time: Wed Sep 04 2024 14:23:05.686875966\n",
      "..................................................................\n",
      "CA.Client.Exception...............................................\n",
      "    Warning: \"Identical process variable names on multiple servers\"\n",
      "    Context: \"Channel: \"TEST:MOTORS:m1.ACCL\", Connecting to: DESKTOP-EM9GKQH.abtlus.org.br:5064, Ignored: 10.15.5.147:38979\"\n",
      "    Source File: ../cac.cpp line 1320\n",
      "    Current Time: Wed Sep 04 2024 14:23:05.690058939\n",
      "..................................................................\n",
      "CA.Client.Exception...............................................\n",
      "    Warning: \"Identical process variable names on multiple servers\"\n",
      "    Context: \"Channel: \"TEST:MOTORS:m1.EGU\", Connecting to: DESKTOP-EM9GKQH.abtlus.org.br:5064, Ignored: 10.15.5.147:38979\"\n",
      "    Source File: ../cac.cpp line 1320\n",
      "    Current Time: Wed Sep 04 2024 14:23:05.693291328\n",
      "..................................................................\n",
      "CA.Client.Exception...............................................\n",
      "    Warning: \"Identical process variable names on multiple servers\"\n",
      "    Context: \"Channel: \"TEST:MOTORS:m1.MOVN\", Connecting to: DESKTOP-EM9GKQH.abtlus.org.br:5064, Ignored: 10.15.5.147:38979\"\n",
      "    Source File: ../cac.cpp line 1320\n",
      "    Current Time: Wed Sep 04 2024 14:23:05.696476564\n",
      "..................................................................\n",
      "CA.Client.Exception...............................................\n",
      "    Warning: \"Identical process variable names on multiple servers\"\n",
      "    Context: \"Channel: \"TEST:MOTORS:m1.DMOV\", Connecting to: DESKTOP-EM9GKQH.abtlus.org.br:5064, Ignored: 10.15.5.147:38979\"\n",
      "    Source File: ../cac.cpp line 1320\n",
      "    Current Time: Wed Sep 04 2024 14:23:05.699667926\n",
      "..................................................................\n",
      "CA.Client.Exception...............................................\n",
      "    Warning: \"Identical process variable names on multiple servers\"\n",
      "    Context: \"Channel: \"TEST:MOTORS:m1.HLS\", Connecting to: DESKTOP-EM9GKQH.abtlus.org.br:5064, Ignored: 10.15.5.147:38979\"\n",
      "    Source File: ../cac.cpp line 1320\n",
      "    Current Time: Wed Sep 04 2024 14:23:05.702959432\n",
      "..................................................................\n",
      "CA.Client.Exception...............................................\n",
      "    Warning: \"Identical process variable names on multiple servers\"\n",
      "    Context: \"Channel: \"TEST:MOTORS:m1.LLS\", Connecting to: DESKTOP-EM9GKQH.abtlus.org.br:5064, Ignored: 10.15.5.147:38979\"\n",
      "    Source File: ../cac.cpp line 1320\n",
      "    Current Time: Wed Sep 04 2024 14:23:05.706225765\n",
      "..................................................................\n",
      "CA.Client.Exception...............................................\n",
      "    Warning: \"Identical process variable names on multiple servers\"\n",
      "    Context: \"Channel: \"TEST:MOTORS:m1.HLM\", Connecting to: DESKTOP-EM9GKQH.abtlus.org.br:5064, Ignored: 10.15.5.147:38979\"\n",
      "    Source File: ../cac.cpp line 1320\n",
      "    Current Time: Wed Sep 04 2024 14:23:05.709298847\n",
      "..................................................................\n",
      "CA.Client.Exception...............................................\n",
      "    Warning: \"Identical process variable names on multiple servers\"\n",
      "    Context: \"Channel: \"TEST:MOTORS:m1.LLM\", Connecting to: DESKTOP-EM9GKQH.abtlus.org.br:5064, Ignored: 10.15.5.147:38979\"\n",
      "    Source File: ../cac.cpp line 1320\n",
      "    Current Time: Wed Sep 04 2024 14:23:05.712706014\n",
      "..................................................................\n",
      "CA.Client.Exception...............................................\n",
      "    Warning: \"Identical process variable names on multiple servers\"\n",
      "    Context: \"Channel: \"TEST:MOTORS:m1.TDIR\", Connecting to: DESKTOP-EM9GKQH.abtlus.org.br:5064, Ignored: 10.15.5.147:38979\"\n",
      "    Source File: ../cac.cpp line 1320\n",
      "    Current Time: Wed Sep 04 2024 14:23:05.715885539\n",
      "..................................................................\n",
      "CA.Client.Exception...............................................\n",
      "    Warning: \"Identical process variable names on multiple servers\"\n",
      "    Context: \"Channel: \"TEST:MOTORS:m1.STOP\", Connecting to: DESKTOP-EM9GKQH.abtlus.org.br:5064, Ignored: 10.15.5.147:38979\"\n",
      "    Source File: ../cac.cpp line 1320\n",
      "    Current Time: Wed Sep 04 2024 14:23:05.719029193\n",
      "..................................................................\n"
     ]
    }
   ],
   "source": [
    "sample_stage = SampleMotor('TEST:MOTORS:', name='sample_stage')"
   ]
  },
  {
   "cell_type": "markdown",
   "id": "70e4d727-e11b-4d96-a3d1-a3c27f1cf6a9",
   "metadata": {
    "slideshow": {
     "slide_type": "slide"
    }
   },
   "source": [
    "O atributo kind identifica um sinal que será utilizado em um callback. Por exemplo, em callbacks que realizam plots esse atributo é utilizado para determinar os eixos do plot. Tipos de kind:\n",
    "- config\n",
    "- hinted\n",
    "- normal\n",
    "- ommited"
   ]
  },
  {
   "cell_type": "code",
   "execution_count": 30,
   "id": "f5967648-6a01-4ce0-9b6b-e8c61410d02e",
   "metadata": {
    "slideshow": {
     "slide_type": "fragment"
    }
   },
   "outputs": [
    {
     "data": {
      "text/plain": [
       "OrderedDict([('sample_stage_x',\n",
       "              {'value': 9.0, 'timestamp': 1725470583.455456}),\n",
       "             ('sample_stage_x_user_setpoint',\n",
       "              {'value': 9.0, 'timestamp': 1725470583.455456}),\n",
       "             ('sample_stage_y',\n",
       "              {'value': 20.0, 'timestamp': 1725456829.013889}),\n",
       "             ('sample_stage_y_user_setpoint',\n",
       "              {'value': 20.0, 'timestamp': 1725456829.013889}),\n",
       "             ('sample_stage_z',\n",
       "              {'value': 0.0, 'timestamp': 1725451967.754324}),\n",
       "             ('sample_stage_z_user_setpoint',\n",
       "              {'value': 0.0, 'timestamp': 1725451967.754324}),\n",
       "             ('sample_stage_rx',\n",
       "              {'value': 0.0, 'timestamp': 1725451967.754335}),\n",
       "             ('sample_stage_rx_user_setpoint',\n",
       "              {'value': 0.0, 'timestamp': 1725451967.754335}),\n",
       "             ('sample_stage_ry',\n",
       "              {'value': 0.0, 'timestamp': 1725451967.754347}),\n",
       "             ('sample_stage_ry_user_setpoint',\n",
       "              {'value': 0.0, 'timestamp': 1725451967.754347}),\n",
       "             ('sample_stage_rz',\n",
       "              {'value': 0.0, 'timestamp': 1725451967.754357}),\n",
       "             ('sample_stage_rz_user_setpoint',\n",
       "              {'value': 0.0, 'timestamp': 1725451967.754357}),\n",
       "             ('sample_stage_utg',\n",
       "              {'value': 0.0, 'timestamp': 1725451967.754369}),\n",
       "             ('sample_stage_utg_user_setpoint',\n",
       "              {'value': 0.0, 'timestamp': 1725451967.754369}),\n",
       "             ('sample_stage_uth',\n",
       "              {'value': 0.0, 'timestamp': 1725451967.75438}),\n",
       "             ('sample_stage_uth_user_setpoint',\n",
       "              {'value': 0.0, 'timestamp': 1725451967.75438})])"
      ]
     },
     "execution_count": 30,
     "metadata": {},
     "output_type": "execute_result"
    },
    {
     "name": "stderr",
     "output_type": "stream",
     "text": [
      "CA.Client.Exception...............................................\n",
      "    Warning: \"Virtual circuit disconnect\"\n",
      "    Context: \"DESKTOP-EM9GKQH.abtlus.org.br:46773\"\n",
      "    Source File: ../cac.cpp line 1237\n",
      "    Current Time: Wed Sep 04 2024 14:24:43.747093917\n",
      "..................................................................\n",
      "CA.Client.Exception...............................................\n",
      "    Warning: \"Virtual circuit disconnect\"\n",
      "    Context: \"DESKTOP-EM9GKQH.abtlus.org.br:5064\"\n",
      "    Source File: ../cac.cpp line 1237\n",
      "    Current Time: Wed Sep 04 2024 14:25:06.997810163\n",
      "..................................................................\n"
     ]
    }
   ],
   "source": [
    "sample_stage.read()"
   ]
  },
  {
   "cell_type": "code",
   "execution_count": 27,
   "id": "36690c98-3967-4cc6-b738-b864c89840bc",
   "metadata": {
    "scrolled": true,
    "slideshow": {
     "slide_type": "subslide"
    }
   },
   "outputs": [
    {
     "data": {
      "text/plain": [
       "OrderedDict([('sample_stage_x_user_offset',\n",
       "              {'value': 0.0, 'timestamp': 1725453737.879517}),\n",
       "             ('sample_stage_x_user_offset_dir',\n",
       "              {'value': 0, 'timestamp': 1725453737.879517}),\n",
       "             ('sample_stage_x_velocity',\n",
       "              {'value': 100.0, 'timestamp': 1725453737.879517}),\n",
       "             ('sample_stage_x_acceleration',\n",
       "              {'value': 1.0, 'timestamp': 1725453737.879517}),\n",
       "             ('sample_stage_x_motor_egu',\n",
       "              {'value': 'degrees', 'timestamp': 1725453737.879517}),\n",
       "             ('sample_stage_y_user_offset',\n",
       "              {'value': 0.0, 'timestamp': 1725451967.754311}),\n",
       "             ('sample_stage_y_user_offset_dir',\n",
       "              {'value': 0, 'timestamp': 1725451967.754311}),\n",
       "             ('sample_stage_y_velocity',\n",
       "              {'value': 100.0, 'timestamp': 1725451967.754311}),\n",
       "             ('sample_stage_y_acceleration',\n",
       "              {'value': 1.0, 'timestamp': 1725451967.754311}),\n",
       "             ('sample_stage_y_motor_egu',\n",
       "              {'value': 'degrees', 'timestamp': 1725451967.754311}),\n",
       "             ('sample_stage_z_user_offset',\n",
       "              {'value': 0.0, 'timestamp': 1725451967.754324}),\n",
       "             ('sample_stage_z_user_offset_dir',\n",
       "              {'value': 0, 'timestamp': 1725451967.754324}),\n",
       "             ('sample_stage_z_velocity',\n",
       "              {'value': 100.0, 'timestamp': 1725451967.754324}),\n",
       "             ('sample_stage_z_acceleration',\n",
       "              {'value': 1.0, 'timestamp': 1725451967.754324}),\n",
       "             ('sample_stage_z_motor_egu',\n",
       "              {'value': 'degrees', 'timestamp': 1725451967.754324}),\n",
       "             ('sample_stage_rx_user_offset',\n",
       "              {'value': 0.0, 'timestamp': 1725451967.754335}),\n",
       "             ('sample_stage_rx_user_offset_dir',\n",
       "              {'value': 0, 'timestamp': 1725451967.754335}),\n",
       "             ('sample_stage_rx_velocity',\n",
       "              {'value': 100.0, 'timestamp': 1725451967.754335}),\n",
       "             ('sample_stage_rx_acceleration',\n",
       "              {'value': 1.0, 'timestamp': 1725451967.754335}),\n",
       "             ('sample_stage_rx_motor_egu',\n",
       "              {'value': 'degrees', 'timestamp': 1725451967.754335}),\n",
       "             ('sample_stage_ry_user_offset',\n",
       "              {'value': 0.0, 'timestamp': 1725451967.754347}),\n",
       "             ('sample_stage_ry_user_offset_dir',\n",
       "              {'value': 0, 'timestamp': 1725451967.754347}),\n",
       "             ('sample_stage_ry_velocity',\n",
       "              {'value': 100.0, 'timestamp': 1725451967.754347}),\n",
       "             ('sample_stage_ry_acceleration',\n",
       "              {'value': 1.0, 'timestamp': 1725451967.754347}),\n",
       "             ('sample_stage_ry_motor_egu',\n",
       "              {'value': 'degrees', 'timestamp': 1725451967.754347}),\n",
       "             ('sample_stage_rz_user_offset',\n",
       "              {'value': 0.0, 'timestamp': 1725451967.754357}),\n",
       "             ('sample_stage_rz_user_offset_dir',\n",
       "              {'value': 0, 'timestamp': 1725451967.754357}),\n",
       "             ('sample_stage_rz_velocity',\n",
       "              {'value': 100.0, 'timestamp': 1725451967.754357}),\n",
       "             ('sample_stage_rz_acceleration',\n",
       "              {'value': 1.0, 'timestamp': 1725451967.754357}),\n",
       "             ('sample_stage_rz_motor_egu',\n",
       "              {'value': 'degrees', 'timestamp': 1725451967.754357}),\n",
       "             ('sample_stage_utg_user_offset',\n",
       "              {'value': 0.0, 'timestamp': 1725451967.754369}),\n",
       "             ('sample_stage_utg_user_offset_dir',\n",
       "              {'value': 0, 'timestamp': 1725451967.754369}),\n",
       "             ('sample_stage_utg_velocity',\n",
       "              {'value': 100.0, 'timestamp': 1725451967.754369}),\n",
       "             ('sample_stage_utg_acceleration',\n",
       "              {'value': 1.0, 'timestamp': 1725451967.754369}),\n",
       "             ('sample_stage_utg_motor_egu',\n",
       "              {'value': 'degrees', 'timestamp': 1725451967.754369}),\n",
       "             ('sample_stage_uth_user_offset',\n",
       "              {'value': 0.0, 'timestamp': 1725451967.75438}),\n",
       "             ('sample_stage_uth_user_offset_dir',\n",
       "              {'value': 0, 'timestamp': 1725451967.75438}),\n",
       "             ('sample_stage_uth_velocity',\n",
       "              {'value': 100.0, 'timestamp': 1725451967.75438}),\n",
       "             ('sample_stage_uth_acceleration',\n",
       "              {'value': 1.0, 'timestamp': 1725451967.75438}),\n",
       "             ('sample_stage_uth_motor_egu',\n",
       "              {'value': 'degrees', 'timestamp': 1725451967.75438})])"
      ]
     },
     "execution_count": 27,
     "metadata": {},
     "output_type": "execute_result"
    }
   ],
   "source": [
    "sample_stage.read_configuration()"
   ]
  },
  {
   "cell_type": "code",
   "execution_count": 28,
   "id": "fb5110bc-df9b-41e4-8d4f-e47e5b81b589",
   "metadata": {
    "slideshow": {
     "slide_type": "subslide"
    }
   },
   "outputs": [
    {
     "data": {
      "text/plain": [
       "<Kind.normal|config|hinted: 7>"
      ]
     },
     "execution_count": 28,
     "metadata": {},
     "output_type": "execute_result"
    }
   ],
   "source": [
    "sample_stage.x.kind"
   ]
  },
  {
   "cell_type": "code",
   "execution_count": 29,
   "id": "7946d3fb",
   "metadata": {},
   "outputs": [
    {
     "data": {
      "text/plain": [
       "<Kind.config: 2>"
      ]
     },
     "execution_count": 29,
     "metadata": {},
     "output_type": "execute_result"
    }
   ],
   "source": [
    "sample_stage.uth.velocity.kind"
   ]
  },
  {
   "cell_type": "code",
   "execution_count": 46,
   "id": "10b6e967",
   "metadata": {
    "slideshow": {
     "slide_type": "fragment"
    }
   },
   "outputs": [
    {
     "name": "stdout",
     "output_type": "stream",
     "text": [
      "data keys (* hints)\n",
      "-------------------\n",
      "*sample_stage_rx\n",
      " sample_stage_rx_user_setpoint\n",
      "*sample_stage_ry\n",
      " sample_stage_ry_user_setpoint\n",
      "*sample_stage_rz\n",
      " sample_stage_rz_user_setpoint\n",
      "*sample_stage_utg\n",
      " sample_stage_utg_user_setpoint\n",
      "*sample_stage_uth\n",
      " sample_stage_uth_user_setpoint\n",
      "*sample_stage_x\n",
      " sample_stage_x_user_setpoint\n",
      "*sample_stage_y\n",
      " sample_stage_y_user_setpoint\n",
      "*sample_stage_z\n",
      " sample_stage_z_user_setpoint\n",
      "\n",
      "read attrs\n",
      "----------\n",
      "x                    EpicsMotor          ('sample_stage_x')\n",
      "x.user_readback      EpicsSignalRO       ('sample_stage_x')\n",
      "x.user_setpoint      EpicsSignal         ('sample_stage_x_user_setpoint')\n",
      "y                    EpicsMotor          ('sample_stage_y')\n",
      "y.user_readback      EpicsSignalRO       ('sample_stage_y')\n",
      "y.user_setpoint      EpicsSignal         ('sample_stage_y_user_setpoint')\n",
      "z                    EpicsMotor          ('sample_stage_z')\n",
      "z.user_readback      EpicsSignalRO       ('sample_stage_z')\n",
      "z.user_setpoint      EpicsSignal         ('sample_stage_z_user_setpoint')\n",
      "rx                   EpicsMotor          ('sample_stage_rx')\n",
      "rx.user_readback     EpicsSignalRO       ('sample_stage_rx')\n",
      "rx.user_setpoint     EpicsSignal         ('sample_stage_rx_user_setpoint')\n",
      "ry                   EpicsMotor          ('sample_stage_ry')\n",
      "ry.user_readback     EpicsSignalRO       ('sample_stage_ry')\n",
      "ry.user_setpoint     EpicsSignal         ('sample_stage_ry_user_setpoint')\n",
      "rz                   EpicsMotor          ('sample_stage_rz')\n",
      "rz.user_readback     EpicsSignalRO       ('sample_stage_rz')\n",
      "rz.user_setpoint     EpicsSignal         ('sample_stage_rz_user_setpoint')\n",
      "utg                  EpicsMotor          ('sample_stage_utg')\n",
      "utg.user_readback    EpicsSignalRO       ('sample_stage_utg')\n",
      "utg.user_setpoint    EpicsSignal         ('sample_stage_utg_user_setpoint')\n",
      "uth                  EpicsMotor          ('sample_stage_uth')\n",
      "uth.user_readback    EpicsSignalRO       ('sample_stage_uth')\n",
      "uth.user_setpoint    EpicsSignal         ('sample_stage_uth_user_setpoint')\n",
      "\n",
      "config keys\n",
      "-----------\n",
      "sample_stage_rx_acceleration\n",
      "sample_stage_rx_motor_egu\n",
      "sample_stage_rx_user_offset\n",
      "sample_stage_rx_user_offset_dir\n",
      "sample_stage_rx_velocity\n",
      "sample_stage_ry_acceleration\n",
      "sample_stage_ry_motor_egu\n",
      "sample_stage_ry_user_offset\n",
      "sample_stage_ry_user_offset_dir\n",
      "sample_stage_ry_velocity\n",
      "sample_stage_rz_acceleration\n",
      "sample_stage_rz_motor_egu\n",
      "sample_stage_rz_user_offset\n",
      "sample_stage_rz_user_offset_dir\n",
      "sample_stage_rz_velocity\n",
      "sample_stage_utg_acceleration\n",
      "sample_stage_utg_motor_egu\n",
      "sample_stage_utg_user_offset\n",
      "sample_stage_utg_user_offset_dir\n",
      "sample_stage_utg_velocity\n",
      "sample_stage_uth_acceleration\n",
      "sample_stage_uth_motor_egu\n",
      "sample_stage_uth_user_offset\n",
      "sample_stage_uth_user_offset_dir\n",
      "sample_stage_uth_velocity\n",
      "sample_stage_x_acceleration\n",
      "sample_stage_x_motor_egu\n",
      "sample_stage_x_user_offset\n",
      "sample_stage_x_user_offset_dir\n",
      "sample_stage_x_velocity\n",
      "sample_stage_y_acceleration\n",
      "sample_stage_y_motor_egu\n",
      "sample_stage_y_user_offset\n",
      "sample_stage_y_user_offset_dir\n",
      "sample_stage_y_velocity\n",
      "sample_stage_z_acceleration\n",
      "sample_stage_z_motor_egu\n",
      "sample_stage_z_user_offset\n",
      "sample_stage_z_user_offset_dir\n",
      "sample_stage_z_velocity\n",
      "\n",
      "configuration attrs\n",
      "-------------------\n",
      "x                    EpicsMotor          ('sample_stage_x')\n",
      "x.user_offset        EpicsSignal         ('sample_stage_x_user_offset')\n",
      "x.user_offset_dir    EpicsSignal         ('sample_stage_x_user_offset_dir')\n",
      "x.velocity           EpicsSignal         ('sample_stage_x_velocity')\n",
      "x.acceleration       EpicsSignal         ('sample_stage_x_acceleration')\n",
      "x.motor_egu          EpicsSignal         ('sample_stage_x_motor_egu')\n",
      "y                    EpicsMotor          ('sample_stage_y')\n",
      "y.user_offset        EpicsSignal         ('sample_stage_y_user_offset')\n",
      "y.user_offset_dir    EpicsSignal         ('sample_stage_y_user_offset_dir')\n",
      "y.velocity           EpicsSignal         ('sample_stage_y_velocity')\n",
      "y.acceleration       EpicsSignal         ('sample_stage_y_acceleration')\n",
      "y.motor_egu          EpicsSignal         ('sample_stage_y_motor_egu')\n",
      "z                    EpicsMotor          ('sample_stage_z')\n",
      "z.user_offset        EpicsSignal         ('sample_stage_z_user_offset')\n",
      "z.user_offset_dir    EpicsSignal         ('sample_stage_z_user_offset_dir')\n",
      "z.velocity           EpicsSignal         ('sample_stage_z_velocity')\n",
      "z.acceleration       EpicsSignal         ('sample_stage_z_acceleration')\n",
      "z.motor_egu          EpicsSignal         ('sample_stage_z_motor_egu')\n",
      "rx                   EpicsMotor          ('sample_stage_rx')\n",
      "rx.user_offset       EpicsSignal         ('sample_stage_rx_user_offset')\n",
      "rx.user_offset_dir   EpicsSignal         ('sample_stage_rx_user_offset_dir')\n",
      "rx.velocity          EpicsSignal         ('sample_stage_rx_velocity')\n",
      "rx.acceleration      EpicsSignal         ('sample_stage_rx_acceleration')\n",
      "rx.motor_egu         EpicsSignal         ('sample_stage_rx_motor_egu')\n",
      "ry                   EpicsMotor          ('sample_stage_ry')\n",
      "ry.user_offset       EpicsSignal         ('sample_stage_ry_user_offset')\n",
      "ry.user_offset_dir   EpicsSignal         ('sample_stage_ry_user_offset_dir')\n",
      "ry.velocity          EpicsSignal         ('sample_stage_ry_velocity')\n",
      "ry.acceleration      EpicsSignal         ('sample_stage_ry_acceleration')\n",
      "ry.motor_egu         EpicsSignal         ('sample_stage_ry_motor_egu')\n",
      "rz                   EpicsMotor          ('sample_stage_rz')\n",
      "rz.user_offset       EpicsSignal         ('sample_stage_rz_user_offset')\n",
      "rz.user_offset_dir   EpicsSignal         ('sample_stage_rz_user_offset_dir')\n",
      "rz.velocity          EpicsSignal         ('sample_stage_rz_velocity')\n",
      "rz.acceleration      EpicsSignal         ('sample_stage_rz_acceleration')\n",
      "rz.motor_egu         EpicsSignal         ('sample_stage_rz_motor_egu')\n",
      "utg                  EpicsMotor          ('sample_stage_utg')\n",
      "utg.user_offset      EpicsSignal         ('sample_stage_utg_user_offset')\n",
      "utg.user_offset_dir  EpicsSignal         ('sample_stage_utg_user_offset_dir')\n",
      "utg.velocity         EpicsSignal         ('sample_stage_utg_velocity')\n",
      "utg.acceleration     EpicsSignal         ('sample_stage_utg_acceleration')\n",
      "utg.motor_egu        EpicsSignal         ('sample_stage_utg_motor_egu')\n",
      "uth                  EpicsMotor          ('sample_stage_uth')\n",
      "uth.user_offset      EpicsSignal         ('sample_stage_uth_user_offset')\n",
      "uth.user_offset_dir  EpicsSignal         ('sample_stage_uth_user_offset_dir')\n",
      "uth.velocity         EpicsSignal         ('sample_stage_uth_velocity')\n",
      "uth.acceleration     EpicsSignal         ('sample_stage_uth_acceleration')\n",
      "uth.motor_egu        EpicsSignal         ('sample_stage_uth_motor_egu')\n",
      "\n",
      "unused attrs\n",
      "------------\n",
      "\n"
     ]
    }
   ],
   "source": [
    "sample_stage.summary()"
   ]
  },
  {
   "cell_type": "markdown",
   "id": "d4549031-2b48-439a-8b1e-71b5a2ae86ee",
   "metadata": {
    "slideshow": {
     "slide_type": "slide"
    }
   },
   "source": [
    "#### Para implementar o detector será necessário o uso de um Status Object diferente"
   ]
  },
  {
   "cell_type": "code",
   "execution_count": 30,
   "id": "96979b68-972c-4cf7-bcbd-2521360a9496",
   "metadata": {
    "slideshow": {
     "slide_type": "fragment"
    }
   },
   "outputs": [],
   "source": [
    "from ophyd.status import SubscriptionStatus"
   ]
  },
  {
   "cell_type": "markdown",
   "id": "501cc3ba-4c5d-4171-9db7-0e0fab426a23",
   "metadata": {
    "slideshow": {
     "slide_type": "slide"
    }
   },
   "source": [
    "### O SubscriptionStatus utiliza eventos Ophyd para se basear se o Status Object pode ser marcado como _finished_"
   ]
  },
  {
   "cell_type": "code",
   "execution_count": 31,
   "id": "f5de1add-23c8-492c-a462-fd5c362a71e1",
   "metadata": {
    "slideshow": {
     "slide_type": "fragment"
    }
   },
   "outputs": [],
   "source": [
    "class SampleDetector(Device):\n",
    "    acquisition_number = Cpt(EpicsSignalWithRBV, \"AcquisitionNumber\", kind=Kind.omitted)\n",
    "    \"\"\"Numero de aquisições realizadas até o momento.\"\"\"\n",
    "    trigger_signal = Cpt(EpicsSignalWithRBV, \"Trigger\", kind=Kind.omitted)\n",
    "    \"\"\"Sinal para iniciar uma nova aquisição.\"\"\"\n",
    "    data_signal = Cpt(EpicsSignalRO, \"Data_RBV\", kind=Kind.hinted)\n",
    "    \"\"\"Dados da última aquisição.\"\"\"\n",
    " \n",
    "    def trigger(self):\n",
    "        super_sts = super().trigger()\n",
    " \n",
    "        # Alternativa: Checar se Trigger_RBV foi para 0.\n",
    "        def check_value(*, old_value, value, **kwargs):\n",
    "            return (value == old_value + 1)\n",
    " \n",
    "        sts = SubscriptionStatus(self.acquisition_number, check_value)\n",
    "        self.trigger_signal.set(1)\n",
    " \n",
    "        return super_sts & sts"
   ]
  },
  {
   "cell_type": "markdown",
   "id": "a7969027-4a70-4e3b-b747-a20056f5879a",
   "metadata": {
    "slideshow": {
     "slide_type": "fragment"
    }
   },
   "source": [
    "Nesse exemplo, o SampleDetector implementa o método trigger (comumente utilizado em scans pelo BlueSky). Esse método é responsável por triggar o detector e reportar (via Status Object) quando o envento de trigger foi completado. O SubscriptionStatus verifica se o valor de AcquitionNumber_RBV é maior que o valor anterior para notificar que a aquisição finalizou"
   ]
  },
  {
   "cell_type": "code",
   "execution_count": 39,
   "id": "39af3eff-0f69-426f-81c7-d5e37d7d1f7d",
   "metadata": {
    "slideshow": {
     "slide_type": "slide"
    }
   },
   "outputs": [],
   "source": [
    "detector = SampleDetector('TEST:DETECTOR:', name='detector')"
   ]
  },
  {
   "cell_type": "code",
   "execution_count": 41,
   "id": "4e3d45b2-89f9-4743-aa7e-286ae1aa5f6e",
   "metadata": {
    "slideshow": {
     "slide_type": "fragment"
    }
   },
   "outputs": [],
   "source": [
    "detector.wait_for_connection(timeout=2)"
   ]
  },
  {
   "cell_type": "code",
   "execution_count": 42,
   "id": "6686fd3b-0fd6-4ed1-b270-67e4f4f08aa2",
   "metadata": {
    "slideshow": {
     "slide_type": "fragment"
    }
   },
   "outputs": [
    {
     "name": "stdout",
     "output_type": "stream",
     "text": [
      "data keys (* hints)\n",
      "-------------------\n",
      "*detector_data_signal\n",
      "\n",
      "read attrs\n",
      "----------\n",
      "data_signal          EpicsSignalRO       ('detector_data_signal')\n",
      "\n",
      "config keys\n",
      "-----------\n",
      "\n",
      "configuration attrs\n",
      "-------------------\n",
      "\n",
      "unused attrs\n",
      "------------\n",
      "acquisition_number   EpicsSignalWithRBV  ('detector_acquisition_number')\n",
      "trigger_signal       EpicsSignalWithRBV  ('detector_trigger_signal')\n",
      "\n"
     ]
    }
   ],
   "source": [
    "detector.summary()"
   ]
  },
  {
   "cell_type": "code",
   "execution_count": 43,
   "id": "1e6a4b6d",
   "metadata": {
    "slideshow": {
     "slide_type": "slide"
    }
   },
   "outputs": [
    {
     "data": {
      "text/plain": [
       "OrderedDict([('detector_data_signal',\n",
       "              {'source': 'PV:TEST:DETECTOR:Data_RBV',\n",
       "               'dtype': 'number',\n",
       "               'shape': [],\n",
       "               'units': '',\n",
       "               'lower_ctrl_limit': 0.0,\n",
       "               'upper_ctrl_limit': 0.0,\n",
       "               'precision': 0})])"
      ]
     },
     "execution_count": 43,
     "metadata": {},
     "output_type": "execute_result"
    }
   ],
   "source": [
    "detector.describe()"
   ]
  },
  {
   "cell_type": "code",
   "execution_count": 44,
   "id": "9370f20d",
   "metadata": {
    "slideshow": {
     "slide_type": "fragment"
    }
   },
   "outputs": [
    {
     "data": {
      "text/plain": [
       "OrderedDict([('detector_data_signal',\n",
       "              {'value': 98.37732362631239, 'timestamp': 1725453892.540498})])"
      ]
     },
     "execution_count": 44,
     "metadata": {},
     "output_type": "execute_result"
    }
   ],
   "source": [
    "detector.read()"
   ]
  },
  {
   "cell_type": "code",
   "execution_count": 45,
   "id": "251785ea",
   "metadata": {
    "slideshow": {
     "slide_type": "fragment"
    }
   },
   "outputs": [
    {
     "data": {
      "text/plain": [
       "OrderedDict()"
      ]
     },
     "execution_count": 45,
     "metadata": {},
     "output_type": "execute_result"
    }
   ],
   "source": [
    "detector.read_configuration()"
   ]
  },
  {
   "cell_type": "markdown",
   "id": "a9b761f0-efc7-47f1-a9f3-c08bdcdf235e",
   "metadata": {
    "slideshow": {
     "slide_type": "slide"
    }
   },
   "source": [
    "## Sophys Common - https://gitlab.cnpem.br/SOL/bluesky/sophys-common\n",
    "\n",
    "#### Sophys: Common is a collection of Bluesky and Ophyd utility code (plans, devices, and other useful stuff) for usage at LNLS/SIRIUS beamlines.\n",
    "#### Sophys stands for **S**irius **Ophy**d and Bluesky utilitie**s**. As an old wise monk once said, nothing beats a cool-looking name."
   ]
  },
  {
   "cell_type": "markdown",
   "id": "82bbd9ba-ad86-4bf5-93f2-5f3f115be7e7",
   "metadata": {
    "slideshow": {
     "slide_type": "fragment"
    }
   },
   "source": [
    "#### Referências: https://blueskyproject.io/ophyd/"
   ]
  }
 ],
 "metadata": {
  "celltoolbar": "Slideshow",
  "kernelspec": {
   "display_name": "Python 3 (ipykernel)",
   "language": "python",
   "name": "python3"
  },
  "language_info": {
   "codemirror_mode": {
    "name": "ipython",
    "version": 3
   },
   "file_extension": ".py",
   "mimetype": "text/x-python",
   "name": "python",
   "nbconvert_exporter": "python",
   "pygments_lexer": "ipython3",
   "version": "3.12.5"
  },
  "rise": {
   "enable_chalkboard": true,
   "scroll": true,
   "start_slideshow_at": "beginning",
   "theme": "sky"
  }
 },
 "nbformat": 4,
 "nbformat_minor": 5
}
